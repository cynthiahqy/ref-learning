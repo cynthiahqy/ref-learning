{
 "cells": [
  {
   "cell_type": "markdown",
   "metadata": {},
   "source": [
    "<br>\n",
    "<img style=\"float:left\" src=\"http://ipython.org/_static/IPy_header.png\" />\n",
    "<br>"
   ]
  },
  {
   "cell_type": "markdown",
   "metadata": {},
   "source": [
    "# Session 2: Loading text, tokenisation, tagging, dictionaries and ngrams"
   ]
  },
  {
   "cell_type": "code",
   "execution_count": 144,
   "metadata": {
    "collapsed": false
   },
   "outputs": [],
   "source": [
    "from __future__ import print_function, division\n",
    "\n",
    "import sys\n",
    "import nltk\n",
    "from IPython.display import display, clear_output\n",
    "sys.path.append(\"/usr/lib/python2.7/site-packages/\")\n",
    "%matplotlib inline"
   ]
  },
  {
   "cell_type": "code",
   "execution_count": 145,
   "metadata": {
    "collapsed": false
   },
   "outputs": [],
   "source": [
    "from nltk.book import *"
   ]
  },
  {
   "cell_type": "markdown",
   "metadata": {},
   "source": [
    "**Welcome back!**\n",
    "\n",
    "So, what did we learn yesterday? A brief recap:\n",
    "\n",
    "* The **IPython** Notebook\n",
    "* **Python**: syntax, variables, functions, etc.\n",
    "\n",
    "Today's focus will be on **developing more advanced NLTK skills** and using these skills to **investigate our own data**. \n",
    "\n",
    "*Any questions or anything before we dive in?*"
   ]
  },
  {
   "cell_type": "markdown",
   "metadata": {},
   "source": [
    "## Dirty data"
   ]
  },
  {
   "cell_type": "markdown",
   "metadata": {},
   "source": [
    "Now that we're going beyond nltk example data, we're bond to run into dirty data.\n",
    "\n",
    "A common part of corpus building is corpus cleaning. Reasons for cleaning include:\n",
    "\n",
    "1. Not break the code with unexpected input\n",
    "2. Ensure that searches match as many examples as possible\n",
    "3. Increasing readability, the accuracy of taggers, stemmers, parsers, etc.\n",
    "\n",
    "The level of kind of cleaning depends on your data, the aims of your project and where you are in your research. In the case of very clean data (lucky you!), there may be little that needs to be done. With messy data, you may need to go as far as to correct variant spellings (online conversation, very old books).\n",
    "\n",
    "If you need help with data cleaning, we offer trainings in [OpenRefine](https://github.com/yuandra/2016-02-01-data-acquisition-cleaning/blob/gh-pages/open-refine-01-intro.md)"
   ]
  },
  {
   "cell_type": "markdown",
   "metadata": {},
   "source": [
    "### Discussion"
   ]
  },
  {
   "cell_type": "markdown",
   "metadata": {},
   "source": [
    "*What are the characteristics of clean and messy data? Any personal experiences? Discuss with your neighbours.* \n",
    "\n",
    "It will be important to bear these characteristics in mind once you start building your own datasets and corpora. "
   ]
  },
  {
   "cell_type": "markdown",
   "metadata": {},
   "source": [
    "## Uploading text files"
   ]
  },
  {
   "cell_type": "markdown",
   "metadata": {},
   "source": [
    "First of all, let's load in our text.\n",
    "\n",
    "Google the Gutenberg Project and download a book as a plain text file. \n",
    "\n",
    "I chose [A Modest Proposal](https://www.gutenberg.org/ebooks/1080)\n",
    "\n",
    "We can also look at file contents within the IPython Notebook itself:"
   ]
  },
  {
   "cell_type": "code",
   "execution_count": 146,
   "metadata": {
    "collapsed": false
   },
   "outputs": [],
   "source": [
    "import os"
   ]
  },
  {
   "cell_type": "code",
   "execution_count": 147,
   "metadata": {
    "collapsed": false
   },
   "outputs": [],
   "source": [
    "# import tokenizers\n",
    "from nltk import word_tokenize\n",
    "from nltk.text import Text"
   ]
  },
  {
   "cell_type": "code",
   "execution_count": 148,
   "metadata": {
    "collapsed": false
   },
   "outputs": [],
   "source": [
    "text_path = '/home/researcher/modest_proposal.txt'"
   ]
  },
  {
   "cell_type": "code",
   "execution_count": 149,
   "metadata": {
    "collapsed": false
   },
   "outputs": [
    {
     "name": "stdout",
     "output_type": "stream",
     "text": [
      "﻿The Project Gutenberg EBook of A Modest Proposal, by Jonathan Swift\n",
      "\n",
      "This eBook is for the use of anyone anywhere at no cost and with\n",
      "almost no restrictions whatsoever.  You may copy it, give it away or\n",
      "re-use it under the terms of the Project Gutenberg License included\n",
      "with this eBook or online at www.gutenberg.org\n",
      "\n",
      "\n",
      "Title: A Modest Proposal\n",
      "       For preventing the children of poor people in Ireland,\n",
      "       from being a burden on their parents or country, and for\n",
      "       making them beneficial to the publick - 1729\n",
      "\n",
      "Author: Jonathan Swift\n",
      "\n",
      "Posting Date: July 27, 2008 [EBook #1080]\n",
      "Release Date: October 1997\n",
      "\n",
      "Language: English\n",
      "\n",
      "\n",
      "*** START OF THIS PROJECT GUTENBERG EBOOK A MODEST PROPOSAL ***\n",
      "\n",
      "\n",
      "\n",
      "\n",
      "Produced by An Anonymous Volunteer\n",
      "\n",
      "\n",
      "\n",
      "\n",
      "\n",
      "A MODEST PROPOSAL\n",
      "\n",
      "For preventing the children of poor people in Ireland, from being a\n",
      "burden on their parents or country, and for making them beneficial to\n",
      "the publick.\n",
      "\n",
      "by Dr. Jonathan Swift\n",
      "\n",
      "\n",
      "1729\n",
      "\n",
      "\n",
      "\n",
      "It is a melancholy object to those, who walk through this great town,\n",
      "or travel in the country, when they see the streets, the roads and\n",
      "cabbin-doors crowded with beggars of the female sex, followed by three,\n",
      "four, or six children, all in rags, and importuning every passenger for\n",
      "an alms. These mothers instead of being able to work for their honest\n",
      "livelihood, are forced to employ all their time in stroling to beg\n",
      "sustenance for their helpless infants who, as they grow up, either turn\n",
      "thieves for want of work, or leave their dear native country, to fight\n",
      "for the Pretender in Spain, or sell themselves to the Barbadoes.\n",
      "\n",
      "I think it is agreed by all parties, that this prodigious number of\n",
      "children in the arms, or on the backs, or at the heels of their mothers,\n",
      "and frequently of their fathers, is in the present deplorable state of\n",
      "the kingdom, a very great additional grievance; and therefore whoever\n",
      "could find out a fair, cheap and easy method of making these children\n",
      "sound and useful members of the common-wealth, would deserve so well of\n",
      "the publick, as to have his statue set up for a preserver of the nation.\n",
      "\n",
      "But my intention is very far from being confined to provide only for the\n",
      "children of professed beggars: it is of a much greater extent, and shall\n",
      "take in the whole number of infants at a certain age, who are born of\n",
      "parents in effect as little able to support them, as those who demand\n",
      "our charity in the streets.\n",
      "\n",
      "As to my own part, having turned my thoughts for many years, upon this\n",
      "important subject, and maturely weighed the several schemes of\n",
      "our projectors, I have always found them grossly mistaken in their\n",
      "computation. It is true, a child just dropt from its dam, may be\n",
      "supported by her milk, for a solar year, with little other nourishment:\n",
      "at most not above the value of two shillings, which the mother may\n",
      "certainly get, or the value in scraps, by her lawful occupation of\n",
      "begging; and it is exactly at one year old that I propose to provide for\n",
      "them in such a manner, as, instead of being a charge upon their parents,\n",
      "or the parish, or wanting food and raiment for the rest of their lives,\n",
      "they shall, on the contrary, contribute to the feeding, and partly to\n",
      "the cloathing of many thousands.\n",
      "\n",
      "There is likewise another great advantage in my scheme, that it will\n",
      "prevent those voluntary abortions, and that horrid practice of\n",
      "women murdering their bastard children, alas! too frequent among us,\n",
      "sacrificing the poor innocent babes, I doubt, more to avoid the expence\n",
      "than the shame, which would move tears and pity in the most savage and\n",
      "inhuman breast.\n",
      "\n",
      "The number of souls in this kingdom being usually reckoned one million\n",
      "and a half, of these I calculate there may be about two hundred thousand\n",
      "couple whose wives are breeders; from which number I subtract thirty\n",
      "thousand couple, who are able to maintain their own children, (although\n",
      "I apprehend there cannot be so many, under the present distresses of\n",
      "the kingdom) but this being granted, there will remain an hundred and\n",
      "seventy thousand breeders. I again subtract fifty thousand, for those\n",
      "women who miscarry, or whose children die by accident or disease within\n",
      "the year. There only remain an hundred and twenty thousand children of\n",
      "poor parents annually born. The question therefore is, How this number\n",
      "shall be reared, and provided for? which, as I have already said, under\n",
      "the present situation of affairs, is utterly impossible by all the\n",
      "methods hitherto proposed. For we can neither employ them in handicraft\n",
      "or agriculture; we neither build houses, (I mean in the country) nor\n",
      "cultivate land: they can very seldom pick up a livelihood by stealing\n",
      "till they arrive at six years old; except where they are of towardly\n",
      "parts, although I confess they learn the rudiments much earlier;\n",
      "during which time they can however be properly looked upon only as\n",
      "probationers: As I have been informed by a principal gentleman in the\n",
      "county of Cavan, who protested to me, that he never knew above one or\n",
      "two instances under the age of six, even in a part of the kingdom so\n",
      "renowned for the quickest proficiency in that art.\n",
      "\n",
      "I am assured by our merchants, that a boy or a girl before twelve years\n",
      "old, is no saleable commodity, and even when they come to this age, they\n",
      "will not yield above three pounds, or three pounds and half a crown\n",
      "at most, on the exchange; which cannot turn to account either to the\n",
      "parents or kingdom, the charge of nutriments and rags having been at\n",
      "least four times that value.\n",
      "\n",
      "I shall now therefore humbly propose my own thoughts, which I hope will\n",
      "not be liable to the least objection.\n",
      "\n",
      "I have been assured by a very knowing American of my acquaintance in\n",
      "London, that a young healthy child well nursed, is, at a year old, a\n",
      "most delicious nourishing and wholesome food, whether stewed, roasted,\n",
      "baked, or boiled; and I make no doubt that it will equally serve in a\n",
      "fricasie, or a ragoust.\n",
      "\n",
      "I do therefore humbly offer it to publick consideration, that of the\n",
      "hundred and twenty thousand children, already computed, twenty thousand\n",
      "may be reserved for breed, whereof only one fourth part to be males;\n",
      "which is more than we allow to sheep, black cattle, or swine, and my\n",
      "reason is, that these children are seldom the fruits of marriage, a\n",
      "circumstance not much regarded by our savages, therefore, one male will\n",
      "be sufficient to serve four females. That the remaining hundred thousand\n",
      "may, at a year old, be offered in sale to the persons of quality and\n",
      "fortune, through the kingdom, always advising the mother to let them\n",
      "suck plentifully in the last month, so as to render them plump, and fat\n",
      "for a good table. A child will make two dishes at an entertainment for\n",
      "friends, and when the family dines alone, the fore or hind quarter will\n",
      "make a reasonable dish, and seasoned with a little pepper or salt, will\n",
      "be very good boiled on the fourth day, especially in winter.\n",
      "\n",
      "I have reckoned upon a medium, that a child just born will weigh 12\n",
      "pounds, and in a solar year, if tolerably nursed, encreaseth to 28\n",
      "pounds.\n",
      "\n",
      "I grant this food will be somewhat dear, and therefore very proper for\n",
      "landlords, who, as they have already devoured most of the parents, seem\n",
      "to have the best title to the children.\n",
      "\n",
      "Infant's flesh will be in season throughout the year, but more plentiful\n",
      "in March, and a little before and after; for we are told by a grave\n",
      "author, an eminent French physician, that fish being a prolifick dyet,\n",
      "there are more children born in Roman Catholick countries about nine\n",
      "months after Lent, the markets will be more glutted than usual, because\n",
      "the number of Popish infants, is at least three to one in this kingdom,\n",
      "and therefore it will have one other collateral advantage, by lessening\n",
      "the number of Papists among us.\n",
      "\n",
      "I have already computed the charge of nursing a beggar's child (in which\n",
      "list I reckon all cottagers, labourers, and four-fifths of the farmers)\n",
      "to be about two shillings per annum, rags included; and I believe no\n",
      "gentleman would repine to give ten shillings for the carcass of a good\n",
      "fat child, which, as I have said, will make four dishes of excellent\n",
      "nutritive meat, when he hath only some particular friend, or his\n",
      "own family to dine with him. Thus the squire will learn to be a good\n",
      "landlord, and grow popular among his tenants, the mother will have eight\n",
      "shillings neat profit, and be fit for work till she produces another\n",
      "child.\n",
      "\n",
      "Those who are more thrifty (as I must confess the times require) may\n",
      "flea the carcass; the skin of which, artificially dressed, will make\n",
      "admirable gloves for ladies, and summer boots for fine gentlemen.\n",
      "\n",
      "As to our City of Dublin, shambles may be appointed for this purpose, in\n",
      "the most convenient parts of it, and butchers we may be assured will not\n",
      "be wanting; although I rather recommend buying the children alive, and\n",
      "dressing them hot from the knife, as we do roasting pigs.\n",
      "\n",
      "A very worthy person, a true lover of his country, and whose virtues\n",
      "I highly esteem, was lately pleased, in discoursing on this matter, to\n",
      "offer a refinement upon my scheme. He said, that many gentlemen of this\n",
      "kingdom, having of late destroyed their deer, he conceived that the\n",
      "want of venison might be well supply'd by the bodies of young lads and\n",
      "maidens, not exceeding fourteen years of age, nor under twelve; so great\n",
      "a number of both sexes in every country being now ready to starve for\n",
      "want of work and service: And these to be disposed of by their parents\n",
      "if alive, or otherwise by their nearest relations. But with due\n",
      "deference to so excellent a friend, and so deserving a patriot, I\n",
      "cannot be altogether in his sentiments; for as to the males, my American\n",
      "acquaintance assured me from frequent experience, that their flesh was\n",
      "generally tough and lean, like that of our school-boys, by continual\n",
      "exercise, and their taste disagreeable, and to fatten them would not\n",
      "answer the charge. Then as to the females, it would, I think, with\n",
      "humble submission, be a loss to the publick, because they soon would\n",
      "become breeders themselves: And besides, it is not improbable that some\n",
      "scrupulous people might be apt to censure such a practice, (although\n",
      "indeed very unjustly) as a little bordering upon cruelty, which, I\n",
      "confess, hath always been with me the strongest objection against any\n",
      "project, how well soever intended.\n",
      "\n",
      "But in order to justify my friend, he confessed, that this expedient\n",
      "was put into his head by the famous Salmanaazor, a native of the island\n",
      "Formosa, who came from thence to London, above twenty years ago, and in\n",
      "conversation told my friend, that in his country, when any young person\n",
      "happened to be put to death, the executioner sold the carcass to persons\n",
      "of quality, as a prime dainty; and that, in his time, the body of a\n",
      "plump girl of fifteen, who was crucified for an attempt to poison the\n",
      "Emperor, was sold to his imperial majesty's prime minister of state, and\n",
      "other great mandarins of the court in joints from the gibbet, at four\n",
      "hundred crowns. Neither indeed can I deny, that if the same use were\n",
      "made of several plump young girls in this town, who without one single\n",
      "groat to their fortunes, cannot stir abroad without a chair, and appear\n",
      "at a play-house and assemblies in foreign fineries which they never will\n",
      "pay for; the kingdom would not be the worse.\n",
      "\n",
      "Some persons of a desponding spirit are in great concern about that vast\n",
      "number of poor people, who are aged, diseased, or maimed; and I have\n",
      "been desired to employ my thoughts what course may be taken, to ease\n",
      "the nation of so grievous an incumbrance. But I am not in the least pain\n",
      "upon that matter, because it is very well known, that they are every day\n",
      "dying, and rotting, by cold and famine, and filth, and vermin, as fast\n",
      "as can be reasonably expected. And as to the young labourers, they\n",
      "are now in almost as hopeful a condition. They cannot get work, and\n",
      "consequently pine away from want of nourishment, to a degree, that if\n",
      "at any time they are accidentally hired to common labour, they have not\n",
      "strength to perform it, and thus the country and themselves are happily\n",
      "delivered from the evils to come.\n",
      "\n",
      "I have too long digressed, and therefore shall return to my subject. I\n",
      "think the advantages by the proposal which I have made are obvious and\n",
      "many, as well as of the highest importance.\n",
      "\n",
      "For first, as I have already observed, it would greatly lessen the\n",
      "number of Papists, with whom we are yearly over-run, being the principal\n",
      "breeders of the nation, as well as our most dangerous enemies, and who\n",
      "stay at home on purpose with a design to deliver the kingdom to the\n",
      "Pretender, hoping to take their advantage by the absence of so many good\n",
      "Protestants, who have chosen rather to leave their country, than stay at\n",
      "home and pay tithes against their conscience to an episcopal curate.\n",
      "\n",
      "Secondly, The poorer tenants will have something valuable of their own,\n",
      "which by law may be made liable to a distress, and help to pay their\n",
      "landlord's rent, their corn and cattle being already seized, and money a\n",
      "thing unknown.\n",
      "\n",
      "Thirdly, Whereas the maintainance of an hundred thousand children,\n",
      "from two years old, and upwards, cannot be computed at less than\n",
      "ten shillings a piece per annum, the nation's stock will be thereby\n",
      "encreased fifty thousand pounds per annum, besides the profit of a\n",
      "new dish, introduced to the tables of all gentlemen of fortune in the\n",
      "kingdom, who have any refinement in taste. And the money will circulate\n",
      "among our selves, the goods being entirely of our own growth and\n",
      "manufacture.\n",
      "\n",
      "Fourthly, The constant breeders, besides the gain of eight shillings\n",
      "sterling per annum by the sale of their children, will be rid of the\n",
      "charge of maintaining them after the first year.\n",
      "\n",
      "Fifthly, This food would likewise bring great custom to taverns,\n",
      "where the vintners will certainly be so prudent as to procure the best\n",
      "receipts for dressing it to perfection; and consequently have their\n",
      "houses frequented by all the fine gentlemen, who justly value themselves\n",
      "upon their knowledge in good eating; and a skilful cook, who understands\n",
      "how to oblige his guests, will contrive to make it as expensive as they\n",
      "please.\n",
      "\n",
      "Sixthly, This would be a great inducement to marriage, which all wise\n",
      "nations have either encouraged by rewards, or enforced by laws and\n",
      "penalties. It would encrease the care and tenderness of mothers towards\n",
      "their children, when they were sure of a settlement for life to the\n",
      "poor babes, provided in some sort by the publick, to their annual profit\n",
      "instead of expence. We should soon see an honest emulation among the\n",
      "married women, which of them could bring the fattest child to the\n",
      "market. Men would become as fond of their wives, during the time of\n",
      "their pregnancy, as they are now of their mares in foal, their cows in\n",
      "calf, or sow when they are ready to farrow; nor offer to beat or kick\n",
      "them (as is too frequent a practice) for fear of a miscarriage.\n",
      "\n",
      "Many other advantages might be enumerated. For instance, the addition\n",
      "of some thousand carcasses in our exportation of barrel'd beef: the\n",
      "propagation of swine's flesh, and improvement in the art of making good\n",
      "bacon, so much wanted among us by the great destruction of pigs,\n",
      "too frequent at our tables; which are no way comparable in taste or\n",
      "magnificence to a well grown, fat yearly child, which roasted whole will\n",
      "make a considerable figure at a Lord Mayor's feast, or any other publick\n",
      "entertainment. But this, and many others, I omit, being studious of\n",
      "brevity.\n",
      "\n",
      "Supposing that one thousand families in this city, would be constant\n",
      "customers for infants flesh, besides others who might have it at merry\n",
      "meetings, particularly at weddings and christenings, I compute that\n",
      "Dublin would take off annually about twenty thousand carcasses; and the\n",
      "rest of the kingdom (where probably they will be sold somewhat cheaper)\n",
      "the remaining eighty thousand.\n",
      "\n",
      "I can think of no one objection, that will possibly be raised against\n",
      "this proposal, unless it should be urged, that the number of people will\n",
      "be thereby much lessened in the kingdom. This I freely own, and 'twas\n",
      "indeed one principal design in offering it to the world. I desire the\n",
      "reader will observe, that I calculate my remedy for this one individual\n",
      "Kingdom of Ireland, and for no other that ever was, is, or, I think,\n",
      "ever can be upon Earth. Therefore let no man talk to me of other\n",
      "expedients: Of taxing our absentees at five shillings a pound: Of using\n",
      "neither cloaths, nor houshold furniture, except what is of our\n",
      "own growth and manufacture: Of utterly rejecting the materials and\n",
      "instruments that promote foreign luxury: Of curing the expensiveness of\n",
      "pride, vanity, idleness, and gaming in our women: Of introducing a vein\n",
      "of parsimony, prudence and temperance: Of learning to love our\n",
      "country, wherein we differ even from Laplanders, and the inhabitants\n",
      "of Topinamboo: Of quitting our animosities and factions, nor acting any\n",
      "longer like the Jews, who were murdering one another at the very moment\n",
      "their city was taken: Of being a little cautious not to sell our country\n",
      "and consciences for nothing: Of teaching landlords to have at least one\n",
      "degree of mercy towards their tenants. Lastly, of putting a spirit of\n",
      "honesty, industry, and skill into our shop-keepers, who, if a resolution\n",
      "could now be taken to buy only our native goods, would immediately unite\n",
      "to cheat and exact upon us in the price, the measure, and the goodness,\n",
      "nor could ever yet be brought to make one fair proposal of just dealing,\n",
      "though often and earnestly invited to it.\n",
      "\n",
      "Therefore I repeat, let no man talk to me of these and the like\n",
      "expedients, 'till he hath at least some glympse of hope, that there will\n",
      "ever be some hearty and sincere attempt to put them into practice.\n",
      "\n",
      "But, as to my self, having been wearied out for many years with offering\n",
      "vain, idle, visionary thoughts, and at length utterly despairing of\n",
      "success, I fortunately fell upon this proposal, which, as it is wholly\n",
      "new, so it hath something solid and real, of no expence and little\n",
      "trouble, full in our own power, and whereby we can incur no danger\n",
      "in disobliging England. For this kind of commodity will not bear\n",
      "exportation, and flesh being of too tender a consistence, to admit a\n",
      "long continuance in salt, although perhaps I could name a country, which\n",
      "would be glad to eat up our whole nation without it.\n",
      "\n",
      "After all, I am not so violently bent upon my own opinion, as to reject\n",
      "any offer, proposed by wise men, which shall be found equally innocent,\n",
      "cheap, easy, and effectual. But before something of that kind shall be\n",
      "advanced in contradiction to my scheme, and offering a better, I desire\n",
      "the author or authors will be pleased maturely to consider two points.\n",
      "First, As things now stand, how they will be able to find food and\n",
      "raiment for a hundred thousand useless mouths and backs. And secondly,\n",
      "There being a round million of creatures in humane figure throughout\n",
      "this kingdom, whose whole subsistence put into a common stock, would\n",
      "leave them in debt two million of pounds sterling, adding those who are\n",
      "beggars by profession, to the bulk of farmers, cottagers and labourers,\n",
      "with their wives and children, who are beggars in effect; I desire\n",
      "those politicians who dislike my overture, and may perhaps be so bold\n",
      "to attempt an answer, that they will first ask the parents of these\n",
      "mortals, whether they would not at this day think it a great happiness\n",
      "to have been sold for food at a year old, in the manner I prescribe, and\n",
      "thereby have avoided such a perpetual scene of misfortunes, as they have\n",
      "since gone through, by the oppression of landlords, the impossibility of\n",
      "paying rent without money or trade, the want of common sustenance, with\n",
      "neither house nor cloaths to cover them from the inclemencies of the\n",
      "weather, and the most inevitable prospect of intailing the like, or\n",
      "greater miseries, upon their breed for ever.\n",
      "\n",
      "I profess, in the sincerity of my heart, that I have not the least\n",
      "personal interest in endeavouring to promote this necessary work, having\n",
      "no other motive than the publick good of my country, by advancing\n",
      "our trade, providing for infants, relieving the poor, and giving some\n",
      "pleasure to the rich. I have no children, by which I can propose to\n",
      "get a single penny; the youngest being nine years old, and my wife past\n",
      "child-bearing.\n",
      "\n",
      "\n",
      "\n",
      "\n",
      "\n",
      "End of the Project Gutenberg EBook of A Modest Proposal, by Jonathan Swift\n",
      "\n",
      "*** END OF THIS PROJECT GUTENBERG EBOOK A MODEST PROPOSAL ***\n",
      "\n",
      "***** This file should be named 1080.txt or 1080.zip *****\n",
      "This and all associated files of various formats will be found in:\n",
      "        http://www.gutenberg.org/1/0/8/1080/\n",
      "\n",
      "Produced by An Anonymous Volunteer\n",
      "\n",
      "Updated editions will replace the previous one--the old editions\n",
      "will be renamed.\n",
      "\n",
      "Creating the works from public domain print editions means that no\n",
      "one owns a United States copyright in these works, so the Foundation\n",
      "(and you!) can copy and distribute it in the United States without\n",
      "permission and without paying copyright royalties.  Special rules,\n",
      "set forth in the General Terms of Use part of this license, apply to\n",
      "copying and distributing Project Gutenberg-tm electronic works to\n",
      "protect the PROJECT GUTENBERG-tm concept and trademark.  Project\n",
      "Gutenberg is a registered trademark, and may not be used if you\n",
      "charge for the eBooks, unless you receive specific permission.  If you\n",
      "do not charge anything for copies of this eBook, complying with the\n",
      "rules is very easy.  You may use this eBook for nearly any purpose\n",
      "such as creation of derivative works, reports, performances and\n",
      "research.  They may be modified and printed and given away--you may do\n",
      "practically ANYTHING with public domain eBooks.  Redistribution is\n",
      "subject to the trademark license, especially commercial\n",
      "redistribution.\n",
      "\n",
      "\n",
      "\n",
      "*** START: FULL LICENSE ***\n",
      "\n",
      "THE FULL PROJECT GUTENBERG LICENSE\n",
      "PLEASE READ THIS BEFORE YOU DISTRIBUTE OR USE THIS WORK\n",
      "\n",
      "To protect the Project Gutenberg-tm mission of promoting the free\n",
      "distribution of electronic works, by using or distributing this work\n",
      "(or any other work associated in any way with the phrase \"Project\n",
      "Gutenberg\"), you agree to comply with all the terms of the Full Project\n",
      "Gutenberg-tm License (available with this file or online at\n",
      "http://gutenberg.org/license).\n",
      "\n",
      "\n",
      "Section 1.  General Terms of Use and Redistributing Project Gutenberg-tm\n",
      "electronic works\n",
      "\n",
      "1.A.  By reading or using any part of this Project Gutenberg-tm\n",
      "electronic work, you indicate that you have read, understand, agree to\n",
      "and accept all the terms of this license and intellectual property\n",
      "(trademark/copyright) agreement.  If you do not agree to abide by all\n",
      "the terms of this agreement, you must cease using and return or destroy\n",
      "all copies of Project Gutenberg-tm electronic works in your possession.\n",
      "If you paid a fee for obtaining a copy of or access to a Project\n",
      "Gutenberg-tm electronic work and you do not agree to be bound by the\n",
      "terms of this agreement, you may obtain a refund from the person or\n",
      "entity to whom you paid the fee as set forth in paragraph 1.E.8.\n",
      "\n",
      "1.B.  \"Project Gutenberg\" is a registered trademark.  It may only be\n",
      "used on or associated in any way with an electronic work by people who\n",
      "agree to be bound by the terms of this agreement.  There are a few\n",
      "things that you can do with most Project Gutenberg-tm electronic works\n",
      "even without complying with the full terms of this agreement.  See\n",
      "paragraph 1.C below.  There are a lot of things you can do with Project\n",
      "Gutenberg-tm electronic works if you follow the terms of this agreement\n",
      "and help preserve free future access to Project Gutenberg-tm electronic\n",
      "works.  See paragraph 1.E below.\n",
      "\n",
      "1.C.  The Project Gutenberg Literary Archive Foundation (\"the Foundation\"\n",
      "or PGLAF), owns a compilation copyright in the collection of Project\n",
      "Gutenberg-tm electronic works.  Nearly all the individual works in the\n",
      "collection are in the public domain in the United States.  If an\n",
      "individual work is in the public domain in the United States and you are\n",
      "located in the United States, we do not claim a right to prevent you from\n",
      "copying, distributing, performing, displaying or creating derivative\n",
      "works based on the work as long as all references to Project Gutenberg\n",
      "are removed.  Of course, we hope that you will support the Project\n",
      "Gutenberg-tm mission of promoting free access to electronic works by\n",
      "freely sharing Project Gutenberg-tm works in compliance with the terms of\n",
      "this agreement for keeping the Project Gutenberg-tm name associated with\n",
      "the work.  You can easily comply with the terms of this agreement by\n",
      "keeping this work in the same format with its attached full Project\n",
      "Gutenberg-tm License when you share it without charge with others.\n",
      "\n",
      "1.D.  The copyright laws of the place where you are located also govern\n",
      "what you can do with this work.  Copyright laws in most countries are in\n",
      "a constant state of change.  If you are outside the United States, check\n",
      "the laws of your country in addition to the terms of this agreement\n",
      "before downloading, copying, displaying, performing, distributing or\n",
      "creating derivative works based on this work or any other Project\n",
      "Gutenberg-tm work.  The Foundation makes no representations concerning\n",
      "the copyright status of any work in any country outside the United\n",
      "States.\n",
      "\n",
      "1.E.  Unless you have removed all references to Project Gutenberg:\n",
      "\n",
      "1.E.1.  The following sentence, with active links to, or other immediate\n",
      "access to, the full Project Gutenberg-tm License must appear prominently\n",
      "whenever any copy of a Project Gutenberg-tm work (any work on which the\n",
      "phrase \"Project Gutenberg\" appears, or with which the phrase \"Project\n",
      "Gutenberg\" is associated) is accessed, displayed, performed, viewed,\n",
      "copied or distributed:\n",
      "\n",
      "This eBook is for the use of anyone anywhere at no cost and with\n",
      "almost no restrictions whatsoever.  You may copy it, give it away or\n",
      "re-use it under the terms of the Project Gutenberg License included\n",
      "with this eBook or online at www.gutenberg.org\n",
      "\n",
      "1.E.2.  If an individual Project Gutenberg-tm electronic work is derived\n",
      "from the public domain (does not contain a notice indicating that it is\n",
      "posted with permission of the copyright holder), the work can be copied\n",
      "and distributed to anyone in the United States without paying any fees\n",
      "or charges.  If you are redistributing or providing access to a work\n",
      "with the phrase \"Project Gutenberg\" associated with or appearing on the\n",
      "work, you must comply either with the requirements of paragraphs 1.E.1\n",
      "through 1.E.7 or obtain permission for the use of the work and the\n",
      "Project Gutenberg-tm trademark as set forth in paragraphs 1.E.8 or\n",
      "1.E.9.\n",
      "\n",
      "1.E.3.  If an individual Project Gutenberg-tm electronic work is posted\n",
      "with the permission of the copyright holder, your use and distribution\n",
      "must comply with both paragraphs 1.E.1 through 1.E.7 and any additional\n",
      "terms imposed by the copyright holder.  Additional terms will be linked\n",
      "to the Project Gutenberg-tm License for all works posted with the\n",
      "permission of the copyright holder found at the beginning of this work.\n",
      "\n",
      "1.E.4.  Do not unlink or detach or remove the full Project Gutenberg-tm\n",
      "License terms from this work, or any files containing a part of this\n",
      "work or any other work associated with Project Gutenberg-tm.\n",
      "\n",
      "1.E.5.  Do not copy, display, perform, distribute or redistribute this\n",
      "electronic work, or any part of this electronic work, without\n",
      "prominently displaying the sentence set forth in paragraph 1.E.1 with\n",
      "active links or immediate access to the full terms of the Project\n",
      "Gutenberg-tm License.\n",
      "\n",
      "1.E.6.  You may convert to and distribute this work in any binary,\n",
      "compressed, marked up, nonproprietary or proprietary form, including any\n",
      "word processing or hypertext form.  However, if you provide access to or\n",
      "distribute copies of a Project Gutenberg-tm work in a format other than\n",
      "\"Plain Vanilla ASCII\" or other format used in the official version\n",
      "posted on the official Project Gutenberg-tm web site (www.gutenberg.org),\n",
      "you must, at no additional cost, fee or expense to the user, provide a\n",
      "copy, a means of exporting a copy, or a means of obtaining a copy upon\n",
      "request, of the work in its original \"Plain Vanilla ASCII\" or other\n",
      "form.  Any alternate format must include the full Project Gutenberg-tm\n",
      "License as specified in paragraph 1.E.1.\n",
      "\n",
      "1.E.7.  Do not charge a fee for access to, viewing, displaying,\n",
      "performing, copying or distributing any Project Gutenberg-tm works\n",
      "unless you comply with paragraph 1.E.8 or 1.E.9.\n",
      "\n",
      "1.E.8.  You may charge a reasonable fee for copies of or providing\n",
      "access to or distributing Project Gutenberg-tm electronic works provided\n",
      "that\n",
      "\n",
      "- You pay a royalty fee of 20% of the gross profits you derive from\n",
      "     the use of Project Gutenberg-tm works calculated using the method\n",
      "     you already use to calculate your applicable taxes.  The fee is\n",
      "     owed to the owner of the Project Gutenberg-tm trademark, but he\n",
      "     has agreed to donate royalties under this paragraph to the\n",
      "     Project Gutenberg Literary Archive Foundation.  Royalty payments\n",
      "     must be paid within 60 days following each date on which you\n",
      "     prepare (or are legally required to prepare) your periodic tax\n",
      "     returns.  Royalty payments should be clearly marked as such and\n",
      "     sent to the Project Gutenberg Literary Archive Foundation at the\n",
      "     address specified in Section 4, \"Information about donations to\n",
      "     the Project Gutenberg Literary Archive Foundation.\"\n",
      "\n",
      "- You provide a full refund of any money paid by a user who notifies\n",
      "     you in writing (or by e-mail) within 30 days of receipt that s/he\n",
      "     does not agree to the terms of the full Project Gutenberg-tm\n",
      "     License.  You must require such a user to return or\n",
      "     destroy all copies of the works possessed in a physical medium\n",
      "     and discontinue all use of and all access to other copies of\n",
      "     Project Gutenberg-tm works.\n",
      "\n",
      "- You provide, in accordance with paragraph 1.F.3, a full refund of any\n",
      "     money paid for a work or a replacement copy, if a defect in the\n",
      "     electronic work is discovered and reported to you within 90 days\n",
      "     of receipt of the work.\n",
      "\n",
      "- You comply with all other terms of this agreement for free\n",
      "     distribution of Project Gutenberg-tm works.\n",
      "\n",
      "1.E.9.  If you wish to charge a fee or distribute a Project Gutenberg-tm\n",
      "electronic work or group of works on different terms than are set\n",
      "forth in this agreement, you must obtain permission in writing from\n",
      "both the Project Gutenberg Literary Archive Foundation and Michael\n",
      "Hart, the owner of the Project Gutenberg-tm trademark.  Contact the\n",
      "Foundation as set forth in Section 3 below.\n",
      "\n",
      "1.F.\n",
      "\n",
      "1.F.1.  Project Gutenberg volunteers and employees expend considerable\n",
      "effort to identify, do copyright research on, transcribe and proofread\n",
      "public domain works in creating the Project Gutenberg-tm\n",
      "collection.  Despite these efforts, Project Gutenberg-tm electronic\n",
      "works, and the medium on which they may be stored, may contain\n",
      "\"Defects,\" such as, but not limited to, incomplete, inaccurate or\n",
      "corrupt data, transcription errors, a copyright or other intellectual\n",
      "property infringement, a defective or damaged disk or other medium, a\n",
      "computer virus, or computer codes that damage or cannot be read by\n",
      "your equipment.\n",
      "\n",
      "1.F.2.  LIMITED WARRANTY, DISCLAIMER OF DAMAGES - Except for the \"Right\n",
      "of Replacement or Refund\" described in paragraph 1.F.3, the Project\n",
      "Gutenberg Literary Archive Foundation, the owner of the Project\n",
      "Gutenberg-tm trademark, and any other party distributing a Project\n",
      "Gutenberg-tm electronic work under this agreement, disclaim all\n",
      "liability to you for damages, costs and expenses, including legal\n",
      "fees.  YOU AGREE THAT YOU HAVE NO REMEDIES FOR NEGLIGENCE, STRICT\n",
      "LIABILITY, BREACH OF WARRANTY OR BREACH OF CONTRACT EXCEPT THOSE\n",
      "PROVIDED IN PARAGRAPH F3.  YOU AGREE THAT THE FOUNDATION, THE\n",
      "TRADEMARK OWNER, AND ANY DISTRIBUTOR UNDER THIS AGREEMENT WILL NOT BE\n",
      "LIABLE TO YOU FOR ACTUAL, DIRECT, INDIRECT, CONSEQUENTIAL, PUNITIVE OR\n",
      "INCIDENTAL DAMAGES EVEN IF YOU GIVE NOTICE OF THE POSSIBILITY OF SUCH\n",
      "DAMAGE.\n",
      "\n",
      "1.F.3.  LIMITED RIGHT OF REPLACEMENT OR REFUND - If you discover a\n",
      "defect in this electronic work within 90 days of receiving it, you can\n",
      "receive a refund of the money (if any) you paid for it by sending a\n",
      "written explanation to the person you received the work from.  If you\n",
      "received the work on a physical medium, you must return the medium with\n",
      "your written explanation.  The person or entity that provided you with\n",
      "the defective work may elect to provide a replacement copy in lieu of a\n",
      "refund.  If you received the work electronically, the person or entity\n",
      "providing it to you may choose to give you a second opportunity to\n",
      "receive the work electronically in lieu of a refund.  If the second copy\n",
      "is also defective, you may demand a refund in writing without further\n",
      "opportunities to fix the problem.\n",
      "\n",
      "1.F.4.  Except for the limited right of replacement or refund set forth\n",
      "in paragraph 1.F.3, this work is provided to you 'AS-IS' WITH NO OTHER\n",
      "WARRANTIES OF ANY KIND, EXPRESS OR IMPLIED, INCLUDING BUT NOT LIMITED TO\n",
      "WARRANTIES OF MERCHANTIBILITY OR FITNESS FOR ANY PURPOSE.\n",
      "\n",
      "1.F.5.  Some states do not allow disclaimers of certain implied\n",
      "warranties or the exclusion or limitation of certain types of damages.\n",
      "If any disclaimer or limitation set forth in this agreement violates the\n",
      "law of the state applicable to this agreement, the agreement shall be\n",
      "interpreted to make the maximum disclaimer or limitation permitted by\n",
      "the applicable state law.  The invalidity or unenforceability of any\n",
      "provision of this agreement shall not void the remaining provisions.\n",
      "\n",
      "1.F.6.  INDEMNITY - You agree to indemnify and hold the Foundation, the\n",
      "trademark owner, any agent or employee of the Foundation, anyone\n",
      "providing copies of Project Gutenberg-tm electronic works in accordance\n",
      "with this agreement, and any volunteers associated with the production,\n",
      "promotion and distribution of Project Gutenberg-tm electronic works,\n",
      "harmless from all liability, costs and expenses, including legal fees,\n",
      "that arise directly or indirectly from any of the following which you do\n",
      "or cause to occur: (a) distribution of this or any Project Gutenberg-tm\n",
      "work, (b) alteration, modification, or additions or deletions to any\n",
      "Project Gutenberg-tm work, and (c) any Defect you cause.\n",
      "\n",
      "\n",
      "Section  2.  Information about the Mission of Project Gutenberg-tm\n",
      "\n",
      "Project Gutenberg-tm is synonymous with the free distribution of\n",
      "electronic works in formats readable by the widest variety of computers\n",
      "including obsolete, old, middle-aged and new computers.  It exists\n",
      "because of the efforts of hundreds of volunteers and donations from\n",
      "people in all walks of life.\n",
      "\n",
      "Volunteers and financial support to provide volunteers with the\n",
      "assistance they need, is critical to reaching Project Gutenberg-tm's\n",
      "goals and ensuring that the Project Gutenberg-tm collection will\n",
      "remain freely available for generations to come.  In 2001, the Project\n",
      "Gutenberg Literary Archive Foundation was created to provide a secure\n",
      "and permanent future for Project Gutenberg-tm and future generations.\n",
      "To learn more about the Project Gutenberg Literary Archive Foundation\n",
      "and how your efforts and donations can help, see Sections 3 and 4\n",
      "and the Foundation web page at http://www.pglaf.org.\n",
      "\n",
      "\n",
      "Section 3.  Information about the Project Gutenberg Literary Archive\n",
      "Foundation\n",
      "\n",
      "The Project Gutenberg Literary Archive Foundation is a non profit\n",
      "501(c)(3) educational corporation organized under the laws of the\n",
      "state of Mississippi and granted tax exempt status by the Internal\n",
      "Revenue Service.  The Foundation's EIN or federal tax identification\n",
      "number is 64-6221541.  Its 501(c)(3) letter is posted at\n",
      "http://pglaf.org/fundraising.  Contributions to the Project Gutenberg\n",
      "Literary Archive Foundation are tax deductible to the full extent\n",
      "permitted by U.S. federal laws and your state's laws.\n",
      "\n",
      "The Foundation's principal office is located at 4557 Melan Dr. S.\n",
      "Fairbanks, AK, 99712., but its volunteers and employees are scattered\n",
      "throughout numerous locations.  Its business office is located at\n",
      "809 North 1500 West, Salt Lake City, UT 84116, (801) 596-1887, email\n",
      "business@pglaf.org.  Email contact links and up to date contact\n",
      "information can be found at the Foundation's web site and official\n",
      "page at http://pglaf.org\n",
      "\n",
      "For additional contact information:\n",
      "     Dr. Gregory B. Newby\n",
      "     Chief Executive and Director\n",
      "     gbnewby@pglaf.org\n",
      "\n",
      "\n",
      "Section 4.  Information about Donations to the Project Gutenberg\n",
      "Literary Archive Foundation\n",
      "\n",
      "Project Gutenberg-tm depends upon and cannot survive without wide\n",
      "spread public support and donations to carry out its mission of\n",
      "increasing the number of public domain and licensed works that can be\n",
      "freely distributed in machine readable form accessible by the widest\n",
      "array of equipment including outdated equipment.  Many small donations\n",
      "($1 to $5,000) are particularly important to maintaining tax exempt\n",
      "status with the IRS.\n",
      "\n",
      "The Foundation is committed to complying with the laws regulating\n",
      "charities and charitable donations in all 50 states of the United\n",
      "States.  Compliance requirements are not uniform and it takes a\n",
      "considerable effort, much paperwork and many fees to meet and keep up\n",
      "with these requirements.  We do not solicit donations in locations\n",
      "where we have not received written confirmation of compliance.  To\n",
      "SEND DONATIONS or determine the status of compliance for any\n",
      "particular state visit http://pglaf.org\n",
      "\n",
      "While we cannot and do not solicit contributions from states where we\n",
      "have not met the solicitation requirements, we know of no prohibition\n",
      "against accepting unsolicited donations from donors in such states who\n",
      "approach us with offers to donate.\n",
      "\n",
      "International donations are gratefully accepted, but we cannot make\n",
      "any statements concerning tax treatment of donations received from\n",
      "outside the United States.  U.S. laws alone swamp our small staff.\n",
      "\n",
      "Please check the Project Gutenberg Web pages for current donation\n",
      "methods and addresses.  Donations are accepted in a number of other\n",
      "ways including checks, online payments and credit card donations.\n",
      "To donate, please visit: http://pglaf.org/donate\n",
      "\n",
      "\n",
      "Section 5.  General Information About Project Gutenberg-tm electronic\n",
      "works.\n",
      "\n",
      "Professor Michael S. Hart is the originator of the Project Gutenberg-tm\n",
      "concept of a library of electronic works that could be freely shared\n",
      "with anyone.  For thirty years, he produced and distributed Project\n",
      "Gutenberg-tm eBooks with only a loose network of volunteer support.\n",
      "\n",
      "\n",
      "Project Gutenberg-tm eBooks are often created from several printed\n",
      "editions, all of which are confirmed as Public Domain in the U.S.\n",
      "unless a copyright notice is included.  Thus, we do not necessarily\n",
      "keep eBooks in compliance with any particular paper edition.\n",
      "\n",
      "\n",
      "Most people start at our Web site which has the main PG search facility:\n",
      "\n",
      "     http://www.gutenberg.org\n",
      "\n",
      "This Web site includes information about Project Gutenberg-tm,\n",
      "including how to make donations to the Project Gutenberg Literary\n",
      "Archive Foundation, how to help produce our new eBooks, and how to\n",
      "subscribe to our email newsletter to hear about new eBooks.\n",
      "\n"
     ]
    }
   ],
   "source": [
    "file = open(os.path.join(text_path), \"r\", encoding='UTF-8')\n",
    "text = file.read()\n",
    "print(text)"
   ]
  },
  {
   "cell_type": "markdown",
   "metadata": {},
   "source": [
    "The books were were working with yesterday had already had some processing done on them so that we could use NLTK to find features of the language. Remember that Python regards a text file as a single long string of characters. The first thing to do is to start breaking the text up into sentences and words."
   ]
  },
  {
   "cell_type": "code",
   "execution_count": 151,
   "metadata": {
    "collapsed": false
   },
   "outputs": [
    {
     "name": "stdout",
     "output_type": "stream",
     "text": [
      "['\\ufeffThe', 'Project', 'Gutenberg', 'EBook', 'of', 'A', 'Modest', 'Proposal', ',', 'by', 'Jonathan', 'Swift', 'This', 'eBook', 'is', 'for', 'the', 'use', 'of', 'anyone', 'anywhere', 'at', 'no', 'cost', 'and', 'with', 'almost', 'no', 'restrictions', 'whatsoever', '.', 'You', 'may', 'copy', 'it', ',', 'give', 'it', 'away', 'or', 're-use', 'it', 'under', 'the', 'terms', 'of', 'the', 'Project', 'Gutenberg', 'License', 'included', 'with', 'this', 'eBook', 'or', 'online', 'at', 'www.gutenberg.org', 'Title', ':', 'A', 'Modest', 'Proposal', 'For', 'preventing', 'the', 'children', 'of', 'poor', 'people', 'in', 'Ireland', ',', 'from', 'being', 'a', 'burden', 'on', 'their', 'parents', 'or', 'country', ',', 'and', 'for', 'making', 'them', 'beneficial', 'to', 'the', 'publick', '-', '1729', 'Author', ':', 'Jonathan', 'Swift', 'Posting', 'Date', ':']\n"
     ]
    }
   ],
   "source": [
    "from nltk import word_tokenize\n",
    "text = open('/home/researcher/modest_proposal.txt', \"r\", encoding='UTF-8').read() \n",
    "tokens = word_tokenize(text)\n",
    "print(tokens[:100])"
   ]
  },
  {
   "cell_type": "markdown",
   "metadata": {},
   "source": [
    "**Challenge!**\n",
    "\n",
    "1. Find a .txt file from the Gutenberg Project or elsewhere and upload it to the Jupyter Notebook. \n",
    "2. Use the word_tokenize to break up the text data. \n",
    "3. Print the first 100 tokens."
   ]
  },
  {
   "cell_type": "markdown",
   "metadata": {},
   "source": [
    "Breaking a speech into tokens lets us do the sort of word counting that we were doing yesterday on the speeches. We can do some more interesting linguistic analysis if we use Part of Speech tagging. NLTK has a number of different Part of Speech tags that we could use, but the simplest one is called 'Universal', and we'll use that here."
   ]
  },
  {
   "cell_type": "code",
   "execution_count": 31,
   "metadata": {
    "collapsed": false,
    "scrolled": true
   },
   "outputs": [
    {
     "name": "stdout",
     "output_type": "stream",
     "text": [
      "[('They', u'PRON'), ('refuse', u'VERB'), ('to', u'PRT'), ('permit', u'VERB'), ('us', u'PRON'), ('the', u'DET'), ('refuse', u'NOUN'), ('permit', u'NOUN')]\n"
     ]
    }
   ],
   "source": [
    "sentence = \"They refuse to permit us the refuse permit\"\n",
    "words = word_tokenize(sentence)\n",
    "tagged = nltk.pos_tag(words, tagset='universal')\n",
    "print(tagged)"
   ]
  },
  {
   "cell_type": "markdown",
   "metadata": {},
   "source": [
    "Part of Speech tagging creates bigrams, that is, it associates the word with its tag in a pair of items that we can see above in brackets.  "
   ]
  },
  {
   "cell_type": "code",
   "execution_count": 32,
   "metadata": {
    "collapsed": false
   },
   "outputs": [
    {
     "data": {
      "text/plain": [
       "[(u'PRON', 2), (u'VERB', 2), (u'NOUN', 2), (u'DET', 1), (u'PRT', 1)]"
      ]
     },
     "execution_count": 32,
     "metadata": {},
     "output_type": "execute_result"
    }
   ],
   "source": [
    "tag_fd = nltk.FreqDist(tag for (word, tag) in tagged)\n",
    "tag_fd.most_common()"
   ]
  },
  {
   "cell_type": "markdown",
   "metadata": {},
   "source": [
    "**Challenge!**\n",
    "\n",
    "Use Part of Speech tagging to tag the text that we have just tokenised the do the following:\n",
    "* Find the most common parts of speech\n",
    "* Find the most common verbs and create a frequency Distribution graph of your result\n",
    "* Find the 10 most common nouns in the text\n",
    "\n",
    "*Hint: to find the most common verbs and nouns, you will need to create a list that contains only the verbs or only the nouns from the speech. Use a for loop to create your list. Then create a frequency distribution*"
   ]
  },
  {
   "cell_type": "code",
   "execution_count": 94,
   "metadata": {
    "collapsed": false
   },
   "outputs": [
    {
     "data": {
      "text/plain": [
       "[('NOUN', 1871),\n",
       " ('VERB', 1082),\n",
       " ('ADP', 905),\n",
       " ('.', 846),\n",
       " ('DET', 751),\n",
       " ('ADJ', 503),\n",
       " ('PRON', 399),\n",
       " ('CONJ', 314),\n",
       " ('ADV', 296),\n",
       " ('PRT', 208),\n",
       " ('NUM', 129)]"
      ]
     },
     "execution_count": 94,
     "metadata": {},
     "output_type": "execute_result"
    }
   ],
   "source": [
    "tagged_text = nltk.pos_tag(tokens, tagset = 'universal')\n",
    "text_fd = nltk.FreqDist(tag for (word, tag) in tagged_text)\n",
    "text_fd.most_common()"
   ]
  },
  {
   "cell_type": "code",
   "execution_count": 98,
   "metadata": {
    "collapsed": false
   },
   "outputs": [
    {
     "name": "stdout",
     "output_type": "stream",
     "text": [
      "1082\n",
      "[('be', 67), ('is', 47), ('are', 41), ('will', 41), ('have', 33), ('can', 29), ('may', 26), ('would', 18), ('being', 17), ('do', 16)]\n"
     ]
    }
   ],
   "source": [
    "verblist = []\n",
    "for (word, tag) in tagged_text:\n",
    "    if tag == 'VERB':\n",
    "        verblist.append(word)\n",
    "# Check the length of the list of verbs. \n",
    "#If it matches the number of verbs above, you can be fairly sure your loop has worked as expected\n",
    "print(len(verblist))\n",
    "verb_fd = nltk.FreqDist(verblist)\n",
    "print(verb_fd.most_common()[:10])"
   ]
  },
  {
   "cell_type": "code",
   "execution_count": 101,
   "metadata": {
    "collapsed": false
   },
   "outputs": [
    {
     "name": "stdout",
     "output_type": "stream",
     "text": [
      "['Project', 'Gutenberg', 'EBook', 'A', 'Modest', 'Proposal', 'Jonathan', 'Swift', 'eBook', 'use']\n",
      "1871\n",
      "[('Project', 80), ('Gutenberg-tm', 55), ('work', 49), ('works', 30), ('Gutenberg', 27), ('Foundation', 24), ('children', 20), ('terms', 19), ('agreement', 17), ('country', 16)]\n"
     ]
    }
   ],
   "source": [
    "nounlist = []\n",
    "for (word, tag) in tagged_text:\n",
    "    if tag == 'NOUN':\n",
    "        nounlist.append(word)\n",
    "print(nounlist[:10])\n",
    "print(len(nounlist))\n",
    "noun_fd = nltk.FreqDist(nounlist)\n",
    "print(noun_fd.most_common()[:10])"
   ]
  },
  {
   "cell_type": "markdown",
   "metadata": {},
   "source": [
    "**Extension**\n",
    "There are a few things to note about this result - Project and Gutenberg have been returned as two different, very frequent nouns. Because we're humans, not computers, we know it's likely that they are often occuring together. We could test for bigrams (words that typically occur side by side) to see if this is the case. \n",
    "\n",
    "In order to perform this test, we must first convert our list of tokens into and NLTK text. We can then use specific NLTK functions on the text."
   ]
  },
  {
   "cell_type": "code",
   "execution_count": 103,
   "metadata": {
    "collapsed": false
   },
   "outputs": [
    {
     "name": "stdout",
     "output_type": "stream",
     "text": [
      "<class 'list'>\n",
      "<class 'nltk.text.Text'>\n",
      "Project Gutenberg-tm; Project Gutenberg; Literary Archive; Archive\n",
      "Foundation; Gutenberg Literary; United States; Gutenberg-tm\n",
      "electronic; electronic works; set forth; public domain; electronic\n",
      "work; Gutenberg-tm License; Jonathan Swift; per annum; copyright\n",
      "holder; MODEST PROPOSAL; Modest Proposal; PROJECT GUTENBERG; twenty\n",
      "thousand; year old\n"
     ]
    }
   ],
   "source": [
    "print(type(tokens))\n",
    "nltk_text = nltk.Text(tokens)\n",
    "print(type(nltk_text))\n",
    "nltk_text.collocations()"
   ]
  },
  {
   "cell_type": "markdown",
   "metadata": {},
   "source": [
    "### Some linguistics..."
   ]
  },
  {
   "cell_type": "markdown",
   "metadata": {},
   "source": [
    "*Functional linguistics* is a research area concerned with how *realised language* (lexis and grammar) work to achieve meaningful social functions.\n",
    "\n",
    "One functional linguistic theory is *Systemic Functional Linguistics*, developed by Michael Halliday (Prof. Emeritus at University of Sydney).\n",
    "\n",
    "Central to the theory is a division between **experiential meanings** and **interpersonal meanings**.\n",
    "\n",
    "* Experiential meanings communicate what happened to whom, under what circumstances.\n",
    "* Interpersonal meanings negotiate identities and role relationships between speakers \n",
    "\n",
    "Halliday argues that these two kinds of meaning are realised **simultaneously** through different parts of English grammar.\n",
    "\n",
    "* Experiential meanings are made through **transitivity choices**.\n",
    "* Interpersonal meanings are made through **mood choices**\n",
    "\n",
    "\n",
    "Transitivity choices include fitting together configurations of:\n",
    "\n",
    "* Participants (*a man, green bikes*)\n",
    "* Processes (*sleep, has always been, is considering*)\n",
    "* Circumstances (*on the weekend*, *in Australia*)\n",
    "\n",
    "Mood features of a language include:\n",
    "\n",
    "* Mood types (*declarative, interrogative, imperative*)\n",
    "* Modality (*would, can, might*)\n",
    "* Lexical density--wordshe number of words per clause, the number of content to non-content words, etc.\n",
    "\n",
    "Lexical density is usually a good indicator of the general tone of texts. The language of academia, for example, often has a huge number of nouns to verbs. We can approximate an academic tone simply by making nominally dense clauses: \n",
    "\n",
    "      The consideration of interest is the potential for a participant of a certain demographic to be in Group A or Group B*.\n",
    "\n",
    "Notice how not only are there many nouns (*consideration*, *interest*, *potential*, etc.), but that the verbs are very simple (*is*, *to be*).\n",
    "\n",
    "In comparison, informal speech is characterised by smaller clauses, and thus more verbs.\n",
    "\n",
    "      A: Did you feel like dropping by?\n",
    "      B: I thought I did, but now I don't think I want to\n",
    "\n",
    "Here, we have only a few, simple nouns (*you*, *I*), with more expressive verbs (*feel*, *dropping by*, *think*, *want*)\n",
    "\n",
    "> **Note**: SFL argues that through *grammatical metaphor*, one linguistic feature can stand in for another. *Would you please shut the door?* is an interrogative, but it functions as a command. *invitation* is a nominalisation of a process, *invite*. We don't have time to deal with these kinds of realisations, unfortunately."
   ]
  },
  {
   "cell_type": "markdown",
   "metadata": {},
   "source": [
    "In the context of Fraser's speech, there are nearly twice as many nouns as verbs, and the verbs are generally quite simple ones (parts of To Be and To Have make up about a quarter). This suggests that Fraser's speech, even when giving a radio talk to his electorate, is more towards the formal end of the spectrum. "
   ]
  },
  {
   "cell_type": "markdown",
   "metadata": {},
   "source": [
    "## Recap\n",
    "So far today we have:\n",
    "* Imported text into NLTK\n",
    "* Tokenised raw text into words\n",
    "* Tagged words as parts of speech\n",
    "* Converted a list into NLTK Text for further analysis"
   ]
  },
  {
   "cell_type": "markdown",
   "metadata": {},
   "source": [
    "## Stopwords\n",
    "Yesterday, when we did our frequency counts of the books in the NLTK Library, we noticed that a lot of speace was taken up by little words like 'and' and 'of' and 'the' which don't add a lot to our understanding of text. These are called 'stop words'. It will help our analysis if we exclude them."
   ]
  },
  {
   "cell_type": "code",
   "execution_count": 104,
   "metadata": {
    "collapsed": false
   },
   "outputs": [
    {
     "data": {
      "text/plain": [
       "[(',', 510),\n",
       " ('the', 327),\n",
       " ('of', 236),\n",
       " ('.', 183),\n",
       " ('to', 182),\n",
       " ('and', 177),\n",
       " ('a', 141),\n",
       " ('in', 125),\n",
       " ('or', 106),\n",
       " ('Project', 83),\n",
       " ('be', 67),\n",
       " ('for', 63),\n",
       " ('this', 60),\n",
       " ('with', 58),\n",
       " ('by', 55),\n",
       " ('Gutenberg-tm', 55),\n",
       " ('I', 55),\n",
       " ('you', 52),\n",
       " ('that', 51),\n",
       " ('work', 50)]"
      ]
     },
     "execution_count": 104,
     "metadata": {},
     "output_type": "execute_result"
    }
   ],
   "source": [
    "fdist1 = nltk.FreqDist(tokens)\n",
    "fdist1.most_common()[:20]"
   ]
  },
  {
   "cell_type": "code",
   "execution_count": 105,
   "metadata": {
    "collapsed": false
   },
   "outputs": [
    {
     "name": "stdout",
     "output_type": "stream",
     "text": [
      "7304\n",
      "1795\n"
     ]
    }
   ],
   "source": [
    "print(len(nltk_text))\n",
    "print(len(set(nltk_text)))"
   ]
  },
  {
   "cell_type": "code",
   "execution_count": 106,
   "metadata": {
    "collapsed": false
   },
   "outputs": [
    {
     "name": "stdout",
     "output_type": "stream",
     "text": [
      "6273\n",
      "1551\n"
     ]
    }
   ],
   "source": [
    "#First let's get rid of the puncutation\n",
    "text = [word for word in nltk_text if word.isalpha()]\n",
    "print(len(text))#Then get rid of capitals\n",
    "vocab = [word.lower() for word in text]\n",
    "print(len(set(vocab)))"
   ]
  },
  {
   "cell_type": "code",
   "execution_count": 107,
   "metadata": {
    "collapsed": false
   },
   "outputs": [
    {
     "data": {
      "text/plain": [
       "[('project', 88),\n",
       " ('work', 51),\n",
       " ('works', 32),\n",
       " ('gutenberg', 30),\n",
       " ('electronic', 27),\n",
       " ('may', 26),\n",
       " ('foundation', 25),\n",
       " ('terms', 21),\n",
       " ('children', 20),\n",
       " ('agreement', 18),\n",
       " ('would', 18),\n",
       " ('one', 17),\n",
       " ('country', 16),\n",
       " ('thousand', 15),\n",
       " ('kingdom', 15),\n",
       " ('donations', 15),\n",
       " ('upon', 15),\n",
       " ('license', 15),\n",
       " ('states', 14),\n",
       " ('number', 14)]"
      ]
     },
     "execution_count": 107,
     "metadata": {},
     "output_type": "execute_result"
    }
   ],
   "source": [
    "from nltk.corpus import stopwords\n",
    "#Create a variable that contains all the stopwords in the NLTK corpus\n",
    "ignored_words = nltk.corpus.stopwords.words('english')\n",
    "unstopped = [word for word in vocab if word not in stopwords.words('english')]\n",
    "fdist2 = nltk.FreqDist(unstopped)\n",
    "fdist2.most_common()[:20]"
   ]
  },
  {
   "cell_type": "markdown",
   "metadata": {},
   "source": [
    "The list we have now is probably more intersting if we wanted to get a sense of the key issues in the text. Note, we're working with a very small sample here. This sort of analysis is much more useful over really big corpora.\n",
    "\n",
    "*Note: We could have condensed the first two steps into a single line of code that looked like this:*\n",
    "\n",
    "        unstopped = [word for word in speech if word.lower() not in stopwords.words('english') and word.isalpha()]"
   ]
  },
  {
   "cell_type": "markdown",
   "metadata": {},
   "source": [
    "## Collocation\n",
    "We've just used collocation to test a hypothesis about the most common nouns in the speech we were investigating. Collocation can be quite a powerful tool for finding features of language.\n",
    "\n",
    "First, let's look for bigrams in the whole list of tokens:"
   ]
  },
  {
   "cell_type": "code",
   "execution_count": 108,
   "metadata": {
    "collapsed": false
   },
   "outputs": [
    {
     "data": {
      "text/plain": [
       "[(',', 'and'),\n",
       " (',', 'or'),\n",
       " (',', 'that'),\n",
       " (',', 'the'),\n",
       " ('Project', 'Gutenberg'),\n",
       " ('Project', 'Gutenberg-tm'),\n",
       " ('in', 'the'),\n",
       " ('of', 'the'),\n",
       " ('the', 'Project'),\n",
       " ('to', 'the')]"
      ]
     },
     "execution_count": 108,
     "metadata": {},
     "output_type": "execute_result"
    }
   ],
   "source": [
    "from nltk.collocations import *\n",
    "bigram_measures = nltk.collocations.BigramAssocMeasures()\n",
    "finder = BigramCollocationFinder.from_words(tokens)\n",
    "sorted(finder.nbest(bigram_measures.raw_freq, 10))"
   ]
  },
  {
   "cell_type": "markdown",
   "metadata": {},
   "source": [
    "That doesn't tell us much. Let's try again with 'unstopped' our list of tokens with the punctuation and stopwords removed"
   ]
  },
  {
   "cell_type": "code",
   "execution_count": 109,
   "metadata": {
    "collapsed": false
   },
   "outputs": [
    {
     "data": {
      "text/plain": [
       "[('archive', 'foundation'),\n",
       " ('electronic', 'work'),\n",
       " ('electronic', 'works'),\n",
       " ('gutenberg', 'literary'),\n",
       " ('literary', 'archive'),\n",
       " ('project', 'electronic'),\n",
       " ('project', 'gutenberg'),\n",
       " ('project', 'license'),\n",
       " ('terms', 'agreement'),\n",
       " ('united', 'states')]"
      ]
     },
     "execution_count": 109,
     "metadata": {},
     "output_type": "execute_result"
    }
   ],
   "source": [
    "from nltk.collocations import *\n",
    "bigram_measures = nltk.collocations.BigramAssocMeasures()\n",
    "finder = BigramCollocationFinder.from_words(unstopped)\n",
    "sorted(finder.nbest(bigram_measures.raw_freq, 10))"
   ]
  },
  {
   "cell_type": "markdown",
   "metadata": {},
   "source": [
    "As well as identifying collocations (words that appear near each other), we can also look for n-grams or clusters, which appear immediately adjacent to each other. Repeated N-grams are a good way to get a sense of what a text is about. First, let's see how n-grams are created:"
   ]
  },
  {
   "cell_type": "code",
   "execution_count": 131,
   "metadata": {
    "collapsed": false
   },
   "outputs": [
    {
     "name": "stdout",
     "output_type": "stream",
     "text": [
      "['The', 'family', 'of', 'Dashwood', 'had', 'long', 'been', 'settled', 'in', 'Sussex', '.']\n"
     ]
    }
   ],
   "source": [
    "print(sent2)"
   ]
  },
  {
   "cell_type": "code",
   "execution_count": 129,
   "metadata": {
    "collapsed": false,
    "scrolled": true
   },
   "outputs": [
    {
     "name": "stdout",
     "output_type": "stream",
     "text": [
      "('The', 'family', 'of')\n",
      "('family', 'of', 'Dashwood')\n",
      "('of', 'Dashwood', 'had')\n",
      "('Dashwood', 'had', 'long')\n",
      "('had', 'long', 'been')\n",
      "('long', 'been', 'settled')\n",
      "('been', 'settled', 'in')\n",
      "('settled', 'in', 'Sussex')\n",
      "('in', 'Sussex', '.')\n"
     ]
    }
   ],
   "source": [
    "from nltk.util import ngrams\n",
    "trigrams = ngrams(sent2, 3)\n",
    "for gram in trigrams:\n",
    "    print(gram)"
   ]
  },
  {
   "cell_type": "markdown",
   "metadata": {},
   "source": [
    "There are a lot of trigrams in the sentence, and they don't tell us much. It's when n-grams are repeated that they start to get interesting, but before we write code the code for that we need to have some knowledge of dictionaries..."
   ]
  },
  {
   "cell_type": "markdown",
   "metadata": {},
   "source": [
    "### Building a dictionaries\n",
    "\n",
    "We've already worked with strings and lists. Another kind of data structure in Python is a dictionary.\n",
    "Here is how a simple dictionary works:"
   ]
  },
  {
   "cell_type": "code",
   "execution_count": 141,
   "metadata": {
    "collapsed": false
   },
   "outputs": [
    {
     "data": {
      "text/plain": [
       "3809"
      ]
     },
     "execution_count": 141,
     "metadata": {},
     "output_type": "execute_result"
    }
   ],
   "source": [
    "# create a dictionary\n",
    "commonwords = {'the': 4023, 'of': 3809, 'a': 3098}\n",
    "# search the dictionary for 'of'\n",
    "commonwords['of']"
   ]
  },
  {
   "cell_type": "code",
   "execution_count": 142,
   "metadata": {
    "collapsed": false
   },
   "outputs": [
    {
     "data": {
      "text/plain": [
       "dict"
      ]
     },
     "execution_count": 142,
     "metadata": {},
     "output_type": "execute_result"
    }
   ],
   "source": [
    "type(commonwords)"
   ]
  },
  {
   "cell_type": "markdown",
   "metadata": {},
   "source": [
    "The point of dictionaries is to store a key (the word) and a value (the count). When you ask for the key, you get its value.\n",
    "\n",
    "Notice that you use curly braces for dictionaries, but square brackets for lists."
   ]
  },
  {
   "cell_type": "markdown",
   "metadata": {},
   "source": [
    "### Finding duplicate ngrams"
   ]
  },
  {
   "cell_type": "code",
   "execution_count": 126,
   "metadata": {
    "collapsed": false
   },
   "outputs": [
    {
     "name": "stdout",
     "output_type": "stream",
     "text": [
      "7302 6540\n"
     ]
    }
   ],
   "source": [
    "import operator\n",
    "from collections import Counter\n",
    "threshold = 2\n",
    "ng = 3\n",
    "testtext = tokens\n",
    "\n",
    "#Create out ngram, convert to a list, \n",
    "#run a counter to count the number of entries for each unique list element\n",
    "raw_grams = ngrams(testtext, ng)\n",
    "listgrams = list(raw_grams)\n",
    "counts = Counter(listgrams)\n",
    "print(len(listgrams), len(counts))\n",
    "#Create a regular dictionary, this is mostly done so we can ignore Counter values less than threshold\n",
    "D = {}\n",
    "for k,v in counts.items():\n",
    "    if v > threshold:\n",
    "        D[k] = v\n",
    "#Here is a way to sort a dictionary, based on the value (key=operator.itemgetter(1))\n",
    "sorted_x = sorted(D.items(), key=operator.itemgetter(1), reverse=True)"
   ]
  },
  {
   "cell_type": "code",
   "execution_count": 127,
   "metadata": {
    "collapsed": false
   },
   "outputs": [
    {
     "data": {
      "text/plain": [
       "[(('Project', 'Gutenberg-tm', 'electronic'), 18),\n",
       " (('the', 'Project', 'Gutenberg'), 15),\n",
       " (('Project', 'Gutenberg', 'Literary'), 13),\n",
       " (('Gutenberg', 'Literary', 'Archive'), 13),\n",
       " (('Literary', 'Archive', 'Foundation'), 13),\n",
       " (('Gutenberg-tm', 'electronic', 'works'), 12),\n",
       " (('the', 'Project', 'Gutenberg-tm'), 12),\n",
       " (('the', 'terms', 'of'), 12),\n",
       " (('terms', 'of', 'this'), 10),\n",
       " (('of', 'this', 'agreement'), 10),\n",
       " (('the', 'United', 'States'), 9),\n",
       " (('set', 'forth', 'in'), 8),\n",
       " (('.', 'If', 'you'), 8),\n",
       " (('of', 'Project', 'Gutenberg-tm'), 8),\n",
       " (('Project', 'Gutenberg-tm', 'License'), 8),\n",
       " (('of', 'the', 'Project'), 8),\n",
       " (('to', 'the', 'Project'), 7),\n",
       " (('Gutenberg-tm', 'electronic', 'work'), 6),\n",
       " (('this', 'agreement', ','), 6),\n",
       " (('terms', 'of', 'the'), 5),\n",
       " ((',', 'you', 'must'), 5),\n",
       " (('.', 'You', 'may'), 5),\n",
       " (('Project', 'Gutenberg', \"''\"), 5),\n",
       " (('``', 'Project', 'Gutenberg'), 5),\n",
       " (('.', 'I', 'have'), 5),\n",
       " (('full', 'Project', 'Gutenberg-tm'), 5),\n",
       " (('in', 'the', 'United'), 5),\n",
       " (('a', 'Project', 'Gutenberg-tm'), 5),\n",
       " (('the', 'number', 'of'), 5),\n",
       " (('Project', 'Gutenberg-tm', 'works'), 5),\n",
       " (('Project', 'Gutenberg-tm', 'work'), 5),\n",
       " (('the', 'phrase', '``'), 4),\n",
       " (('Project', 'Gutenberg-tm', 'trademark'), 4),\n",
       " (('phrase', '``', 'Project'), 4),\n",
       " (('United', 'States', '.'), 4),\n",
       " (('the', 'copyright', 'holder'), 4),\n",
       " (('.', 'The', 'Foundation'), 4),\n",
       " (('the', 'full', 'Project'), 4),\n",
       " ((',', 'as', 'they'), 4),\n",
       " ((',', 'who', 'are'), 4),\n",
       " ((',', 'and', 'the'), 4),\n",
       " (('part', 'of', 'this'), 4),\n",
       " (('can', 'not', 'be'), 4),\n",
       " (('of', 'the', 'kingdom'), 4),\n",
       " (('or', 'any', 'other'), 4),\n",
       " (('the', 'use', 'of'), 4),\n",
       " (('at', 'http', ':'), 4),\n",
       " (('outside', 'the', 'United'), 3),\n",
       " ((',', 'as', 'I'), 3),\n",
       " (('If', 'an', 'individual'), 3),\n",
       " ((',', 'or', 'any'), 3),\n",
       " (('not', 'agree', 'to'), 3),\n",
       " (('as', 'set', 'forth'), 3),\n",
       " (('of', 'the', 'copyright'), 3),\n",
       " (('a', 'year', 'old'), 3),\n",
       " (('of', 'the', 'work'), 3),\n",
       " (('paragraph', '1.F.3', ','), 3),\n",
       " (('at', 'a', 'year'), 3),\n",
       " (('you', 'do', 'not'), 3),\n",
       " (('(', 'c', ')'), 3),\n",
       " (('.', 'Information', 'about'), 3),\n",
       " (('work', ',', 'or'), 3),\n",
       " (('the', 'owner', 'of'), 3),\n",
       " (('of', 'electronic', 'works'), 3),\n",
       " (('for', 'the', 'use'), 3),\n",
       " (('agreement', ',', 'you'), 3),\n",
       " ((',', 'and', 'for'), 3),\n",
       " (('received', 'the', 'work'), 3),\n",
       " (('free', 'distribution', 'of'), 3),\n",
       " (('by', 'all', 'the'), 3),\n",
       " (('year', 'old', ','), 3),\n",
       " (('.', 'If', 'an'), 3),\n",
       " ((',', 'that', 'a'), 3),\n",
       " (('you', 'received', 'the'), 3),\n",
       " (('this', 'kingdom', ','), 3),\n",
       " ((',', 'in', 'the'), 3),\n",
       " (('owner', 'of', 'the'), 3),\n",
       " (('this', 'electronic', 'work'), 3),\n",
       " (('A', 'MODEST', 'PROPOSAL'), 3),\n",
       " (('.', 'Do', 'not'), 3),\n",
       " (('electronic', 'work', 'is'), 3),\n",
       " (('I', 'have', 'already'), 3),\n",
       " (('permission', 'of', 'the'), 3),\n",
       " (('A', 'Modest', 'Proposal'), 3),\n",
       " (('children', 'of', 'poor'), 3),\n",
       " (('person', 'or', 'entity'), 3),\n",
       " (('of', 'poor', 'people'), 3),\n",
       " (('the', 'publick', ','), 3),\n",
       " (('electronic', 'works', '.'), 3),\n",
       " ((',', 'which', ','), 3),\n",
       " (('which', ',', 'as'), 3),\n",
       " (('forth', 'in', 'paragraph'), 3),\n",
       " (('you', 'can', 'do'), 3),\n",
       " (('any', 'Project', 'Gutenberg-tm'), 3),\n",
       " (('the', 'kingdom', ','), 3),\n",
       " (('can', 'do', 'with'), 3),\n",
       " (('to', 'the', 'publick'), 3),\n",
       " (('electronic', 'works', 'in'), 3),\n",
       " (('electronic', 'work', ','), 3),\n",
       " (('as', 'I', 'have'), 3),\n",
       " (('country', ',', 'and'), 3),\n",
       " (('The', 'Project', 'Gutenberg'), 3),\n",
       " (('years', 'old', ','), 3),\n",
       " ((';', 'and', 'I'), 3),\n",
       " ((',', 'as', 'to'), 3),\n",
       " ((',', 'performing', ','), 3),\n",
       " (('the', 'charge', 'of'), 3),\n",
       " (('all', 'the', 'terms'), 3),\n",
       " (('the', 'public', 'domain'), 3),\n",
       " (('I', 'have', 'been'), 3),\n",
       " (('electronic', 'works', ','), 3),\n",
       " ((',', 'and', 'therefore'), 3),\n",
       " (('per', 'annum', ','), 3),\n",
       " (('or', 'online', 'at'), 3),\n",
       " (('copies', 'of', 'Project'), 3),\n",
       " (('the', 'children', 'of'), 3),\n",
       " (('as', 'to', 'the'), 3),\n",
       " (('complying', 'with', 'the'), 3)]"
      ]
     },
     "execution_count": 127,
     "metadata": {},
     "output_type": "execute_result"
    }
   ],
   "source": [
    "sorted_x"
   ]
  },
  {
   "cell_type": "markdown",
   "metadata": {},
   "source": [
    "This last bit of code is more advanced. Don't worry if you forget what every line means. If you are interested getting more comfortable with Python, come to our [Python]('https://github.com/resbaz/2015-12-14-Python-for-Researchers') course."
   ]
  },
  {
   "cell_type": "markdown",
   "metadata": {},
   "source": [
    "# Web scraping using Beautiful Soup"
   ]
  },
  {
   "cell_type": "markdown",
   "metadata": {},
   "source": [
    "The most important skill for using NLTK in your life as a researchers is going to be working with your own texts. First, let's look at reading in text files directly from the web.\n",
    "\n",
    "Of course, a lot of the text you're going to want to work with won't be in handy text files already. That's where a Python library called Beautiful Soup comes in.\n",
    "\n",
    "*Note*: the ! is a way of accessing command line functions from the notebook. We could also do this in the terminal (without the !). "
   ]
  },
  {
   "cell_type": "code",
   "execution_count": 156,
   "metadata": {
    "collapsed": false
   },
   "outputs": [
    {
     "name": "stdout",
     "output_type": "stream",
     "text": [
      "Requirement already satisfied (use --upgrade to upgrade): BeautifulSoup4 in /usr/local/lib/python3.4/dist-packages\r\n",
      "Cleaning up...\r\n"
     ]
    }
   ],
   "source": [
    "!sudo pip3 install BeautifulSoup4\n",
    "from urllib.request import urlopen"
   ]
  },
  {
   "cell_type": "code",
   "execution_count": 153,
   "metadata": {
    "collapsed": true
   },
   "outputs": [],
   "source": [
    "from bs4 import BeautifulSoup"
   ]
  },
  {
   "cell_type": "code",
   "execution_count": 154,
   "metadata": {
    "collapsed": true
   },
   "outputs": [],
   "source": [
    "url = \"http://en.wikipedia.org/wiki/Smog\""
   ]
  },
  {
   "cell_type": "code",
   "execution_count": 160,
   "metadata": {
    "collapsed": false
   },
   "outputs": [
    {
     "name": "stdout",
     "output_type": "stream",
     "text": [
      "<class 'bytes'>\n",
      "b'>Smog - Wikipedia, the free encyclopedia</title>\\n<script>document.documentElement.className = docume'\n"
     ]
    }
   ],
   "source": [
    "raw = urlopen(url).read()\n",
    "print(type(raw))\n",
    "print(raw[100:200])"
   ]
  },
  {
   "cell_type": "markdown",
   "metadata": {},
   "source": [
    "Beautiful Soup breaks the single long string into its constituent parts, creating an object 'Beautiful Soup'"
   ]
  },
  {
   "cell_type": "code",
   "execution_count": 161,
   "metadata": {
    "collapsed": false
   },
   "outputs": [
    {
     "name": "stdout",
     "output_type": "stream",
     "text": [
      "<class 'bs4.BeautifulSoup'>\n"
     ]
    }
   ],
   "source": [
    "soup = BeautifulSoup(raw, 'html.parser')\n",
    "print(type(soup))"
   ]
  },
  {
   "cell_type": "code",
   "execution_count": 162,
   "metadata": {
    "collapsed": false
   },
   "outputs": [
    {
     "name": "stdout",
     "output_type": "stream",
     "text": [
      "['Smog is a type of air pollutant. The word \"smog\" was coined in the early 20th century as a portmanteau of the words smoke and fog to refer to smoky fog.[1] The word was then intended to refer to what was sometimes known as pea soup fog, a familiar and serious problem in London from the 19th century to the mid 20th century. This kind of visible air pollution is composed of nitrogen oxides, sulfur oxides, ozone, smoke or particulates among others (less visible pollutants include carbon monoxide, CFCs and radioactive sources). Man-made smog is derived from coal emissions, vehicular emissions, industrial emissions, forest and agricultural fires and photochemical reactions of these emissions.', 'Modern smog, as found for example in Los Angeles, is a type of air pollution derived from vehicular emission from internal combustion engines and industrial fumes that react in the atmosphere with sunlight to form secondary pollutants that also combine with the primary emissions to form photochemical smog. In certain other cities, such as Delhi, smog severity is often aggravated by stubble burning in neighboring agricultural areas. The atmospheric pollution levels of Los Angeles, Beijing, Delhi, Mexico City, Tehran and other cities are increased by inversion that traps pollution close to the ground. It is usually highly toxic to humans and can cause severe sickness, shortened life or death.', '', '', 'Coinage of the term \"smog\" is generally attributed to Dr. Henry Antoine Des Voeux in his 1905 paper, \"Fog and Smoke\" for a meeting of the Public Health Congress. The July 26, 1905 edition of the London newspaper Daily Graphic quoted Des Voeux, \"He said it required no science to see that there was something produced in great cities which was not found in the country, and that was smoky fog, or what was known as \\'smog.\\'\"[2] The following day the newspaper stated that \"Dr. Des Voeux did a public service in coining a new word for the London fog.\" However, this is predated by a Los Angeles Times article of January 19, 1893, in which the word is attributed to \"a witty English writer.\"', \"Coal fires, used to heat individual buildings or in a power-producing plant, can emit significant clouds of smoke that contributes to smog. Air pollution from this source has been reported in England since the Middle Ages.[3] London, in particular, was notorious up through the mid-20th century for its coal-caused smogs, which were nicknamed 'pea-soupers.' Air pollution of this type is still a problem in areas that generate significant smoke from burning coal, as witnessed by the 2013 autumnal smog in Harbin, China, which closed roads, schools, and the airport.\", 'Traffic emissions – such as from trucks, buses, and automobiles – also contribute.[4] Airborne by-products from vehicle exhaust systems cause air pollution and are a major ingredient in the creation of smog in some large cities.[5][6][7][8]', 'The major culprits from transportation sources are carbon monoxide (CO),[9][10] nitrogen oxides (NO and NOx),[11][12][13] volatile organic compounds,[10][11] sulfur dioxide,[10] and hydrocarbons.[10] (Hydrocarbons are the main components of petroleum fuels such as gasoline and diesel fuel.) These molecules react with sunlight, heat, ammonia, moisture, and other compounds to form the noxious vapors, ground level ozone, and particles that comprise smog.[10][11]', 'Photochemical smog is the chemical reaction of sunlight, nitrogen oxides and volatile organic compounds in the atmosphere, which leaves airborne particles and ground-level ozone.[14] This noxious mixture of air pollutants may include the following:', 'A primary pollutant is an air pollutant emitted directly from a source. A secondary pollutant is not directly emitted as such, but forms when other pollutants (primary pollutants) react in the atmosphere. Examples of a secondary pollutant include ozone, which is formed when hydrocarbons (HC) and nitrogen oxides (NOx) combine in the presence of sunlight; nitrogen dioxide (NO2), which is formed as nitric oxide (NO) combines with oxygen in the air; and acid rain, which is formed when sulfur dioxide or nitrogen oxides react with water.[15] All of these harsh chemicals are usually highly reactive and oxidizing. Photochemical smog is therefore considered to be a problem of modern industrialization. It is present in all modern cities, but it is more common in cities with sunny, warm, dry climates and a large number of motor vehicles.[16] Because it travels with the wind, it can affect sparsely populated areas as well.']\n"
     ]
    }
   ],
   "source": [
    "texts = []\n",
    "for para in soup.find_all('p'):\n",
    "    text = para.text\n",
    "    texts.append(text)\n",
    "print(texts[:10])"
   ]
  },
  {
   "cell_type": "code",
   "execution_count": 164,
   "metadata": {
    "collapsed": false
   },
   "outputs": [
    {
     "name": "stdout",
     "output_type": "stream",
     "text": [
      "<class 'str'>\n",
      "Smog is a type of air pollutant. The word \"smog\" was coined in the early 20th century as a portmante\n"
     ]
    }
   ],
   "source": [
    "import re\n",
    "regex = re.compile('\\[[0-9]*\\]')\n",
    "joined_texts = '\\n'.join(texts)\n",
    "joined_texts = re.sub(regex, '', joined_texts)\n",
    "print(type(joined_texts))\n",
    "print(joined_texts[:100])"
   ]
  },
  {
   "cell_type": "markdown",
   "metadata": {},
   "source": [
    "In order to work on the text, the first step is to tokenise it into words."
   ]
  },
  {
   "cell_type": "code",
   "execution_count": 165,
   "metadata": {
    "collapsed": false
   },
   "outputs": [
    {
     "data": {
      "text/plain": [
       "['Smog', 'is', 'a', 'type', 'of', 'air', 'pollutant', '.']"
      ]
     },
     "execution_count": 165,
     "metadata": {},
     "output_type": "execute_result"
    }
   ],
   "source": [
    "import nltk\n",
    "wordlist = nltk.word_tokenize(joined_texts)\n",
    "wordlist[:8]"
   ]
  },
  {
   "cell_type": "markdown",
   "metadata": {},
   "source": [
    "For some other types of analysis, we'll need to create an NLTK text object"
   ]
  },
  {
   "cell_type": "code",
   "execution_count": 166,
   "metadata": {
    "collapsed": false
   },
   "outputs": [
    {
     "name": "stdout",
     "output_type": "stream",
     "text": [
      "Displaying 25 of 39 matches:\n",
      "                                     Smog is a type of air pollutant . The wor\n",
      "                                     smog '' was coined in the early 20th cent\n",
      "and radioactive sources ) . Man-made smog is derived from coal emissions , veh\n",
      "eactions of these emissions . Modern smog , as found for example in Los Angele\n",
      "mary emissions to form photochemical smog . In certain other cities , such as \n",
      "rtain other cities , such as Delhi , smog severity is often aggravated by stub\n",
      "fe or death . Coinage of the term `` smog '' is generally attributed to Dr. He\n",
      " clouds of smoke that contributes to smog . Air pollution from this source has\n",
      " , as witnessed by the 2013 autumnal smog in Harbin , China , which closed roa\n",
      " major ingredient in the creation of smog in some large cities . The major cul\n",
      " ozone , and particles that comprise smog . Photochemical smog is the chemical\n",
      "s that comprise smog . Photochemical smog is the chemical reaction of sunlight\n",
      "active and oxidizing . Photochemical smog is therefore considered to be a prob\n",
      "automotive exhaust and photochemical smog was discovered in the 1950s by Arie \n",
      "wo key components to the creation of smog . However , the smog created as a re\n",
      "the creation of smog . However , the smog created as a result of a volcanic er\n",
      "s been linked to the distribution of smog in some areas . For example , the cr\n",
      " has been shown to have an effect on smog distribution that is more than fossi\n",
      " than fossil fuel combustion alone . Smog is a serious problem in many cities \n",
      "o Medical Association announced that smog is responsible for an estimated 9,50\n",
      " who had healthy babies , found that smog in the San Joaquin Valley area of Ca\n",
      "w the current accepted safe levels . Smog can form in almost any climate where\n",
      "hi 's children and women . The dense smog in Delhi during winter season result\n",
      "results in severe intensification of smog over Delhi . The state government of\n",
      "ust our iron . '' Severe episodes of smog continued in the 19th and 20th centu\n"
     ]
    }
   ],
   "source": [
    "good_text = nltk.Text(wordlist)\n",
    "good_text.concordance('smog')"
   ]
  },
  {
   "cell_type": "markdown",
   "metadata": {},
   "source": [
    "And once we've done all that work creating clean text, it's a good idea to save it for later."
   ]
  },
  {
   "cell_type": "code",
   "execution_count": 167,
   "metadata": {
    "collapsed": false
   },
   "outputs": [
    {
     "name": "stdout",
     "output_type": "stream",
     "text": [
      "/home/researcher\n",
      "mkdir: cannot create directory 'smog': File exists\n",
      "/home/researcher/smog\n"
     ]
    }
   ],
   "source": [
    "%cd\n",
    "! mkdir smog\n",
    "%cd smog"
   ]
  },
  {
   "cell_type": "code",
   "execution_count": 168,
   "metadata": {
    "collapsed": true
   },
   "outputs": [],
   "source": [
    "NLTK_file = open(\"NLTK-Smog.txt\", \"w\", encoding='UTF-8')\n",
    "NLTK_file.write(str(wordlist))\n",
    "NLTK_file.close()"
   ]
  },
  {
   "cell_type": "code",
   "execution_count": 169,
   "metadata": {
    "collapsed": true
   },
   "outputs": [],
   "source": [
    "text_file = open(\"Smog-text.txt\", \"w\", encoding='UTF-8')\n",
    "text_file.write(joined_texts)\n",
    "text_file.close()"
   ]
  },
  {
   "cell_type": "code",
   "execution_count": 171,
   "metadata": {
    "collapsed": false
   },
   "outputs": [
    {
     "data": {
      "text/plain": [
       "'of this type is still'"
      ]
     },
     "execution_count": 171,
     "metadata": {},
     "output_type": "execute_result"
    }
   ],
   "source": [
    "joined_texts[2450:2471]"
   ]
  },
  {
   "cell_type": "code",
   "execution_count": 172,
   "metadata": {
    "collapsed": true
   },
   "outputs": [],
   "source": [
    "#joined_texts[2450:2470]\n",
    "text_file = open(\"Smog-text.txt\", \"w\", encoding='UTF-8')\n",
    "text_file.write(joined_texts)\n",
    "text_file.close()"
   ]
  },
  {
   "cell_type": "markdown",
   "metadata": {},
   "source": [
    "Now have a look at the two files you've created in the file management system. Open them. How is the nltk file different from the .txt file?"
   ]
  },
  {
   "cell_type": "markdown",
   "metadata": {},
   "source": [
    "**Challenge!**\n",
    "* Find a webpage of interest to your studies and use Beautiful Soup to extract the text\n",
    "* Tokenise the text\n",
    "* Find the most common words in your text (Extension: remove the stop words)\n",
    "* Find trigrams in your text \n",
    "* Save your text to a text file\n",
    "\n",
    "*Hint*: feel free to collude with your neighbours and please copy and paste our previous code! Copying and pasting are essential skills of developers, as well as googling error messages (seriously!). If you don't believe me, ask a computer scientist. "
   ]
  },
  {
   "cell_type": "code",
   "execution_count": null,
   "metadata": {
    "collapsed": true
   },
   "outputs": [],
   "source": []
  }
 ],
 "metadata": {
  "kernelspec": {
   "display_name": "Python 3",
   "language": "python",
   "name": "python3"
  },
  "language_info": {
   "codemirror_mode": {
    "name": "ipython",
    "version": 3
   },
   "file_extension": ".py",
   "mimetype": "text/x-python",
   "name": "python",
   "nbconvert_exporter": "python",
   "pygments_lexer": "ipython3",
   "version": "3.4.2"
  }
 },
 "nbformat": 4,
 "nbformat_minor": 0
}
