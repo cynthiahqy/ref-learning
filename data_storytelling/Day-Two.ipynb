{
 "cells": [
  {
   "cell_type": "markdown",
   "metadata": {},
   "source": [
    "# Day Two: SESSION ONE\n",
    "\n",
    "Before we start, make sure you import nltk into your new notebook, as well as numpy and the example texts."
   ]
  },
  {
   "cell_type": "code",
   "execution_count": 1,
   "metadata": {},
   "outputs": [
    {
     "name": "stdout",
     "output_type": "stream",
     "text": [
      "*** Introductory Examples for the NLTK Book ***\n",
      "Loading text1, ..., text9 and sent1, ..., sent9\n",
      "Type the name of the text or sentence to view it.\n",
      "Type: 'texts()' or 'sents()' to list the materials.\n",
      "text1: Moby Dick by Herman Melville 1851\n",
      "text2: Sense and Sensibility by Jane Austen 1811\n",
      "text3: The Book of Genesis\n",
      "text4: Inaugural Address Corpus\n",
      "text5: Chat Corpus\n",
      "text6: Monty Python and the Holy Grail\n",
      "text7: Wall Street Journal\n",
      "text8: Personals Corpus\n",
      "text9: The Man Who Was Thursday by G . K . Chesterton 1908\n"
     ]
    }
   ],
   "source": [
    "import nltk\n",
    "import numpy\n",
    "%matplotlib inline\n",
    "import pylab\n",
    "from nltk.book import *"
   ]
  },
  {
   "cell_type": "markdown",
   "metadata": {},
   "source": [
    "# Tokenisation Revisted"
   ]
  },
  {
   "cell_type": "markdown",
   "metadata": {},
   "source": [
    "Upload the file you saved yesterday to the Jupyter notebook. \n",
    "- Find the file in Jupyter (where you saved it in Excel) to discovery your 'directory path'. \n",
    "- For Mac go to the find and press command+shift+H for home for the name of your home directory. It should be a combination of your name from when you originally set up for computer. \n",
    "- Your pathway to the file you saved will be \"/User/YourHomeDirectory/Documents/YourFileName.txt\"\n"
   ]
  },
  {
   "cell_type": "markdown",
   "metadata": {},
   "source": [
    "Save that directory as a string with a variable"
   ]
  },
  {
   "cell_type": "code",
   "execution_count": 119,
   "metadata": {
    "collapsed": true
   },
   "outputs": [],
   "source": [
    "textpath = \"/Users/cynthiiee/Desktop/DataStorytelling/Melbourne-PT/Melbourne-bus-csv.csv\""
   ]
  },
  {
   "cell_type": "markdown",
   "metadata": {},
   "source": [
    "Python's `os` module can be used to perform tasks such as finding the name of present working directory, changing current working directory, checking if certain files or directories exist at a location, creating new directories and much more!. Let's import os to help us read the file path we just set in Python."
   ]
  },
  {
   "cell_type": "code",
   "execution_count": 3,
   "metadata": {
    "collapsed": true
   },
   "outputs": [],
   "source": [
    "import os "
   ]
  },
  {
   "cell_type": "code",
   "execution_count": 4,
   "metadata": {},
   "outputs": [
    {
     "name": "stdout",
     "output_type": "stream",
     "text": [
      "RT @evancockerell: @Transdev_Melb 309 12:20 Queen/Collins 27/4 driver sits in bus doors closed no route at least 5 minutes b4 allowing PSAT…\n",
      "@metrotrains when metro can't get any buses but Ventura is always on stand bye I think Ventura sould take over the… https://t.co/io0idjsWRn\n",
      "@BusVicTweets @VenturaBus Well done bulldog a deserving gentleman\n",
      "\"@Transdev_Melb Thanks, good to know there are heaters\"\n",
      "\"Now we're even later and I'll be marked late, thanks @VenturaBus\"\n",
      "RT @BusVicTweets: @BusVicTweets Driver of the Year 2017 is Richard Drummond from @VenturaBus. Well done Richard! #BusVic17 https://t.co/6hj…\n",
      "The bus driver for changeover is late and i get marked late if i'm even 5 mins late!!! 😡@VenturaBus\n",
      "RT @BusVicTweets: Pascale Neitzner of @VenturaBus is @BusVicTweets Apprentice of the Year #2. Congratulations Pascale! #BusVic17 https://t.…\n",
      "RT @BusVicTweets: @BusVicTweets Driver of the Year 2017 is Richard Drummond from @VenturaBus. Well done Richard! #BusVic17 https://t.co/6hj…\n",
      "RT @BusVicTweets: @BusVicTweets Driver of the Year 2017 is Richard Drummond from @VenturaBus. Well done Richard! #BusVic17 https://t.co/6hj…\n",
      "RT @BusVicTweets: Pascale Neitzner of @VenturaBus is @BusVicTweets Apprentice of the Year #2. Congratulations Pascale! #BusVic17 https://t.…\n",
      "RT @BusVicTweets: @BusVicTweets Driver of the Year 2017 is Richard Drummond from @VenturaBus. Well done Richard! #BusVic17 https://t.co/6hj…\n",
      "RT @BusVicTweets: @BusVicTweets Driver of the Year 2017 is Richard Drummond from @VenturaBus. Well done Richard! #BusVic17 https://t.co/6hj…\n",
      "@BusVicTweets Driver of the Year 2017 is Richard Drummond from @VenturaBus. Well done Richard! #BusVic17 https://t.co/6hj6Nfdac3\n",
      "RT @BusVicTweets: Pascale Neitzner of @VenturaBus is @BusVicTweets Apprentice of the Year #2. Congratulations Pascale! #BusVic17 https://t.…\n",
      "Pascale Neitzner of @VenturaBus is @BusVicTweets Apprentice of the Year #2. Congratulations Pascale! #BusVic17 https://t.co/mIDWc2cuzd\n",
      "@dysongroup 513 now en route to Glenroy. Grt driver but christain radio.....plssss NOOOO.\n",
      "Expcted worse but morning trambustram ride went smood @yarratrams @ptv_official @VicRoads @Transdev_Melb #RoadWorks @metrotunnelvic @theage\n",
      "@Transdev_Melb cool morning. Why aren't there heaters running on your buses?\n",
      "Found a @Transdev_Melb bus with the heater on! 👍🏻🔥🚍\n",
      "This bus sound b taking out of service @Transdev_Melb https://t.co/SK6bsPZd0A\n",
      "@EagleGiles23 @VenturaBus @metrotrains funny how they can afford alcohol/smokes ($30+) but can't/refuse to spend $6… https://t.co/rXs5ZWOptj\n",
      "@Intel_Punter @VenturaBus @metrotrains Gee I hope you're not on my jury\n",
      "@EagleGiles23 if they don't they are criminals. On a bus I like to point out those who don't swipe on and make them… https://t.co/OborGu6uyz\n",
      "Seriously @VenturaBus @ptv_official @ptua no Frankston -Rosebud bus between 22:36h Sat &amp; 00:27 Sun? No one can think to have an 23:30h bus?\n",
      "Reminder: Route 58/St Kilda Rd trams &amp; @Transdev_Melb impacts due to @metrotunnelvic works. Plan ahead &amp; allow time: https://t.co/j1ITdHHgWU\n",
      "@Transdev_Melb shameful behaviour.yelled and refused to move the bus until i touched on myki-was ALREADY touched on… https://t.co/K2sQN2RHif\n",
      "@Transdev_Melb watch out for verbally abusive driver on routes 200/201 especially if you're young woman.he will pic… https://t.co/7Z50ErPe2Y\n",
      "RT @katelynannne_: @Transdev_Melb you need to clean your busses more often. This is disgusting. https://t.co/hCmY9ELaN9\n",
      "\"RT @robwise: @Transdev_Melb @ptv_official @TransdevWatch Thanks, but look at all the dust next to the window on the 279 right now. Must hav…\"\n",
      "\"RT @DearPlanA: @Transdev_Melb take note &amp; fix pathetic #Melbourne bus system. ALWAYS LATE, THAT IS *IF* BUS SHOWS UP! @DanielAndrewsMP #spr…\"\n",
      "\"RT @robwise: @Transdev_Melb @ptv_official @TransdevWatch Thanks, but look at all the dust next to the window on the 279 right now. Must hav…\"\n",
      "\"RT @TSVsafety: @TransdevWatch @nick_rowan @Transdev_Melb @ptv_official I've passed this on to our compliance team, thank you. TSV\"\n",
      "\"@Transdev_Melb take note &amp; fix pathetic #Melbourne bus system. ALWAYS LATE, THAT IS *IF* BUS SHOWS UP!… https://t.co/jgJOL55p6A\"\n",
      "RT @dysongroup: Delay on 517 route. The 1653 ex St Helena to Northland Sc is late 20 min due to unforseen operational issues\n",
      "@VenturaBus Driver of bus 897 on rt 736 says new stop on Mitcham Rd at station is not for him. Previous driver was OK with it. Who's right?\n",
      "RT @dysongroup: Multiple service disruption. Services on route 553 are 20 min late due to traffic at High St Preston\n",
      "RT @dysongroup: Multiple service disruption. Services on route 553 are 20 min late due to traffic at High St Preston\n",
      "\"RT @dysongroup: Multiple service disruption. Services on route 358,356,357 are 20 min late due to traffic at High St Epping\"\n",
      "RT @dysongroup: Delay on 561 route. The 15:19 ex Vincent St to La Trobe University is late 10 min due to traffic\n",
      "@kickass1456 @VenturaBus @ptv_official Yes they do carry the old logo. https://t.co/coalVwNtIq\n",
      "RT @Transdev_Melb: Allow extra time for your journey as major works at St Kilda Rd start this weekend which may affect bus Routes 216 219 &amp;…\n",
      "@MattyScambler @VenturaBus @ptv_official Do they still have the red G volgren sign in them\n",
      "RT @Transdev_Melb: Allow extra time for your journey as major works at St Kilda Rd start this weekend which may affect bus Routes 216 219 &amp;…\n",
      "RT @Transdev_Melb: Allow extra time for your journey as major works at St Kilda Rd start this weekend which may affect bus Routes 216 219 &amp;…\n",
      "RT @Transdev_Melb: Allow extra time for your journey as major works at St Kilda Rd start this weekend which may affect bus Routes 216 219 &amp;…\n",
      "@CDCVictoria I'd like to get to work on time this morning! #lateagain #ballarat #poorperformance #ptv\n",
      "@Transdev_Melb @yarratrams Yay! More excuses for you to hide behind on the terrible #216 and #219 'service' you provide\n",
      "RT @Transdev_Melb: Allow extra time for your journey as major works at St Kilda Rd start this weekend which may affect bus Routes 216 219 &amp;…\n",
      "@ptv_official better fix those bus gps @transdev_melb\n",
      "@MattyScambler @ptv_official @VenturaBus @CDCVictoria @dysongroup In the year 3000\n",
      "@VenturaBus how that happen\n",
      "@HurstbridgeLine @hipstergeddon @Transdev_Melb I suspect they don't give cleaning staff enough time to clean off the graffiti.\n",
      "@HurstbridgeLine @hipstergeddon @Transdev_Melb I was cleaning it off metal not plastic and the water was able to go… https://t.co/kFPsWYlFvu\n",
      "@dwilliamson931 @hipstergeddon If only @Transdev_Melb knew this trick\n",
      "RT @VenturaBus: R 765 departure Mitcham@18:13 is running late 15 to 20 mins due technical difficulties. PHK\n",
      "RT @dysongroup: Delay on 566 route. The 1819 ex Lalor Shops to Northland SC is late 15 min due to traffic\n",
      "RT @dysongroup: Delay on 513 route. The 1810 ex Glenroy RS to Eltham is late 20 min due to traffic\n",
      "RT @dysongroup: Delay on 513 route. The 1805 ex Coburg RS to Rosanna is late 20 min due to traffic\n",
      "@VenturaBus driver of bus #140 on the 5:40pm Aapendale Gardens 858 was super slow doing 30 - 40km/h the entire trip and was 5 - 10 late\n",
      "\"RT @VenturaBus: R788 Frankston\n",
      "07:34 Safety Beach to Frankston - Sorry Bus Full\n",
      "#R788 LSR\"\n",
      "RT @dysongroup: Delay on 542 route. The 1559 ex Broadmeadows RS to Roxburgh Park RS is late 15 min due to traffic\n",
      "RT @dysongroup: Delay on 553 route. The 16:15 ex Reservoir RS to West Preston is late 10 min due to traffic\n",
      "RT @dysongroup: Delay on 546 route. The 1600 ex Heidelberg RS to Melbourne Uni is late 10 min due to traffic\n",
      "RT @dysongroup: Delay on 561 route. The 16:19 ex McLeod Village to Pascoe Vale RS is late 10 min due to traffic\n",
      "RT @dysongroup: Delay on 556 route. The 15:54 ex Keon Pde to Northland SC is late 35 min due to traffic\n",
      "RT @dysongroup: Delay on 513 route. The 1607 ex Preston to Glenroy RS is late 20 min due to traffic\n",
      "RT @dysongroup: Delay on 513 route. The 1625 ex Oriel Road to Eltham RS is late 10 min due to traffic\n",
      "RT @dysongroup: Delay on 556 route. The 16:19 ex Reservoir RS to Epping Plaza is late 35 min due to traffic\n",
      "@Transdev_Melb you need to clean your busses more often. This is disgusting. https://t.co/hCmY9ELaN9\n",
      "@MattyScambler @ptv_official @CDCVictoria @dysongroup No firm date on when this will occur. RHD\n",
      "@ptv_official When will buses be updated to next gen myki readers? @VenturaBus @CDCVictoria @dysongroup\n",
      "@VenturaBus *Jordanville\n",
      "@VenturaBus Just had a bus pass on express after waiting for 45m so far 😳\n",
      "\"@VenturaBus Any update for the 767, currently at Jotdanville station. Thanks.\"\n",
      "\"@Transdev_Melb @ptv_official @TransdevWatch Another bus, more dust! Easily wiped away. Where are the cleaners… https://t.co/TMNWIWN1F6\"\n",
      "Last new Mercedes Volgren bus delivery @VenturaBus @ptv_official https://t.co/VX0tQokDc7\n",
      "\"@Transdev_Melb Bus 8299 6.56am Broadmeadows Stn to Airport a very jerky ride - stop/start, lurching. Not sure if driver fault or vehicle.\"\n",
      "@VenturaBus Doesn't help me today. Or the dozens of other stranded people\n",
      "\"RT @VenturaBus: R788 Frankston\n",
      "07:34 Safety Beach to Frankston - Sorry Bus Full\n",
      "#R788 LSR\"\n",
      "\"@VenturaBus And, well done, you don't answer your phones either\"\n",
      "@VenturaBus Like that has never happened before - ever thought about a plan to address it - useless\n",
      "Another @Transdev_Melb bus with zero heating. #melbourne\n",
      "Now 10 mins into full volume conversation on the #216 bus. Someone just gave birth apparently... @Transdev_Melb… https://t.co/i3aXJH5bnu\n",
      "At stop ID3481 waiting for the @VenturaBus 703 after Sushi and Ice Cream with the Issy Monster\n",
      "RT @dysongroup: Delay on 561 route. The 16:15 ex Coburg to Pascoe Vale is late 10 min due to traffic\n",
      "RT @dysongroup: Delay on 357 route. The 1602 ex Thomastown RS to Wollert West is late 10 min due to traffic\n",
      "RT @dysongroup: Delay on 382 route. The 1611 ex Bundoora RMIT to Northland SC is late 10 min due to traffic\n",
      "RT @dysongroup: Delay on 546 route. The 1502 ex Ivanhoe East to Melbourne Uni is late 10 min due to traffic\n",
      "RT @dysongroup: Delay on 381 route. The 1501 ex Laurimar SC to Diamond Creek RS is late 15 min due to traffic\n",
      "\"@VenturaBus where is 847 Bus?? I'm waiting 3:13 pm bus, late late late!! #berwickstation\"\n",
      "\"@transdev_melb driver with only one hand on the wheel, listening to talk-back radio while doing 100km/h in the freeway bus lane - scary.\"\n",
      "\"RT @robwise: 10:05pm 908 bus has cobwebs, litter and graffiti. Do you employ cleaners @Transdev_Melb? @ptv_official @TransdevWatch https://…\"\n",
      "\"@Transdev_Melb @ptv_official @TransdevWatch Thanks, but look at all the dust next to the window on the 279 right no… https://t.co/HkCDUXM78k\"\n",
      "\"@Transdev_Melb tell Mark he's famous now, he's in the bus photo :) https://t.co/ewnCNdaXXq\"\n",
      "It's a good morning when my favourite driver is at the helm of @VenturaBus 737! He's so friendly!\n",
      "@CDCVictoria Waiting 30 minutes for 419. No s**t sherlock.\n",
      "@Judy_deHaan29 @CDCVictoria I'm ok but it gave me a fright. I've lodged a complaint\n",
      "@CDCVictoria @BradleySmith3 Done\n",
      "@VenturaBus Especially when there is only one bus an hour. Not good enough ...\n",
      "@VenturaBus Same crap as yesterday except that guy was so slow. Bus services are supposed to run on time. We rely on the schedules\n",
      "\"@VenturaBus I'm sending you guys the taxi bill. Bus comes once an hour and the driver was 3 minutes early past my stop, as I was walking out\"\n",
      "@rebeccahritchie @CDCVictoria Oh no! Hope you didn't slip?!!\n",
      "Possibly colder inside this @Transdev_Melb bus than outside. #zeroheating #melbourne\n",
      "\"10:05pm 908 bus has cobwebs, litter and graffiti. Do you employ cleaners @Transdev_Melb? @ptv_official… https://t.co/msU3W6tr5g\"\n",
      "RT @danielbowen: @VenturaBus Is time point/layover in Bentleigh for R703 to Brighton still the stop before the station? Can this be changed?\n",
      "@BradleySmith3 @CDCVictoria He'd obviously just mopped the floor (no rain in sight). I was holding on and still fel… https://t.co/O7A8Xptu47\n",
      "@rebeccahritchie @CDCVictoria Gravity and motion and (little) resistance?\n",
      "\"Hi @CDCVictoria if you're responsible for Bus route 220, r u sure it's a good idea for drivers to start &amp; stop suddenly with wet floors?!\"\n",
      "@VenturaBus Is time point/layover in Bentleigh for R703 to Brighton still the stop before the station? Can this be changed?\n",
      "@venturabus is the 4.31 849 running?\n",
      "RT @dysongroup: Delay on 561 route. The 15:10 ex Reservoir RS to McLeod Village is late 10 min due to traffic\n",
      "RT @dysongroup: Dysons are raising awareness on behalf of @BowelCancerAust this month. #BowelCancer has touched many of our staff's Familie…\n",
      "RT @dysongroup: Want to drive a bus? Positions available at our #Reservoir &amp; #Bundoora Depots. Click&gt;&gt; https://t.co/GMRnzsxUse https://t.co…\n",
      "RT @dysongroup: Dysons are raising awareness on behalf of @BowelCancerAust this month. #BowelCancer has touched many of our staff's Familie…\n",
      "\"RT @trapezegroupAP: Congratulations to industry legend, Col Dyson of @dysongroup - awarded Medal of the Order of Aus! https://t.co/8Q6Gv82L…\"\n",
      "\"Congratulations to industry legend, Col Dyson of @dysongroup - awarded Medal of the Order of Aus! https://t.co/8Q6Gv82Lzb #TrapezeCustomer\"\n",
      "@dysongroup @danielbowen Stop buttons werent working on bus either. Driver gave attitude when asking to stop. Just… https://t.co/LGqYgcyAbF\n",
      "@dysongroup Driver of the 513 (Bus 932) seems to be in a bad mood. Late but stopped for a smoke. I think I've got whiplash. @danielbowen\n",
      "\"@Transdev_Melb Welcome to Melbourne, land of arbitrary public transport timetables.\"\n",
      "The best thing about @Transdev_Melb putting PTV timetables up at bus stops is that there's now proof that buses don't follow them.\n",
      "@VenturaBus your 772 driver this morning needs help. Can't find accelerator. Made everyone late for cancelled @metrotrains 😤\n",
      "\"RT @VenturaBus: Boom gate STUCK DOWN AT MENTONE AGAIN, AFM\"\n",
      "\"@VenturaBus Great service by your driver, bus 546, 828 to Hampton, shut down his bus, leaving us in darkness, while… https://t.co/1ilYkPGP7S\"\n",
      "Because #Frankston line mess -my late Train arrives just after @VenturaBus 788 leaves -now hv to wait 40 min for bus @ptua @ptv_official\n",
      "\"RT @VenturaBus: Boom gate STUCK DOWN AT MENTONE AGAIN, AFM\"\n",
      "@Transdev_Melb dont kids these days have anything original ideas anymore https://t.co/joGfJmufsM\n",
      "@Transdev_Melb the tweet was 1 hour before trip was even due to start\n",
      "@Transdev_Melb plus tweet was well before trip started. So that cant off been reason was cancelled\n",
      "@Transdev_Melb Reason was no one cover that part of the shift.\n",
      "@Transdev_Melb How is this possible? If one was cancelled because of this then theyd all be. So this isn't the reason.\n",
      "RT @MelbCommCup: @Transdev_Melb hope you ready for busiest day of the year for the 246 bus tomorrow I'll be there on my favourite route #Re…\n",
      "@Transdev_Melb Why not admit the truth? Its due to a shift not covered\n",
      "\"@dysongroup further when driver was asked why late-he stated im always late, we expect better &amp;understand traf/rdwrk-please explain this😑\"\n",
      "@dysongroup 566 bus to Lalor at 6.03pm WatSta arrived 19min late today. My parents were using bus to get to appt. and were Late!!\n",
      "@aussiewongm @NormanHermant @tonybmorton @Transdev_Melb Around Queen Vic Market at times can be a struggle for a Tr… https://t.co/2XeMYPO8m5\n",
      "RT @martinjcowling: Still enduring the @VenturaBus 788 Dec timetable change which adds average 12 min per trip @ptv_official @ptua @MornPen…\n",
      "@Transdev_Melb hope you ready for busiest day of the year for the 246 bus tomorrow I'll be there on my favourite route #ReclinkCommCup\n",
      "Still enduring the @VenturaBus 788 Dec timetable change which adds average 12 min per trip @ptv_official @ptua @MornPenShire\n",
      "\"RT @ptv_official: Due to @metrotunnelvic works, there are long-term stop changes for @Transdev_Melb bus routes along #StKildaRd. Info: http…\"\n",
      "\"RT @ptv_official: Due to @metrotunnelvic works, there are long-term stop changes for @Transdev_Melb bus routes along #StKildaRd. Info: http…\"\n",
      "\"Due to @metrotunnelvic works, there are long-term stop changes for @Transdev_Melb bus routes along #StKildaRd. Info… https://t.co/Yryc9hGVCB\"\n",
      "RT @Transdev_Melb: Hi @kickass1456. If you are please able to provide a bus number and location details we will be able to follow this up!…\n",
      "RT @evancockerell: @Transdev_Melb 309 12:20 Queen/Collins 27/4 driver sits in bus doors closed no route at least 5 minutes b4 allowing PSAT…\n",
      "\"More trams, trains and buses needed years ago! We're almost as big and already as clogged as Sydney https://t.co/9yqALa3YGo via @theage\"\n",
      "\"LIVE: The Cranbourne line has been suspended due to a power surge, buses replacing trains https://t.co/Cq2WR7GKQg\"\n",
      "\"RT @theage: LIVE: The Cranbourne line has been suspended due to a power surge, buses replacing trains https://t.co/O0N1KDHNhN\"\n",
      "\"RT @theage: LIVE: The Cranbourne line has been suspended due to a power surge, buses replacing trains https://t.co/O0N1KDHNhN\"\n",
      "\"LIVE: The Cranbourne line has been suspended due to a power surge, buses replacing trains https://t.co/O0N1KDHNhN\"\n",
      "\"RT @Shabs000: Accident on La Trobe and William St, Melbourne. Tram vs. Bus https://t.co/gVPHBaphRJ\"\n",
      "\"35M passengers out of Melbourne airport.......only way to get there....bus, car or cab. #fmd\"\n",
      "Woke up this morning to find my local bus/tram stop looking like this... ahahaha... #Melbourne..\n",
      "\"RT @tonybmorton: Planning's been out to lunch in Melbourne for two decades: need to reassert a district centre policy, fix local bus networ…\"\n",
      "\"#RACV will shortly start with a NAVY #autonomous #bus test in #Melbourne at a University Campus or the Airport:\n",
      "\n",
      "https://t.co/ZBp2n6eZV8\"\n",
      "\"Typical \"\"pimp my local bus stop low-key style\"\" #Melbourne... https://t.co/nRrPLuVcoc\"\n",
      "Last night on Melbourne: Big Red Bus @ My Aeon @ My Aeon https://t.co/Mu436StjZi\n",
      "RT @RobbieB911: Two bus loads of cheer squad fans in the heart of Melbourne on the way to the G! #gocrows #weflyasone @Adelaide_FC @Fages1…\n",
      "\"melbourne: For those travelling along st kilda rd with the bus replacement, take a moment to say thanks to the boy… https://t.co/VJGhNWuL0H\"\n",
      "\"For those travelling along st kilda rd with the bus replacement, take a moment to say thanks to the boys. https://t.co/3hZ52iPqGc\"\n",
      "\"RT @tonybmorton: Planning's been out to lunch in Melbourne for two decades: need to reassert a district centre policy, fix local bus networ…\"\n",
      "\"Planning's been out to lunch in Melbourne for two decades: need to reassert a district centre policy, fix local bus… https://t.co/2zy2bXTsfE\"\n",
      "\"See you later Melbourne, Central Australia here we come. Bus 3 &amp; 4 are on our way. https://t.co/N2xq2EzNMl\"\n",
      "@jono_hayward Well I had an inkling with the seat fabric. But no other bus operator in the country is as bad as Transdev Melbourne\n",
      "\"family get on bus wearing geelong gear\n",
      "\"\"can we buy the travel cards on here?\"\"\n",
      "you're literally from Melbourne not the moon, christ\"\n",
      "RT @RobbieB911: Two bus loads of cheer squad fans in the heart of Melbourne on the way to the G! #gocrows #weflyasone @Adelaide_FC @Fages1…\n",
      "Two bus loads of cheer squad fans in the heart of Melbourne on the way to the G! #gocrows #weflyasone @Adelaide_FC… https://t.co/D06qtNgsZO\n",
      "\"Time to get into some mischief, Melbourne!! See you all tonight at Big Red Bus\n",
      "\n",
      "#SmokeSign… https://t.co/HievpSl80b\"\n",
      "\"A bus stop in Melbourne's north has been transformed into a 1970s living room #cities\n",
      "\n",
      "https://t.co/52tBXwl0Of https://t.co/Mgys3PRDsW\"\n",
      "\"A bus stop in Melbourne's north has been transformed into a 1970s living room #cities\n",
      "\n",
      "https://t.co/QArHyWbVZF https://t.co/dWA2YJ8YDT\"\n",
      "\"plan for tomorrow: bus to melbourne central, refil meds, get poutine, return home\"\n",
      "melbourne: How much does it cost if I want to start my own private bus route? https://t.co/kIP98NqRkE\n",
      "How much does it cost if I want to start my own private bus route? https://t.co/nKyPfSJRbl\n",
      "\"RT @DearPlanA: @Transdev_Melb take note &amp; fix pathetic #Melbourne bus system. ALWAYS LATE, THAT IS *IF* BUS SHOWS UP! @DanielAndrewsMP #spr…\"\n",
      "\"@Transdev_Melb take note &amp; fix pathetic #Melbourne bus system. ALWAYS LATE, THAT IS *IF* BUS SHOWS UP!… https://t.co/jgJOL55p6A\"\n",
      "\"@ptv_official @JacintaAllanMP Friday 6pm &amp; every bus coming down Queen St = \"\"not in service\"\". FIX THIS. #Melbourne #springst #auspol\"\n",
      "From tomorrow in Victoria riding a bicycle in a bus lane is now allowed (unless otherwise signed). #melbourne #cycling\n",
      "\"Excellent article! Rail and bus are not like for like, even if they arguably match capacity. https://t.co/eDzKhzLF9b via @ConversationEDU\"\n",
      "@RizzaMdrdTbs 2 bus 2 jeep lang naman from melbourne to taytay\n",
      "\"Dear @elonmusk,\n",
      "\n",
      "D'you know the *only* form of transport to-and-from from @Melbourne airport is car or bus?! \n",
      "\n",
      "Please save us,\n",
      "Peeps of MEL\"\n",
      "MYF17 here we come! In the wee hours of the morning a bus set off from Melbourne to Sydney to… https://t.co/8TYYwlLv0w\n",
      "I added a video to a @YouTube playlist https://t.co/5DT2e3zBCf Adelaide to Melbourne REAL Quick | FIREFLY BUS | VLOG #0004\n",
      "\"Car crashes into Brisbane bus stop: delays, three injured https://t.co/FzUCNgWP55 (News) #melbourne #victoria\"\n",
      "Melbourne bus timetables are so useless get your act together\n",
      "\"Sitting at the front of the (air)bus for a change. #Melbourne bound.\n",
      "\n",
      "#InvestInYourself… https://t.co/9oZlC0ejSw\"\n",
      "\"Melbourne tour bus script. \"\"If you look on your left, you will see 15 bollards\"\". &lt;2 mins silence&gt;. \"\"On your right, there are 15 bollards\"\"\"\n",
      "Melbourne has some crazy long bus routes. I just learned the 684 bus travels 150km from Southern Cross Station in... https://t.co/sZ9BoOv5fU\n",
      "In Campus Morning Mail for Thursday. Melbourne Bus School sponsors a data crunching coliseum @ https://t.co/lHpkG8Gftz\n",
      "A British man run down by an out-of-control bus has celebrated his survival by heading straight to the pub for a pi… https://t.co/5VJIkasGgB\n",
      "@ptua Since when are Melbourne buses ANY use to people? I'd never ride the bus even if you paid me\n",
      "Another @Transdev_Melb bus with zero heating. #melbourne\n",
      "Today I was the only passenger on a bus in the suburbs of #Melbourne at 4.20pm. Felt like an episode of #thetwilightzone or the #XFiles.\n",
      "Melbourne Bus Charters [https://t.co/G0CyelLout]\n",
      "@TransitTimes the 605 bus route in Melbourne has been updated... can you please update?\n",
      "@Camwhite51 Maybe just stick with the airport bus Melbourne\n",
      "A British man who was run down from behind by an out-of-control bus has celebrated his survival with a pint of beer… https://t.co/1CeR5Am6ep\n",
      "A British man has somehow survived being hit by a bus. Nina Stevens 7News https://t.co/yF45lNG3RN\n",
      "@TheAdamBub kids under 18 in #Melbourne were picked up by police for asking for $2 to get a bus home. #FilthyRichHomeless\n",
      "\"Bus driver: (trying to joke with me) This one goes to Melbourne \n",
      "\n",
      "Me: good, cause I gotta get out of this city \n",
      "\n",
      "Too taray? 🤔\"\n",
      "Update: Route 16 operating between Melbourne Uni and Stop 66 Kooyong Tennis Ctr. Consider 624 bus on Auburn Rd. https://t.co/7oV5qFswkE\n",
      "Shout out to the bus driver of the 477 this morning https://t.co/qmskknNDPa\n",
      "My layover in Melbourne is 12 hours and holy fucking shit a bus anywhere would blow half my budget. What a reverse culture shock 🙃\n",
      "Smoke Sign is coming back to Melbourne this weekend for the Big Red Bus crew - don't miss it!! https://t.co/scCc1udbEP\n",
      "melbourne: Shout out to the bus driver of the 477 this morning https://t.co/SFl7zCJuY5\n",
      "On the bus home from the airport here in Melbourne and the first thing I see..... A paddock full of Kangaroos\n",
      "@SunburyRA @SteveInSunbury @ptv_official @JacintaAllanMP On-demand already exists in Melbourne. Bus 490 Airport Wes… https://t.co/SN0UB6odQy\n",
      "did i tell u guys that i bought bus tickets for the wrong bus service in melbourne because mum thought i was flying into the wrong airport\n",
      "Possibly colder inside this @Transdev_Melb bus than outside. #zeroheating #melbourne\n",
      "\"I used to have to take a bus or a train to and from school rain,hail or shine in Melbourne but my sister literally goes to school at the\"\n",
      "\"Autonomous #bus trial @latrobe to begin in areas without traffic, w an attendant ready to take control if needed https://t.co/8gYEBIIfqa\"\n",
      "RT @yarratrams: An Australian first: Trial of autonomous vehicles at La Trobe University: https://t.co/cTO7LX0WJx Developing smarter mobili…\n",
      "An Australian first: Trial of autonomous vehicles at La Trobe University: https://t.co/cTO7LX0WJx Developing smarter mobility solutions\n",
      "RT @latrobenews: @latrobe to run Victoria's first driveless shuttle bus trial https://t.co/RNBAQc6YLX via @theheraldsun\n",
      "RT @latrobenews: @latrobe to run Victoria's first driveless shuttle bus trial https://t.co/RNBAQc6YLX via @theheraldsun\n",
      "\"Melbourne, an even worser city than #Akld for cycling, is resistant to lanes, limits, or pathsharing. So where to r… https://t.co/0rBPRJuTIm\"\n",
      "Melbourne people don't do the bus. https://t.co/IrHxTpXHzq https://t.co/rXbBHHPM3D\n",
      "Driverless school bus set for test https://t.co/2EwGytAkyz\n",
      "RT @DriverlessRev: #Autonomoustransit shuttles. Coming soon to #AdelaideAirport. Public/private/university #Australia https://t.co/jKFNup5G…\n",
      "#Autonomoustransit shuttles. Coming soon to #AdelaideAirport. Public/private/university #Australia https://t.co/jKFNup5GMI\n",
      "australia: Autonomous shuttle bus developed in Melbourne set for trial at La Trobe University https://t.co/ly8WUZr566\n",
      "#Autonomous shuttle bus developed in Melbourne set for trial at La Trobe University #selfdriving… https://t.co/qdrsxSu8ut\n",
      "Autonomous shuttle bus developed in Melbourne set for trial at La Trobe University https://t.co/HQXdlGanJh #A\n",
      "RT @SMMCSwanHill: Our students have had a wonderful day at the Dante Alighieri Competition in Melbourne today. The bus is due back... https…\n",
      "Our students have had a wonderful day at the Dante Alighieri Competition in Melbourne today. The bus is due back... https://t.co/p8ujKHP10R\n",
      "RT @latrobenews: @latrobe to run Victoria's first driveless shuttle bus trial https://t.co/RNBAQc6YLX via @theheraldsun\n",
      "RT @latrobenews: @latrobe to run Victoria's first driveless shuttle bus trial https://t.co/RNBAQc6YLX via @theheraldsun\n",
      "@latrobe to run Victoria's first driveless shuttle bus trial https://t.co/RNBAQc6YLX via @theheraldsun\n",
      "Autonomous cars: driverless shuttle bus set for La Trobe Uni trial | Herald Sun https://t.co/YDjcRuZ1Ii\n",
      "RT @robocarz: Autonomous shuttle bus developed in Melbourne set for trial at La Trobe University https://t.co/h4HiwxZGwj #driverless #car #…\n",
      "Autonomous shuttle bus developed in Melbourne set for trial at La Trobe University https://t.co/h4HiwxZGwj #driverless #car #tech\n",
      ".#AI: Autonomous shuttle bus developed in Melbourne set for trial at La Trobe University https://t.co/tYqVHw8L0r\n",
      "@Xtrackka @tonybmorton @danielbowen just ridiculous. Melbourne bus routes internationally cited as designed by mad persons.\n",
      "Public Transport Victoria expands Melbourne by Bus campaign https://t.co/fh9I0wTMcK\n",
      "\"Metro Bus - Due to a traffic accident on Victoria Street, Melbourne City, Route 250 and 251 services are diverting around the area.\"\n",
      "Got this one at the bus stop last night 😈 #booksontherail #Melbourne https://t.co/l887JZEcwy\n",
      "The Year 9 Camp bus to Melbourne will be leaving school tomorrow morning at 6am.Looking forward to a great week exploring the City!\n",
      "\"RT @MelbCrank: Sums up Melbourne's commitment to PT. Ugly, dangerous, inaccessible, unpleasant bus stop. Car flow trumps all else (and cons…\"\n",
      "\"RT @thealivierra: @MarkDice -@Bus stop in Melbourne, Australia https://t.co/XINsdm8fGl\"\n",
      "@Elia_Santoro @Marconi_HoF Clash of the titans at middle park-Great memories. Travelling by bus from Melbourne to w… https://t.co/0QKZhGbCSm\n",
      "@meamabhishek @digvijaya_28 Oyyyy Aaddu bus kar Chatnna . Chanakya nay Apni Baytii saman Ladki say Shadi nhi Ki thii..\n",
      "\"Bus lanes or busways? Either way, Brisbane needs more: Transport expert https://t.co/Y3NzAoygWg (News) #melbourne #victoria\"\n",
      "\"2) If 70km commute, limited bus &amp; no parking at Lilydale Station, what happens to occupier's $ in labour market? \n",
      "\n",
      "https://t.co/D7Nl8kOvwt\"\n"
     ]
    },
    {
     "ename": "TypeError",
     "evalue": "'NoneType' object is not subscriptable",
     "output_type": "error",
     "traceback": [
      "\u001b[0;31m---------------------------------------------------------------------------\u001b[0m",
      "\u001b[0;31mTypeError\u001b[0m                                 Traceback (most recent call last)",
      "\u001b[0;32m<ipython-input-4-39281985e046>\u001b[0m in \u001b[0;36m<module>\u001b[0;34m()\u001b[0m\n\u001b[1;32m      2\u001b[0m \u001b[0;31m#'r' reads the file\u001b[0m\u001b[0;34m\u001b[0m\u001b[0;34m\u001b[0m\u001b[0m\n\u001b[1;32m      3\u001b[0m \u001b[0;31m#you can print(text) to check this has worked\u001b[0m\u001b[0;34m\u001b[0m\u001b[0;34m\u001b[0m\u001b[0m\n\u001b[0;32m----> 4\u001b[0;31m \u001b[0mprint\u001b[0m\u001b[0;34m(\u001b[0m\u001b[0mtext\u001b[0m\u001b[0;34m)\u001b[0m\u001b[0;34m[\u001b[0m\u001b[0;36m0\u001b[0m\u001b[0;34m]\u001b[0m\u001b[0;34m\u001b[0m\u001b[0m\n\u001b[0m",
      "\u001b[0;31mTypeError\u001b[0m: 'NoneType' object is not subscriptable"
     ]
    }
   ],
   "source": [
    "text = open(os.path.join(textpath), \"r\", encoding='UTF-16').read() #open and join a path to the file \n",
    "#'r' reads the file\n",
    "#you can print(text) to check this has worked\n",
    "print(text)[0]"
   ]
  },
  {
   "cell_type": "code",
   "execution_count": 123,
   "metadata": {},
   "outputs": [],
   "source": [
    "import csv\n",
    "with open(textpath, mode='r') as tweets:\n",
    "    reader = csv.reader(tweets)\n",
    "    your_list = list(reader)"
   ]
  },
  {
   "cell_type": "code",
   "execution_count": 128,
   "metadata": {},
   "outputs": [
    {
     "data": {
      "text/plain": [
       "241"
      ]
     },
     "execution_count": 128,
     "metadata": {},
     "output_type": "execute_result"
    }
   ],
   "source": [
    "len(your_list)"
   ]
  },
  {
   "cell_type": "code",
   "execution_count": 129,
   "metadata": {},
   "outputs": [
    {
     "data": {
      "text/plain": [
       "0"
      ]
     },
     "execution_count": 129,
     "metadata": {},
     "output_type": "execute_result"
    }
   ],
   "source": [
    "your_list.count(\"@venturabus\")"
   ]
  },
  {
   "cell_type": "markdown",
   "metadata": {},
   "source": [
    "### _Challenge!_\n",
    "You now have a twitter dataset of your own. Try to tokenize the data using the exact same steps as you used to tokenize the single tweet in the previous session. This time, your first variable is 'text', rather than 'tweet'. "
   ]
  },
  {
   "cell_type": "code",
   "execution_count": 5,
   "metadata": {},
   "outputs": [],
   "source": [
    "from nltk.tokenize.casual import (TweetTokenizer, casual_tokenize)\n",
    "textTokens = casual_tokenize(text)"
   ]
  },
  {
   "cell_type": "code",
   "execution_count": 8,
   "metadata": {},
   "outputs": [
    {
     "data": {
      "text/plain": [
       "['RT',\n",
       " '@evancockerell',\n",
       " ':',\n",
       " '@Transdev_Melb',\n",
       " '309',\n",
       " '12:20',\n",
       " 'Queen',\n",
       " '/',\n",
       " 'Collins',\n",
       " '27/4',\n",
       " 'driver',\n",
       " 'sits',\n",
       " 'in',\n",
       " 'bus',\n",
       " 'doors',\n",
       " 'closed',\n",
       " 'no',\n",
       " 'route',\n",
       " 'at',\n",
       " 'least']"
      ]
     },
     "execution_count": 8,
     "metadata": {},
     "output_type": "execute_result"
    }
   ],
   "source": [
    "textTokens[0:20]"
   ]
  },
  {
   "cell_type": "markdown",
   "metadata": {},
   "source": [
    "Now you can see that the data is a list of words and punctuation. Fortunately, our special tweet tokeniser is clever enough to recognise that @ symbols are part of user names, although no tokeniser is perfect and you will most likely need to perform data cleaning on a big dataset. This is beyond the scope of this tutorial. However, we can remove punctuation, capitalised words and 'stopwords', to get more insights into our data. First, we need to understand how loops work..."
   ]
  },
  {
   "cell_type": "markdown",
   "metadata": {},
   "source": [
    "## Python Basics: Loops"
   ]
  },
  {
   "cell_type": "markdown",
   "metadata": {},
   "source": [
    "We can use Python to automate tasks, such as performing a function on all items in a list. In our case, we want Python to check if each word in our tweet corpus is alphabetical and lower case. To do that, we'll have to teach the computer how to repeat things. We do this by creating something called a loop.\n",
    "\n",
    "This is the general form of a 'for' loop:\n",
    "\n",
    "    for item in collection:\n",
    "    do things with item\n",
    "\n",
    "Loops are used for lots of things in programming and there are many types of loops. Today we are only interested in for loops and our list of tweets.\n",
    "\n",
    "We are going to create a list and assign it a variable. We will use this variable in our loop to create fruit salad!"
   ]
  },
  {
   "cell_type": "code",
   "execution_count": 11,
   "metadata": {},
   "outputs": [],
   "source": [
    "fruits = [\"apple\", \"pineapple\", \"mango\"]"
   ]
  },
  {
   "cell_type": "code",
   "execution_count": 14,
   "metadata": {},
   "outputs": [
    {
     "name": "stdout",
     "output_type": "stream",
     "text": [
      "Current fruit: apple\n",
      "Current fruit: pineapple\n",
      "Current fruit: mango\n",
      "Done!\n"
     ]
    }
   ],
   "source": [
    "for fruit in fruits:\n",
    "    print(\"Current fruit:\", fruit)\n",
    "print(\"Done!\")    "
   ]
  },
  {
   "cell_type": "markdown",
   "metadata": {},
   "source": [
    "We can do this with a pre-exisiting list. For example, the pre-defined sentences that come with the nltk book data. Let's use `sent2`, which is the first sentence of `text1` Sense and Sensibility."
   ]
  },
  {
   "cell_type": "code",
   "execution_count": 15,
   "metadata": {},
   "outputs": [
    {
     "data": {
      "text/plain": [
       "['The',\n",
       " 'family',\n",
       " 'of',\n",
       " 'Dashwood',\n",
       " 'had',\n",
       " 'long',\n",
       " 'been',\n",
       " 'settled',\n",
       " 'in',\n",
       " 'Sussex',\n",
       " '.']"
      ]
     },
     "execution_count": 15,
     "metadata": {},
     "output_type": "execute_result"
    }
   ],
   "source": [
    "sent2"
   ]
  },
  {
   "cell_type": "code",
   "execution_count": 23,
   "metadata": {},
   "outputs": [
    {
     "name": "stdout",
     "output_type": "stream",
     "text": [
      "family\n",
      "Dashwood\n",
      "settled\n",
      "Sussex\n"
     ]
    }
   ],
   "source": [
    "morefour = []\n",
    "for word in sent2:\n",
    "    if len(word) > 4:\n",
    "        print(word)\n",
    "        morefour.append(word)"
   ]
  },
  {
   "cell_type": "code",
   "execution_count": 24,
   "metadata": {},
   "outputs": [
    {
     "name": "stdout",
     "output_type": "stream",
     "text": [
      "['family', 'Dashwood', 'settled', 'Sussex']\n"
     ]
    }
   ],
   "source": [
    "print(morefour)"
   ]
  },
  {
   "cell_type": "markdown",
   "metadata": {},
   "source": [
    "Another way to write this is to save it as a new list and give it a variable name:"
   ]
  },
  {
   "cell_type": "code",
   "execution_count": 18,
   "metadata": {},
   "outputs": [
    {
     "data": {
      "text/plain": [
       "['family', 'Dashwood', 'settled', 'Sussex']"
      ]
     },
     "execution_count": 18,
     "metadata": {},
     "output_type": "execute_result"
    }
   ],
   "source": [
    "longer = [word for word in sent2 if len(word) > 4]\n",
    "longer"
   ]
  },
  {
   "cell_type": "markdown",
   "metadata": {},
   "source": [
    "We can use numerical operators to refine the types of searches we ask Python to run. We can use the following relational operators:\n",
    "\n",
    "\n",
    "### Common relationals\n",
    " |  Relational | Meaning |\n",
    " |--------------:|:------------|\n",
    " | <    |  less than |\n",
    " | <=   |   less than or equal to |\n",
    " | ==  |    equal to (note this is two \"=\" signs, not one) |\n",
    " | !=   |   not equal to |\n",
    " | \\>   |   greater than |\n",
    " | \\>= |   greater than or equal to |"
   ]
  },
  {
   "cell_type": "markdown",
   "metadata": {},
   "source": [
    "### _Challenge!_\n",
    "Using one of the pre-defined sentences in the NLTK corpus, use the relational operators above to find:\n",
    "- Words of four or more characters\n",
    "- Words of exactly four characters"
   ]
  },
  {
   "cell_type": "code",
   "execution_count": 45,
   "metadata": {},
   "outputs": [],
   "source": [
    "fourormore = []\n",
    "exactlyfour = []\n",
    "for word in sent4:\n",
    "    if len(word) >= 4:\n",
    "        fourormore.append(word)\n",
    "    elif len(word) == 4:\n",
    "        exactlyfour.append(word)"
   ]
  },
  {
   "cell_type": "code",
   "execution_count": 47,
   "metadata": {},
   "outputs": [
    {
     "data": {
      "text/plain": [
       "[]"
      ]
     },
     "execution_count": 47,
     "metadata": {},
     "output_type": "execute_result"
    }
   ],
   "source": [
    "exactlyfour"
   ]
  },
  {
   "cell_type": "code",
   "execution_count": 63,
   "metadata": {},
   "outputs": [
    {
     "name": "stdout",
     "output_type": "stream",
     "text": [
      "Variable          Type                        Data/Info\n",
      "-------------------------------------------------------\n",
      "FreqDist          type                        <class 'nltk.probability.FreqDist'>\n",
      "Text              type                        <class 'nltk.text.Text'>\n",
      "TweetTokenizer    type                        <class 'nltk.tokenize.casual.TweetTokenizer'>\n",
      "casual_tokenize   function                    <function casual_tokenize at 0x10af6fc80>\n",
      "exactlyfour       list                        n=0\n",
      "fourormore        list                        n=5\n",
      "fruit             str                         mango\n",
      "fruits            list                        n=3\n",
      "genesis           PlaintextCorpusReader       <PlaintextCorpusReader in<...>tk_data/corpora/genesis'>\n",
      "gutenberg         PlaintextCorpusReader       <PlaintextCorpusReader in<...>_data/corpora/gutenberg'>\n",
      "inaugural         PlaintextCorpusReader       <PlaintextCorpusReader in<...>_data/corpora/inaugural'>\n",
      "longer            list                        n=4\n",
      "longerwords       list                        n=340\n",
      "morefour          list                        n=4\n",
      "nltk              module                      <module 'nltk' from '/Use<...>ckages/nltk/__init__.py'>\n",
      "nps_chat          NPSChatCorpusReader         <NPSChatCorpusReader in '<...>k_data/corpora/nps_chat'>\n",
      "numpy             module                      <module 'numpy' from '/Us<...>kages/numpy/__init__.py'>\n",
      "os                module                      <module 'os' from '/Users<...>nda/lib/python3.6/os.py'>\n",
      "print_function    _Feature                    _Feature((2, 6, 0, 'alpha<...>0, 0, 'alpha', 0), 65536)\n",
      "pylab             module                      <module 'pylab' from '/Us<...>/site-packages/pylab.py'>\n",
      "sent1             list                        n=4\n",
      "sent2             list                        n=11\n",
      "sent3             list                        n=11\n",
      "sent4             list                        n=13\n",
      "sent5             list                        n=11\n",
      "sent6             list                        n=17\n",
      "sent7             list                        n=18\n",
      "sent8             list                        n=14\n",
      "sent9             list                        n=23\n",
      "sents             function                    <function sents at 0x113915158>\n",
      "text              str                         RT @evancockerell: @Trans<...>nhttps://t.co/D7Nl8kOvwt\"\n",
      "text1             Text                        <Text: Moby Dick by Herman Melville 1851>\n",
      "text2             Text                        <Text: Sense and Sensibility by Jane Austen 1811>\n",
      "text3             Text                        <Text: The Book of Genesis>\n",
      "text4             Text                        <Text: Inaugural Address Corpus>\n",
      "text5             Text                        <Text: Chat Corpus>\n",
      "text6             Text                        <Text: Monty Python and the Holy Grail>\n",
      "text7             Text                        <Text: Wall Street Journal>\n",
      "text8             Text                        <Text: Personals Corpus>\n",
      "text9             Text                        <Text: The Man Who Was Th<...> G . K . Chesterton 1908>\n",
      "textTokens        list                        n=4916\n",
      "textpath          str                         /Users/cynthiiee/Desktop/<...>urne-PT/Melbourne-bus.txt\n",
      "texts             function                    <function texts at 0x11159cf28>\n",
      "treebank          BracketParseCorpusReader    <BracketParseCorpusReader<...>rpora/treebank/combined'>\n",
      "webtext           PlaintextCorpusReader       <PlaintextCorpusReader in<...>tk_data/corpora/webtext'>\n",
      "word              str                         :\n",
      "wordnet           LazyCorpusLoader            <WordNetCorpusReader in '<...>ordnet' (not loaded yet)>\n"
     ]
    }
   ],
   "source": [
    "whos"
   ]
  },
  {
   "cell_type": "code",
   "execution_count": 64,
   "metadata": {},
   "outputs": [
    {
     "data": {
      "text/plain": [
       "['#poorperformance',\n",
       " '#berwickstation',\n",
       " '#zeroheating',\n",
       " '#BowelCancer',\n",
       " '#BowelCancer',\n",
       " '#TrapezeCustomer',\n",
       " '#ReclinkCommCup',\n",
       " '#autonomous',\n",
       " '#weflyasone',\n",
       " '#weflyasone',\n",
       " '#weflyasone',\n",
       " '#InvestInYourself',\n",
       " '#thetwilightzone',\n",
       " '#FilthyRichHomeless',\n",
       " '#zeroheating',\n",
       " '#Autonomoustransit',\n",
       " '#AdelaideAirport',\n",
       " '#Autonomoustransit',\n",
       " '#AdelaideAirport',\n",
       " '#Autonomous',\n",
       " '#selfdriving',\n",
       " '#driverless',\n",
       " '#driverless',\n",
       " '#booksontherail']"
      ]
     },
     "execution_count": 64,
     "metadata": {},
     "output_type": "execute_result"
    }
   ],
   "source": [
    "longerwords = [word for word in textTokens if len(word) > 10 and word[:5] != \"https\" and word[0] == '#']\n",
    "longerwords"
   ]
  },
  {
   "cell_type": "markdown",
   "metadata": {},
   "source": [
    "## Key Concepts: Preprocessing"
   ]
  },
  {
   "cell_type": "markdown",
   "metadata": {},
   "source": [
    "### Common operators\n",
    "\n",
    " | Operator  | Purpose  |\n",
    " |--------------|------------|\n",
    " | s.startswith(t) | test if s starts with t |\n",
    " | s.endswith(t)  |  test if s ends with t | \n",
    " | t in s         |  test if t is a substring of s | \n",
    " | s.islower()    |  test if s contains cased characters and all are lowercase | \n",
    " | s.isupper()    |  test if s contains cased characters and all are uppercase | \n",
    " | s.isalpha()    |  test if s is non-empty and all characters in s are alphabetic | \n",
    " | s.isalnum()    |  test if s is non-empty and all characters in s are alphanumeric | \n",
    " | s.isdigit()    |  test if s is non-empty and all characters in s are digits | \n",
    " | s.istitle()    |  test if s contains cased characters and is titlecased (i.e. all words in s have initial capitals) | "
   ]
  },
  {
   "cell_type": "markdown",
   "metadata": {},
   "source": [
    "Now we are ready to remove punctuation and capitalised words from our data"
   ]
  },
  {
   "cell_type": "code",
   "execution_count": 65,
   "metadata": {},
   "outputs": [
    {
     "data": {
      "text/plain": [
       "['RT',\n",
       " 'Queen',\n",
       " 'Collins',\n",
       " 'driver',\n",
       " 'sits',\n",
       " 'in',\n",
       " 'bus',\n",
       " 'doors',\n",
       " 'closed',\n",
       " 'no']"
      ]
     },
     "execution_count": 65,
     "metadata": {},
     "output_type": "execute_result"
    }
   ],
   "source": [
    "alpha = [word for word in textTokens if word.isalpha()]\n",
    "alpha[:10]"
   ]
  },
  {
   "cell_type": "markdown",
   "metadata": {},
   "source": [
    "Notice that this removes punctuation, but also all the user names and hashtags. We can write a better loop that includes these important features, but still excludes punctuation using `s.startswith(t)`"
   ]
  },
  {
   "cell_type": "code",
   "execution_count": 73,
   "metadata": {},
   "outputs": [
    {
     "data": {
      "text/plain": [
       "['RT',\n",
       " '@evancockerell',\n",
       " '@Transdev_Melb',\n",
       " 'Queen',\n",
       " 'Collins',\n",
       " 'driver',\n",
       " 'sits',\n",
       " 'in',\n",
       " 'bus',\n",
       " 'doors']"
      ]
     },
     "execution_count": 73,
     "metadata": {},
     "output_type": "execute_result"
    }
   ],
   "source": [
    "alpha2 = [word for word in textTokens if word.isalpha() or word.startswith('#') or word.startswith('@')]\n",
    "alpha2[:10]"
   ]
  },
  {
   "cell_type": "markdown",
   "metadata": {},
   "source": [
    "Python still thinks lower case words and capitalised words are different words e.g. 'Left' and 'left' would be considered two different words. We can change this by making all the words lowercase using the `s.lower()` method."
   ]
  },
  {
   "cell_type": "code",
   "execution_count": 76,
   "metadata": {},
   "outputs": [
    {
     "data": {
      "text/plain": [
       "['rt',\n",
       " '@evancockerell',\n",
       " '@transdev_melb',\n",
       " 'queen',\n",
       " 'collins',\n",
       " 'driver',\n",
       " 'sits',\n",
       " 'in',\n",
       " 'bus',\n",
       " 'doors']"
      ]
     },
     "execution_count": 76,
     "metadata": {},
     "output_type": "execute_result"
    }
   ],
   "source": [
    "lowered = [word.lower() for word in alpha2]\n",
    "lowered[:10]"
   ]
  },
  {
   "cell_type": "markdown",
   "metadata": {},
   "source": [
    "Try running some NLTK operations on the data, such as `something.collocations()` what happens?"
   ]
  },
  {
   "cell_type": "code",
   "execution_count": 77,
   "metadata": {},
   "outputs": [
    {
     "name": "stdout",
     "output_type": "stream",
     "text": [
      "<class 'list'>\n",
      "<class 'nltk.text.Text'>\n"
     ]
    }
   ],
   "source": [
    "print(type(lowered))\n",
    "print(type(text1))"
   ]
  },
  {
   "cell_type": "code",
   "execution_count": 78,
   "metadata": {},
   "outputs": [],
   "source": [
    "from nltk import Text"
   ]
  },
  {
   "cell_type": "markdown",
   "metadata": {},
   "source": [
    "To perform special NLTK tasks like `.concordance(), .collocations()` and `.similar()`, we need to convert our 'list' in an NLTK Text. Forunately, this is fairly straightforward."
   ]
  },
  {
   "cell_type": "code",
   "execution_count": 79,
   "metadata": {},
   "outputs": [],
   "source": [
    "nltk_lowered = Text(lowered)"
   ]
  },
  {
   "cell_type": "markdown",
   "metadata": {},
   "source": [
    "Now try collocations!"
   ]
  },
  {
   "cell_type": "code",
   "execution_count": 95,
   "metadata": {},
   "outputs": [
    {
     "name": "stdout",
     "output_type": "stream",
     "text": [
      "@dysongroup delay; min due; late min; trobe university; well done;\n",
      "shuttle bus; may affect; richard drummond; allow extra; via\n",
      "@theheraldsun; first driveless; major works; power surge; done\n",
      "richard; driveless shuttle; extra time; bus routes; richard #busvic17;\n",
      "cranbourne line; replacing trains\n",
      "<class 'NoneType'>\n"
     ]
    }
   ],
   "source": [
    "nltk_lowered.collocations()"
   ]
  },
  {
   "cell_type": "code",
   "execution_count": 94,
   "metadata": {},
   "outputs": [],
   "source": []
  },
  {
   "cell_type": "code",
   "execution_count": 88,
   "metadata": {},
   "outputs": [
    {
     "data": {
      "text/plain": [
       "[('for', 51),\n",
       " ('@venturabus', 49),\n",
       " ('in', 46),\n",
       " ('at', 42),\n",
       " ('late', 41),\n",
       " ('due', 36),\n",
       " ('@dysongroup', 35),\n",
       " ('route', 34),\n",
       " ('this', 33),\n",
       " ('and', 27)]"
      ]
     },
     "execution_count": 88,
     "metadata": {},
     "output_type": "execute_result"
    }
   ],
   "source": [
    "FreqDist(nltk_lowered).most_common()[10:20]"
   ]
  },
  {
   "cell_type": "code",
   "execution_count": 90,
   "metadata": {},
   "outputs": [
    {
     "data": {
      "text/plain": [
       "0.010766806722689076"
      ]
     },
     "execution_count": 90,
     "metadata": {},
     "output_type": "execute_result"
    }
   ],
   "source": [
    "nltk_lowered.count(\"late\")/len(nltk_lowered)"
   ]
  },
  {
   "cell_type": "markdown",
   "metadata": {},
   "source": [
    "## Key Concepts: Stopwords"
   ]
  },
  {
   "cell_type": "markdown",
   "metadata": {},
   "source": [
    "Typically, a lot of space is taken up in texts by little words like 'and' and 'of' and 'the' which don't add a lot to our understanding of text. These are called 'stop words'. It will help our analysis if we exclude them."
   ]
  },
  {
   "cell_type": "code",
   "execution_count": 98,
   "metadata": {},
   "outputs": [
    {
     "data": {
      "text/plain": [
       "[('to', 145),\n",
       " ('bus', 143),\n",
       " ('the', 139),\n",
       " ('rt', 77),\n",
       " ('on', 66),\n",
       " ('a', 57),\n",
       " ('@transdev_melb', 56),\n",
       " ('of', 56),\n",
       " ('is', 55),\n",
       " ('melbourne', 55),\n",
       " ('for', 51),\n",
       " ('@venturabus', 49),\n",
       " ('in', 46),\n",
       " ('at', 42),\n",
       " ('late', 41),\n",
       " ('due', 36),\n",
       " ('@dysongroup', 35),\n",
       " ('route', 34),\n",
       " ('this', 33),\n",
       " ('and', 27)]"
      ]
     },
     "execution_count": 98,
     "metadata": {},
     "output_type": "execute_result"
    }
   ],
   "source": [
    "fdist1 = FreqDist(lowered)\n",
    "fdist1.most_common(20)"
   ]
  },
  {
   "cell_type": "code",
   "execution_count": 100,
   "metadata": {},
   "outputs": [
    {
     "data": {
      "text/plain": [
       "[('bus', 143),\n",
       " ('@transdev_melb', 56),\n",
       " ('melbourne', 55),\n",
       " ('@venturabus', 49),\n",
       " ('late', 41),\n",
       " ('due', 36),\n",
       " ('@dysongroup', 35),\n",
       " ('route', 34),\n",
       " ('driver', 26),\n",
       " ('min', 25),\n",
       " ('@ptv_official', 23),\n",
       " ('traffic', 23),\n",
       " ('stop', 21),\n",
       " ('@busvictweets', 19),\n",
       " ('#melbourne', 19),\n",
       " ('delay', 19),\n",
       " ('ex', 19),\n",
       " ('st', 15),\n",
       " ('trial', 15),\n",
       " ('year', 14)]"
      ]
     },
     "execution_count": 100,
     "metadata": {},
     "output_type": "execute_result"
    }
   ],
   "source": [
    "from nltk.corpus import stopwords\n",
    "stopped = nltk.corpus.stopwords.words('english') + ['rt', 'via']\n",
    "unstopped = [word for word in lowered if word not in stopped]\n",
    "fdist2 = FreqDist(unstopped)\n",
    "fdist2.most_common(20)"
   ]
  },
  {
   "cell_type": "code",
   "execution_count": 103,
   "metadata": {},
   "outputs": [
    {
     "name": "stdout",
     "output_type": "stream",
     "text": [
      "due traffic; delay route; @dysongroup delay; min due; late min; trobe\n",
      "university; traffic @dysongroup; well done; journey major; may affect;\n",
      "shuttle bus; richard drummond; allow extra; weekend may; first\n",
      "driveless; major works; live cranbourne; power surge; #busvic17\n",
      "@busvictweets; done richard\n"
     ]
    }
   ],
   "source": [
    "nltk_unstopped = Text(unstopped)\n",
    "nltk_unstopped.collocations()"
   ]
  },
  {
   "cell_type": "code",
   "execution_count": 118,
   "metadata": {
    "scrolled": true
   },
   "outputs": [
    {
     "data": {
      "image/png": "[encoded data removed]",
      "text/plain": [
       "<matplotlib.figure.Figure at 0x1172e7048>"
      ]
     },
     "metadata": {},
     "output_type": "display_data"
    }
   ],
   "source": [
    "fdist1.plot(50,cumulative = False,title=\"top 50\")"
   ]
  },
  {
   "cell_type": "code",
   "execution_count": 116,
   "metadata": {},
   "outputs": [
    {
     "name": "stdout",
     "output_type": "stream",
     "text": [
      "Displaying 25 of 41 matches:\n",
      "ow even later and be marked late thanks @venturabus rt @busv\n",
      "us driver for changeover is late and i get marked late if ev\n",
      "er is late and i get marked late if even mins late @venturab\n",
      "et marked late if even mins late @venturabus rt @busvictweet\n",
      "melbourne bus system always late that is if bus shows up @da\n",
      "melbourne bus system always late that is if bus shows up rt \n",
      "t helena to northland sc is late min due to unforseen operat\n",
      "n services on route are min late due to traffic at high st p\n",
      "n services on route are min late due to traffic at high st p\n",
      "n services on route are min late due to traffic at high st e\n",
      "t to la trobe university is late min due to traffic @kickass\n",
      "ture mitcham @18 is running late to mins due technical diffi\n",
      "or shops to northland sc is late min due to traffic rt @dyso\n",
      " ex glenroy rs to eltham is late min due to traffic rt @dyso\n",
      " ex coburg rs to rosanna is late min due to traffic @ventura\n",
      "g h the entire trip and was late rt @venturabus frankston sa\n",
      "s rs to roxburgh park rs is late min due to traffic rt @dyso\n",
      "rvoir rs to west preston is late min due to traffic rt @dyso\n",
      "berg rs to melbourne uni is late min due to traffic rt @dyso\n",
      "illage to pascoe vale rs is late min due to traffic rt @dyso\n",
      "keon pde to northland sc is late min due to traffic rt @dyso\n",
      "ex preston to glenroy rs is late min due to traffic rt @dyso\n",
      " oriel road to eltham rs is late min due to traffic rt @dyso\n",
      "rvoir rs to epping plaza is late min due to traffic @transde\n",
      "ex coburg to pascoe vale is late min due to traffic rt @dyso\n"
     ]
    }
   ],
   "source": [
    "nltk_lowered.concordance(\"late\",width=60)"
   ]
  },
  {
   "cell_type": "code",
   "execution_count": 108,
   "metadata": {},
   "outputs": [
    {
     "data": {
      "image/png": "[encoded data removed]",
      "text/plain": [
       "<matplotlib.figure.Figure at 0x11715a9e8>"
      ]
     },
     "metadata": {},
     "output_type": "display_data"
    }
   ],
   "source": [
    "nltk_unstopped.dispersion_plot(['late'])"
   ]
  },
  {
   "cell_type": "markdown",
   "metadata": {},
   "source": [
    "### _Challenge!_"
   ]
  },
  {
   "cell_type": "markdown",
   "metadata": {},
   "source": [
    "If you are interested in the most common words, excluding hashtags and usernames, you can use the old `alpha` variable we created. \n",
    "- remove capitalised letter from alpha\n",
    "- Make sure you convert it to NLTK Text first and save it to a new variable\n",
    "- Remove stopwords\n",
    "- Run the FreqDist function\n",
    "- Find the `most.common()[:20]` words"
   ]
  },
  {
   "cell_type": "code",
   "execution_count": null,
   "metadata": {
    "collapsed": true
   },
   "outputs": [],
   "source": []
  },
  {
   "cell_type": "code",
   "execution_count": null,
   "metadata": {},
   "outputs": [],
   "source": []
  },
  {
   "cell_type": "code",
   "execution_count": null,
   "metadata": {},
   "outputs": [],
   "source": []
  },
  {
   "cell_type": "markdown",
   "metadata": {},
   "source": [
    "# Day Two: SESSION 2"
   ]
  },
  {
   "cell_type": "markdown",
   "metadata": {},
   "source": [
    "### _Challenge!_"
   ]
  },
  {
   "cell_type": "markdown",
   "metadata": {},
   "source": [
    "Time to experiment with your team!"
   ]
  }
 ],
 "metadata": {
  "kernelspec": {
   "display_name": "Python 3",
   "language": "python",
   "name": "python3"
  },
  "language_info": {
   "codemirror_mode": {
    "name": "ipython",
    "version": 3
   },
   "file_extension": ".py",
   "mimetype": "text/x-python",
   "name": "python",
   "nbconvert_exporter": "python",
   "pygments_lexer": "ipython3",
   "version": "3.6.1"
  }
 },
 "nbformat": 4,
 "nbformat_minor": 1
}
