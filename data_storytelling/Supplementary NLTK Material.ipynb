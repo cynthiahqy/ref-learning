{
 "cells": [
  {
   "cell_type": "markdown",
   "metadata": {},
   "source": [
    "Supplementary NLTK Material\n",
    "---"
   ]
  },
  {
   "cell_type": "markdown",
   "metadata": {},
   "source": [
    "A supplement to the two notebooks you would have downloaded from the web from Kim Doyle's Github account.\n",
    "\n",
    "Demonstrates the power of the ```Counter()``` function and the ```ngrams()``` functions.\n",
    "\n",
    "Also an serves as an example of using if statements, lists, for loops and list comprehensions to analyse some text."
   ]
  },
  {
   "cell_type": "markdown",
   "metadata": {
    "toc": "true"
   },
   "source": [
    "# Table of Contents\n",
    " <p><div class=\"lev2 toc-item\"><a href=\"#Supplementary-NLTK-Material\" data-toc-modified-id=\"Supplementary-NLTK-Material-01\"><span class=\"toc-item-num\">0.1&nbsp;&nbsp;</span>Supplementary NLTK Material</a></div><div class=\"lev1 toc-item\"><a href=\"#Loading-text-data\" data-toc-modified-id=\"Loading-text-data-1\"><span class=\"toc-item-num\">1&nbsp;&nbsp;</span>Loading text data</a></div><div class=\"lev1 toc-item\"><a href=\"#NGrams-—-Capturing-words-that-appear-close-to-each-other\" data-toc-modified-id=\"NGrams-—-Capturing-words-that-appear-close-to-each-other-2\"><span class=\"toc-item-num\">2&nbsp;&nbsp;</span>NGrams — Capturing words that appear close to each other</a></div><div class=\"lev2 toc-item\"><a href=\"#Importing\" data-toc-modified-id=\"Importing-21\"><span class=\"toc-item-num\">2.1&nbsp;&nbsp;</span>Importing</a></div><div class=\"lev2 toc-item\"><a href=\"#How-Counter-Works\" data-toc-modified-id=\"How-Counter-Works-22\"><span class=\"toc-item-num\">2.2&nbsp;&nbsp;</span>How Counter Works</a></div><div class=\"lev3 toc-item\"><a href=\"#Ordering-according-to-Frequency\" data-toc-modified-id=\"Ordering-according-to-Frequency-221\"><span class=\"toc-item-num\">2.2.1&nbsp;&nbsp;</span>Ordering according to Frequency</a></div><div class=\"lev3 toc-item\"><a href=\"#Pulling-out-individual-elements-and-their-frequency\" data-toc-modified-id=\"Pulling-out-individual-elements-and-their-frequency-222\"><span class=\"toc-item-num\">2.2.2&nbsp;&nbsp;</span>Pulling out individual elements and their frequency</a></div><div class=\"lev3 toc-item\"><a href=\"#Pulling-out-individual-elements-in-order-of-frequency\" data-toc-modified-id=\"Pulling-out-individual-elements-in-order-of-frequency-223\"><span class=\"toc-item-num\">2.2.3&nbsp;&nbsp;</span>Pulling out individual elements in order of frequency</a></div><div class=\"lev3 toc-item\"><a href=\"#Using-Conditional-Statements\" data-toc-modified-id=\"Using-Conditional-Statements-224\"><span class=\"toc-item-num\">2.2.4&nbsp;&nbsp;</span>Using Conditional Statements</a></div><div class=\"lev3 toc-item\"><a href=\"#Using-Conditional-Statements-and-fancy-list-comprehensions\" data-toc-modified-id=\"Using-Conditional-Statements-and-fancy-list-comprehensions-225\"><span class=\"toc-item-num\">2.2.5&nbsp;&nbsp;</span>Using Conditional Statements and fancy list comprehensions</a></div><div class=\"lev2 toc-item\"><a href=\"#How-ngrams()-works\" data-toc-modified-id=\"How-ngrams()-works-23\"><span class=\"toc-item-num\">2.3&nbsp;&nbsp;</span>How ngrams() works</a></div><div class=\"lev3 toc-item\"><a href=\"#Usage\" data-toc-modified-id=\"Usage-231\"><span class=\"toc-item-num\">2.3.1&nbsp;&nbsp;</span>Usage</a></div><div class=\"lev3 toc-item\"><a href=\"#Counting-ngrams\" data-toc-modified-id=\"Counting-ngrams-232\"><span class=\"toc-item-num\">2.3.2&nbsp;&nbsp;</span>Counting ngrams</a></div><div class=\"lev3 toc-item\"><a href=\"#Analysing-ngram-counts\" data-toc-modified-id=\"Analysing-ngram-counts-233\"><span class=\"toc-item-num\">2.3.3&nbsp;&nbsp;</span>Analysing ngram counts</a></div><div class=\"lev2 toc-item\"><a href=\"#Example-With-Tokens\" data-toc-modified-id=\"Example-With-Tokens-24\"><span class=\"toc-item-num\">2.4&nbsp;&nbsp;</span>Example With Tokens</a></div><div class=\"lev3 toc-item\"><a href=\"#Tokenising\" data-toc-modified-id=\"Tokenising-241\"><span class=\"toc-item-num\">2.4.1&nbsp;&nbsp;</span>Tokenising</a></div><div class=\"lev3 toc-item\"><a href=\"#Common-Bi-Grams-(ie-two-element-or-word-ngrams)\" data-toc-modified-id=\"Common-Bi-Grams-(ie-two-element-or-word-ngrams)-242\"><span class=\"toc-item-num\">2.4.2&nbsp;&nbsp;</span>Common Bi-Grams (ie two element or word ngrams)</a></div><div class=\"lev3 toc-item\"><a href=\"#Common-words-around-&quot;trump&quot;\" data-toc-modified-id=\"Common-words-around-&quot;trump&quot;-243\"><span class=\"toc-item-num\">2.4.3&nbsp;&nbsp;</span>Common words around \"trump\"</a></div><div class=\"lev4 toc-item\"><a href=\"#Extracting-the-ngrams-with-the-word-'trump'\" data-toc-modified-id=\"Extracting-the-ngrams-with-the-word-'trump'-2431\"><span class=\"toc-item-num\">2.4.3.1&nbsp;&nbsp;</span>Extracting the ngrams with the word 'trump'</a></div><div class=\"lev4 toc-item\"><a href=\"#Collecting-all-the-words-in-all-the-trump-ngrams\" data-toc-modified-id=\"Collecting-all-the-words-in-all-the-trump-ngrams-2432\"><span class=\"toc-item-num\">2.4.3.2&nbsp;&nbsp;</span>Collecting all the words in all the trump ngrams</a></div><div class=\"lev4 toc-item\"><a href=\"#Clean-or-normalise-the-words\" data-toc-modified-id=\"Clean-or-normalise-the-words-2433\"><span class=\"toc-item-num\">2.4.3.3&nbsp;&nbsp;</span>Clean or normalise the words</a></div><div class=\"lev4 toc-item\"><a href=\"#Count-The-Trump-Associated-Words\" data-toc-modified-id=\"Count-The-Trump-Associated-Words-2434\"><span class=\"toc-item-num\">2.4.3.4&nbsp;&nbsp;</span>Count The Trump Associated Words</a></div><div class=\"lev3 toc-item\"><a href=\"#Analysis\" data-toc-modified-id=\"Analysis-244\"><span class=\"toc-item-num\">2.4.4&nbsp;&nbsp;</span>Analysis</a></div>"
   ]
  },
  {
   "cell_type": "code",
   "execution_count": 1,
   "metadata": {
    "collapsed": true
   },
   "outputs": [],
   "source": [
    "import nltk"
   ]
  },
  {
   "cell_type": "code",
   "execution_count": 170,
   "metadata": {
    "collapsed": true
   },
   "outputs": [],
   "source": [
    "import matplotlib.pyplot as plt\n",
    "%matplotlib inline"
   ]
  },
  {
   "cell_type": "code",
   "execution_count": null,
   "metadata": {
    "collapsed": true
   },
   "outputs": [],
   "source": []
  },
  {
   "cell_type": "markdown",
   "metadata": {},
   "source": [
    "# Loading text data "
   ]
  },
  {
   "cell_type": "markdown",
   "metadata": {},
   "source": [
    "If you are using Python version 3 - see **Results-Day-Two** notebook.\n",
    "\n",
    "---\n",
    "\n",
    "If you are using Python version 2 ...\n",
    "\n",
    "the process is the same except that you must load ```io``` and use ```io.open()``` instead of ```open```"
   ]
  },
  {
   "cell_type": "code",
   "execution_count": 169,
   "metadata": {
    "collapsed": true
   },
   "outputs": [],
   "source": [
    "import io"
   ]
  },
  {
   "cell_type": "markdown",
   "metadata": {},
   "source": [
    "You're doing three things with this ```open()``` function ...\n",
    "\n",
    "* providing the location of the file you want to load, including the folders it is in.\n",
    "    * If your datafile is in the same folder as the notebook you're using, then simply using the file name should be fine.\n",
    "    \n",
    "* using the 'r' argument to tell teh function that you want to read the file\n",
    "\n",
    "* providing an encoding so the function can read the file properly"
   ]
  },
  {
   "cell_type": "code",
   "execution_count": null,
   "metadata": {
    "collapsed": true
   },
   "outputs": [],
   "source": [
    "text_data = io.open('/Users/errollloyd/Downloads/random_file.txt', 'r', encoding='UTF-16').read()"
   ]
  },
  {
   "cell_type": "markdown",
   "metadata": {},
   "source": [
    "# NGrams — Capturing words that appear close to each other "
   ]
  },
  {
   "cell_type": "markdown",
   "metadata": {},
   "source": [
    "## Importing"
   ]
  },
  {
   "cell_type": "markdown",
   "metadata": {},
   "source": [
    "Importing the functions (or useful things) that we need ...\n",
    "\n",
    "They are:\n",
    "* ```ngrams()``` — From the ```nltk.collocations``` library\n",
    "* ```Counter()``` — The 'fantastic' function from the ```collections``` library"
   ]
  },
  {
   "cell_type": "code",
   "execution_count": 3,
   "metadata": {
    "collapsed": true
   },
   "outputs": [],
   "source": [
    "ngrams = nltk.collocations.ngrams\n",
    "\n",
    "from collections import Counter"
   ]
  },
  {
   "cell_type": "markdown",
   "metadata": {},
   "source": [
    "## How Counter Works"
   ]
  },
  {
   "cell_type": "markdown",
   "metadata": {},
   "source": [
    "```Counter()``` is a function.  It counts!  Give it anything with individual elements inside of it, and it will count how often each unique element occurs."
   ]
  },
  {
   "cell_type": "code",
   "execution_count": 11,
   "metadata": {},
   "outputs": [
    {
     "data": {
      "text/plain": [
       "Counter({1: 3, 2: 3, 3: 1, 4: 3})"
      ]
     },
     "execution_count": 11,
     "metadata": {},
     "output_type": "execute_result"
    }
   ],
   "source": [
    "data = [1, 1, 1, 2, 2, 2, 3, 4, 4, 4]\n",
    "Counter(data)"
   ]
  },
  {
   "cell_type": "code",
   "execution_count": 13,
   "metadata": {},
   "outputs": [
    {
     "data": {
      "text/plain": [
       "Counter({' ': 9,\n",
       "         ',': 1,\n",
       "         '?': 1,\n",
       "         'T': 1,\n",
       "         'a': 3,\n",
       "         'c': 2,\n",
       "         'e': 6,\n",
       "         'f': 1,\n",
       "         'h': 4,\n",
       "         'i': 3,\n",
       "         'm': 2,\n",
       "         'n': 1,\n",
       "         'o': 2,\n",
       "         'q': 1,\n",
       "         'r': 3,\n",
       "         's': 5,\n",
       "         't': 7,\n",
       "         'u': 1,\n",
       "         'w': 1,\n",
       "         'x': 1})"
      ]
     },
     "execution_count": 13,
     "metadata": {},
     "output_type": "execute_result"
    }
   ],
   "source": [
    "text = 'This is some text, what is the most frequent character?'\n",
    "Counter(text)"
   ]
  },
  {
   "cell_type": "markdown",
   "metadata": {},
   "source": [
    "To take out the results of Counter(), make a \"thing\" out of it."
   ]
  },
  {
   "cell_type": "code",
   "execution_count": 14,
   "metadata": {
    "collapsed": true
   },
   "outputs": [],
   "source": [
    "text = 'This is some text, what is the most frequent character?'\n",
    "text_counts = Counter(text)"
   ]
  },
  {
   "cell_type": "markdown",
   "metadata": {},
   "source": [
    "This \"thing\" now has built in functions and its frequency data can be dealt with repeatedly"
   ]
  },
  {
   "cell_type": "markdown",
   "metadata": {},
   "source": [
    "### Ordering according to Frequency"
   ]
  },
  {
   "cell_type": "code",
   "execution_count": 22,
   "metadata": {},
   "outputs": [
    {
     "data": {
      "text/plain": [
       "[(' ', 9),\n",
       " ('t', 7),\n",
       " ('e', 6),\n",
       " ('s', 5),\n",
       " ('h', 4),\n",
       " ('a', 3),\n",
       " ('i', 3),\n",
       " ('r', 3),\n",
       " ('c', 2),\n",
       " ('m', 2),\n",
       " ('o', 2),\n",
       " ('f', 1),\n",
       " (',', 1),\n",
       " ('n', 1),\n",
       " ('q', 1),\n",
       " ('u', 1),\n",
       " ('T', 1),\n",
       " ('w', 1),\n",
       " ('x', 1),\n",
       " ('?', 1)]"
      ]
     },
     "execution_count": 22,
     "metadata": {},
     "output_type": "execute_result"
    }
   ],
   "source": [
    "# Order in terms of frequency\n",
    "text_counts.most_common()"
   ]
  },
  {
   "cell_type": "code",
   "execution_count": 24,
   "metadata": {},
   "outputs": [
    {
     "data": {
      "text/plain": [
       "[(' ', 9), ('t', 7), ('e', 6)]"
      ]
     },
     "execution_count": 24,
     "metadata": {},
     "output_type": "execute_result"
    }
   ],
   "source": [
    "# Only the top three\n",
    "text_counts.most_common(3)"
   ]
  },
  {
   "cell_type": "markdown",
   "metadata": {},
   "source": [
    "### Pulling out individual elements and their frequency"
   ]
  },
  {
   "cell_type": "code",
   "execution_count": 36,
   "metadata": {},
   "outputs": [
    {
     "name": "stdout",
     "output_type": "stream",
     "text": [
      "a occurs 3 times\n",
      "  occurs 9 times\n",
      "c occurs 2 times\n",
      "e occurs 6 times\n",
      "f occurs 1 times\n",
      "i occurs 3 times\n",
      "h occurs 4 times\n",
      "m occurs 2 times\n",
      ", occurs 1 times\n",
      "o occurs 2 times\n",
      "n occurs 1 times\n",
      "q occurs 1 times\n",
      "s occurs 5 times\n",
      "r occurs 3 times\n",
      "u occurs 1 times\n",
      "T occurs 1 times\n",
      "w occurs 1 times\n",
      "x occurs 1 times\n",
      "? occurs 1 times\n",
      "t occurs 7 times\n"
     ]
    }
   ],
   "source": [
    "for element, frequency in text_counts.items():\n",
    "    print(element, 'occurs', frequency, 'times')"
   ]
  },
  {
   "cell_type": "markdown",
   "metadata": {},
   "source": [
    "### Pulling out individual elements in order of frequency"
   ]
  },
  {
   "cell_type": "code",
   "execution_count": 37,
   "metadata": {},
   "outputs": [
    {
     "name": "stdout",
     "output_type": "stream",
     "text": [
      "  occurs 9 times\n",
      "t occurs 7 times\n",
      "e occurs 6 times\n",
      "s occurs 5 times\n",
      "h occurs 4 times\n",
      "a occurs 3 times\n",
      "i occurs 3 times\n",
      "r occurs 3 times\n",
      "c occurs 2 times\n",
      "m occurs 2 times\n",
      "o occurs 2 times\n",
      "f occurs 1 times\n",
      ", occurs 1 times\n",
      "n occurs 1 times\n",
      "q occurs 1 times\n",
      "u occurs 1 times\n",
      "T occurs 1 times\n",
      "w occurs 1 times\n",
      "x occurs 1 times\n",
      "? occurs 1 times\n"
     ]
    }
   ],
   "source": [
    "for element, frequency in text_counts.most_common():\n",
    "    print(element, 'occurs', frequency, 'times')"
   ]
  },
  {
   "cell_type": "markdown",
   "metadata": {},
   "source": [
    "### Using Conditional Statements"
   ]
  },
  {
   "cell_type": "code",
   "execution_count": 39,
   "metadata": {},
   "outputs": [
    {
     "name": "stdout",
     "output_type": "stream",
     "text": [
      "t occurs 7 times\n",
      "e occurs 6 times\n",
      "s occurs 5 times\n",
      "h occurs 4 times\n",
      "a occurs 3 times\n",
      "i occurs 3 times\n",
      "r occurs 3 times\n",
      "c occurs 2 times\n",
      "m occurs 2 times\n",
      "o occurs 2 times\n"
     ]
    }
   ],
   "source": [
    "for element, frequency in text_counts.most_common():\n",
    "    \n",
    "    # Only occuring more than once, and only if a letter and not punctuation\n",
    "    \n",
    "    if frequency > 1 and element.isalpha():\n",
    "        print(element, 'occurs', frequency, 'times')"
   ]
  },
  {
   "cell_type": "markdown",
   "metadata": {},
   "source": [
    "### Using Conditional Statements and fancy list comprehensions"
   ]
  },
  {
   "cell_type": "code",
   "execution_count": 63,
   "metadata": {},
   "outputs": [],
   "source": [
    "common_letters = [(text_element, frequency) for text_element, frequency in text_counts.items() if frequency > 2 and text_element.isalpha()]"
   ]
  },
  {
   "cell_type": "code",
   "execution_count": 64,
   "metadata": {},
   "outputs": [
    {
     "data": {
      "text/plain": [
       "[('a', 3), ('e', 6), ('i', 3), ('h', 4), ('s', 5), ('r', 3), ('t', 7)]"
      ]
     },
     "execution_count": 64,
     "metadata": {},
     "output_type": "execute_result"
    }
   ],
   "source": [
    "common_letters"
   ]
  },
  {
   "cell_type": "code",
   "execution_count": 66,
   "metadata": {},
   "outputs": [
    {
     "name": "stdout",
     "output_type": "stream",
     "text": [
      "a occurs 3 times\n",
      "e occurs 6 times\n",
      "i occurs 3 times\n",
      "h occurs 4 times\n",
      "s occurs 5 times\n",
      "r occurs 3 times\n",
      "t occurs 7 times\n"
     ]
    }
   ],
   "source": [
    "for letter, frequency in common_letters:\n",
    "    print(letter, 'occurs', frequency, 'times')"
   ]
  },
  {
   "cell_type": "markdown",
   "metadata": {},
   "source": [
    "## How ngrams() works"
   ]
  },
  {
   "cell_type": "markdown",
   "metadata": {},
   "source": [
    "```ngrams()``` pulls out adjacent elements from your text data. \n",
    "\n",
    "Each list of adjacent elements is an \"ngram\".\n",
    "\n",
    "You control which text data and how many adjacent elements.\n",
    "\n",
    "So, for instance, if I wanted to know if \"freedom\" and \"white\" occured within 10 words of each other more often than \"freedom\" and \"arab\" ... I would grab the ngrams of size 10 and count how many had each pair of words."
   ]
  },
  {
   "cell_type": "markdown",
   "metadata": {},
   "source": [
    "### Usage"
   ]
  },
  {
   "cell_type": "markdown",
   "metadata": {},
   "source": [
    "Dealing first with basic text data, each element will be an individual character"
   ]
  },
  {
   "cell_type": "code",
   "execution_count": 46,
   "metadata": {},
   "outputs": [
    {
     "data": {
      "text/plain": [
       "'This is some text, what is the most frequent character?'"
      ]
     },
     "execution_count": 46,
     "metadata": {},
     "output_type": "execute_result"
    }
   ],
   "source": [
    "text"
   ]
  },
  {
   "cell_type": "markdown",
   "metadata": {},
   "source": [
    "The output of ```ngrams()``` needs to be converted to a list using the ```list()``` function"
   ]
  },
  {
   "cell_type": "code",
   "execution_count": 48,
   "metadata": {},
   "outputs": [
    {
     "data": {
      "text/plain": [
       "[('T', 'h', 'i'),\n",
       " ('h', 'i', 's'),\n",
       " ('i', 's', ' '),\n",
       " ('s', ' ', 'i'),\n",
       " (' ', 'i', 's'),\n",
       " ('i', 's', ' '),\n",
       " ('s', ' ', 's'),\n",
       " (' ', 's', 'o'),\n",
       " ('s', 'o', 'm'),\n",
       " ('o', 'm', 'e'),\n",
       " ('m', 'e', ' '),\n",
       " ('e', ' ', 't'),\n",
       " (' ', 't', 'e'),\n",
       " ('t', 'e', 'x'),\n",
       " ('e', 'x', 't'),\n",
       " ('x', 't', ','),\n",
       " ('t', ',', ' '),\n",
       " (',', ' ', 'w'),\n",
       " (' ', 'w', 'h'),\n",
       " ('w', 'h', 'a'),\n",
       " ('h', 'a', 't'),\n",
       " ('a', 't', ' '),\n",
       " ('t', ' ', 'i'),\n",
       " (' ', 'i', 's'),\n",
       " ('i', 's', ' '),\n",
       " ('s', ' ', 't'),\n",
       " (' ', 't', 'h'),\n",
       " ('t', 'h', 'e'),\n",
       " ('h', 'e', ' '),\n",
       " ('e', ' ', 'm'),\n",
       " (' ', 'm', 'o'),\n",
       " ('m', 'o', 's'),\n",
       " ('o', 's', 't'),\n",
       " ('s', 't', ' '),\n",
       " ('t', ' ', 'f'),\n",
       " (' ', 'f', 'r'),\n",
       " ('f', 'r', 'e'),\n",
       " ('r', 'e', 'q'),\n",
       " ('e', 'q', 'u'),\n",
       " ('q', 'u', 'e'),\n",
       " ('u', 'e', 'n'),\n",
       " ('e', 'n', 't'),\n",
       " ('n', 't', ' '),\n",
       " ('t', ' ', 'c'),\n",
       " (' ', 'c', 'h'),\n",
       " ('c', 'h', 'a'),\n",
       " ('h', 'a', 'r'),\n",
       " ('a', 'r', 'a'),\n",
       " ('r', 'a', 'c'),\n",
       " ('a', 'c', 't'),\n",
       " ('c', 't', 'e'),\n",
       " ('t', 'e', 'r'),\n",
       " ('e', 'r', '?')]"
      ]
     },
     "execution_count": 48,
     "metadata": {},
     "output_type": "execute_result"
    }
   ],
   "source": [
    "list(ngrams(text, 3))"
   ]
  },
  {
   "cell_type": "code",
   "execution_count": 49,
   "metadata": {},
   "outputs": [
    {
     "data": {
      "text/plain": [
       "[('T', 'h', 'i', 's', ' ', 'i', 's', ' ', 's', 'o'),\n",
       " ('h', 'i', 's', ' ', 'i', 's', ' ', 's', 'o', 'm'),\n",
       " ('i', 's', ' ', 'i', 's', ' ', 's', 'o', 'm', 'e'),\n",
       " ('s', ' ', 'i', 's', ' ', 's', 'o', 'm', 'e', ' '),\n",
       " (' ', 'i', 's', ' ', 's', 'o', 'm', 'e', ' ', 't'),\n",
       " ('i', 's', ' ', 's', 'o', 'm', 'e', ' ', 't', 'e'),\n",
       " ('s', ' ', 's', 'o', 'm', 'e', ' ', 't', 'e', 'x'),\n",
       " (' ', 's', 'o', 'm', 'e', ' ', 't', 'e', 'x', 't'),\n",
       " ('s', 'o', 'm', 'e', ' ', 't', 'e', 'x', 't', ','),\n",
       " ('o', 'm', 'e', ' ', 't', 'e', 'x', 't', ',', ' '),\n",
       " ('m', 'e', ' ', 't', 'e', 'x', 't', ',', ' ', 'w'),\n",
       " ('e', ' ', 't', 'e', 'x', 't', ',', ' ', 'w', 'h'),\n",
       " (' ', 't', 'e', 'x', 't', ',', ' ', 'w', 'h', 'a'),\n",
       " ('t', 'e', 'x', 't', ',', ' ', 'w', 'h', 'a', 't'),\n",
       " ('e', 'x', 't', ',', ' ', 'w', 'h', 'a', 't', ' '),\n",
       " ('x', 't', ',', ' ', 'w', 'h', 'a', 't', ' ', 'i'),\n",
       " ('t', ',', ' ', 'w', 'h', 'a', 't', ' ', 'i', 's'),\n",
       " (',', ' ', 'w', 'h', 'a', 't', ' ', 'i', 's', ' '),\n",
       " (' ', 'w', 'h', 'a', 't', ' ', 'i', 's', ' ', 't'),\n",
       " ('w', 'h', 'a', 't', ' ', 'i', 's', ' ', 't', 'h'),\n",
       " ('h', 'a', 't', ' ', 'i', 's', ' ', 't', 'h', 'e'),\n",
       " ('a', 't', ' ', 'i', 's', ' ', 't', 'h', 'e', ' '),\n",
       " ('t', ' ', 'i', 's', ' ', 't', 'h', 'e', ' ', 'm'),\n",
       " (' ', 'i', 's', ' ', 't', 'h', 'e', ' ', 'm', 'o'),\n",
       " ('i', 's', ' ', 't', 'h', 'e', ' ', 'm', 'o', 's'),\n",
       " ('s', ' ', 't', 'h', 'e', ' ', 'm', 'o', 's', 't'),\n",
       " (' ', 't', 'h', 'e', ' ', 'm', 'o', 's', 't', ' '),\n",
       " ('t', 'h', 'e', ' ', 'm', 'o', 's', 't', ' ', 'f'),\n",
       " ('h', 'e', ' ', 'm', 'o', 's', 't', ' ', 'f', 'r'),\n",
       " ('e', ' ', 'm', 'o', 's', 't', ' ', 'f', 'r', 'e'),\n",
       " (' ', 'm', 'o', 's', 't', ' ', 'f', 'r', 'e', 'q'),\n",
       " ('m', 'o', 's', 't', ' ', 'f', 'r', 'e', 'q', 'u'),\n",
       " ('o', 's', 't', ' ', 'f', 'r', 'e', 'q', 'u', 'e'),\n",
       " ('s', 't', ' ', 'f', 'r', 'e', 'q', 'u', 'e', 'n'),\n",
       " ('t', ' ', 'f', 'r', 'e', 'q', 'u', 'e', 'n', 't'),\n",
       " (' ', 'f', 'r', 'e', 'q', 'u', 'e', 'n', 't', ' '),\n",
       " ('f', 'r', 'e', 'q', 'u', 'e', 'n', 't', ' ', 'c'),\n",
       " ('r', 'e', 'q', 'u', 'e', 'n', 't', ' ', 'c', 'h'),\n",
       " ('e', 'q', 'u', 'e', 'n', 't', ' ', 'c', 'h', 'a'),\n",
       " ('q', 'u', 'e', 'n', 't', ' ', 'c', 'h', 'a', 'r'),\n",
       " ('u', 'e', 'n', 't', ' ', 'c', 'h', 'a', 'r', 'a'),\n",
       " ('e', 'n', 't', ' ', 'c', 'h', 'a', 'r', 'a', 'c'),\n",
       " ('n', 't', ' ', 'c', 'h', 'a', 'r', 'a', 'c', 't'),\n",
       " ('t', ' ', 'c', 'h', 'a', 'r', 'a', 'c', 't', 'e'),\n",
       " (' ', 'c', 'h', 'a', 'r', 'a', 'c', 't', 'e', 'r'),\n",
       " ('c', 'h', 'a', 'r', 'a', 'c', 't', 'e', 'r', '?')]"
      ]
     },
     "execution_count": 49,
     "metadata": {},
     "output_type": "execute_result"
    }
   ],
   "source": [
    "list(ngrams(text, 10))"
   ]
  },
  {
   "cell_type": "markdown",
   "metadata": {},
   "source": [
    "### Counting ngrams"
   ]
  },
  {
   "cell_type": "markdown",
   "metadata": {},
   "source": [
    "What's interesting for us is which ngrams occur multiple times.\n",
    "\n",
    "To do this, we convert the output of ```ngrams()``` to a list, and then use ```Counter()``` on it\n"
   ]
  },
  {
   "cell_type": "code",
   "execution_count": 50,
   "metadata": {
    "collapsed": true
   },
   "outputs": [],
   "source": [
    "text_ng_count = Counter(list(ngrams(text, 2)))"
   ]
  },
  {
   "cell_type": "code",
   "execution_count": 53,
   "metadata": {},
   "outputs": [
    {
     "data": {
      "text/plain": [
       "[(('s', ' '), 3),\n",
       " (('t', ' '), 3),\n",
       " (('i', 's'), 3),\n",
       " ((' ', 't'), 2),\n",
       " (('h', 'a'), 2),\n",
       " (('e', ' '), 2),\n",
       " (('t', 'e'), 2),\n",
       " ((' ', 'i'), 2),\n",
       " (('n', 't'), 1),\n",
       " (('h', 'i'), 1)]"
      ]
     },
     "execution_count": 53,
     "metadata": {},
     "output_type": "execute_result"
    }
   ],
   "source": [
    "text_ng_count.most_common(10)"
   ]
  },
  {
   "cell_type": "markdown",
   "metadata": {},
   "source": [
    "### Analysing ngram counts"
   ]
  },
  {
   "cell_type": "markdown",
   "metadata": {},
   "source": [
    "Is the letter 'h' followed only by consonants or vowels?\n",
    "\n",
    "Notice the use of ```counts.items()```"
   ]
  },
  {
   "cell_type": "code",
   "execution_count": 77,
   "metadata": {},
   "outputs": [
    {
     "data": {
      "text/plain": [
       "[('h', 'i'), ('h', 'e'), ('h', 'a')]"
      ]
     },
     "execution_count": 77,
     "metadata": {},
     "output_type": "execute_result"
    }
   ],
   "source": [
    "[ngram for ngram, frequency in text_ng_count.items() if ngram[0] == 'h']"
   ]
  },
  {
   "cell_type": "markdown",
   "metadata": {},
   "source": [
    "What occurs before the letter 'e'"
   ]
  },
  {
   "cell_type": "code",
   "execution_count": 79,
   "metadata": {},
   "outputs": [
    {
     "data": {
      "text/plain": [
       "[(('r', 'e'), 1),\n",
       " (('h', 'e'), 1),\n",
       " (('u', 'e'), 1),\n",
       " (('t', 'e'), 2),\n",
       " (('m', 'e'), 1)]"
      ]
     },
     "execution_count": 79,
     "metadata": {},
     "output_type": "execute_result"
    }
   ],
   "source": [
    "[(ngram, frequency) for ngram, frequency in text_ng_count.items() if ngram[1] == 'e']"
   ]
  },
  {
   "cell_type": "markdown",
   "metadata": {},
   "source": [
    "## Example With Tokens"
   ]
  },
  {
   "cell_type": "code",
   "execution_count": 85,
   "metadata": {
    "collapsed": true
   },
   "outputs": [],
   "source": [
    "from nltk.tokenize.casual import casual_tokenize"
   ]
  },
  {
   "cell_type": "markdown",
   "metadata": {},
   "source": [
    "The Introduction to Trump's Wikipedia Page"
   ]
  },
  {
   "cell_type": "code",
   "execution_count": 86,
   "metadata": {
    "collapsed": true
   },
   "outputs": [],
   "source": [
    "trump_wiki = \"Trump was born in Queens, New York City and earned an economics degree from the Wharton School. For 45 years, he managed The Trump Organization, the real estate development firm founded by his paternal grandmother. His career focused on building or renovating office towers, hotels, casinos, and golf courses. He started several side ventures and branded various products with his firm's name. He produced and hosted The Apprentice television show for 12 years. As of 2017, he was the 544th richest person in the world with an estimated net worth of $3.5 billion.  Trump had long expressed interest in politics; he eventually entered the 2016 presidential race as a Republican and defeated sixteen opponents in the primaries. Commentators described his political positions as populist, protectionist, and nationalist. His campaign received extensive free media coverage; many of his public statements were controversial or false. Trump won the general election on November 8, 2016, in a surprise victory against Democratic candidate Hillary Clinton. He became the oldest and wealthiest person ever to assume the presidency, the first without prior military or government service, and the fifth to have won the election despite losing the popular vote. His election and policies sparked numerous protests. Russia attempted to influence the election to favor Trump.  In the first months of his presidency, Trump reversed several policies of former President Barack Obama, withdrawing the United States from the Trans-Pacific Partnership and the Paris Climate Agreement and undoing parts of the Cuban Thaw. Trump appointed Neil Gorsuch to the Supreme Court. He ordered a travel ban on citizens from six Muslim-majority countries that has been partially implemented.[2] After Trump dismissed FBI Director James Comey, Deputy Attorney General Rod Rosenstein appointed former FBI Director Robert Mueller as Special Counsel to investigate coordination between the Russian government and the Trump campaign.\""
   ]
  },
  {
   "cell_type": "code",
   "execution_count": 87,
   "metadata": {},
   "outputs": [
    {
     "data": {
      "text/plain": [
       "\"Trump was born in Queens, New York City and earned an economics degree from the Wharton School. For 45 years, he managed The Trump Organization, the real estate development firm founded by his paternal grandmother. His career focused on building or renovating office towers, hotels, casinos, and golf courses. He started several side ventures and branded various products with his firm's name. He produced and hosted The Apprentice television show for 12 years. As of 2017, he was the 544th richest person in the world with an estimated net worth of $3.5 billion.  Trump had long expressed interest in politics; he eventually entered the 2016 presidential race as a Republican and defeated sixteen opponents in the primaries. Commentators described his political positions as populist, protectionist, and nationalist. His campaign received extensive free media coverage; many of his public statements were controversial or false. Trump won the general election on November 8, 2016, in a surprise victory against Democratic candidate Hillary Clinton. He became the oldest and wealthiest person ever to assume the presidency, the first without prior military or government service, and the fifth to have won the election despite losing the popular vote. His election and policies sparked numerous protests. Russia attempted to influence the election to favor Trump.  In the first months of his presidency, Trump reversed several policies of former President Barack Obama, withdrawing the United States from the Trans-Pacific Partnership and the Paris Climate Agreement and undoing parts of the Cuban Thaw. Trump appointed Neil Gorsuch to the Supreme Court. He ordered a travel ban on citizens from six Muslim-majority countries that has been partially implemented.[2] After Trump dismissed FBI Director James Comey, Deputy Attorney General Rod Rosenstein appointed former FBI Director Robert Mueller as Special Counsel to investigate coordination between the Russian government and the Trump campaign.\""
      ]
     },
     "execution_count": 87,
     "metadata": {},
     "output_type": "execute_result"
    }
   ],
   "source": [
    "trump_wiki"
   ]
  },
  {
   "cell_type": "markdown",
   "metadata": {},
   "source": [
    "### Tokenising"
   ]
  },
  {
   "cell_type": "code",
   "execution_count": 88,
   "metadata": {
    "collapsed": true
   },
   "outputs": [],
   "source": [
    "trump_wiki_tokens = casual_tokenize(trump_wiki)"
   ]
  },
  {
   "cell_type": "code",
   "execution_count": 90,
   "metadata": {},
   "outputs": [
    {
     "data": {
      "text/plain": [
       "[u'Trump',\n",
       " u'was',\n",
       " u'born',\n",
       " u'in',\n",
       " u'Queens',\n",
       " u',',\n",
       " u'New',\n",
       " u'York',\n",
       " u'City',\n",
       " u'and',\n",
       " u'earned',\n",
       " u'an',\n",
       " u'economics',\n",
       " u'degree',\n",
       " u'from',\n",
       " u'the',\n",
       " u'Wharton',\n",
       " u'School',\n",
       " u'.',\n",
       " u'For']"
      ]
     },
     "execution_count": 90,
     "metadata": {},
     "output_type": "execute_result"
    }
   ],
   "source": [
    "trump_wiki_tokens[:20]"
   ]
  },
  {
   "cell_type": "code",
   "execution_count": 93,
   "metadata": {},
   "outputs": [
    {
     "data": {
      "text/plain": [
       "[u'trump',\n",
       " u'was',\n",
       " u'born',\n",
       " u'in',\n",
       " u'queens',\n",
       " u'new',\n",
       " u'york',\n",
       " u'city',\n",
       " u'and',\n",
       " u'earned',\n",
       " u'an',\n",
       " u'economics',\n",
       " u'degree',\n",
       " u'from',\n",
       " u'the',\n",
       " u'wharton',\n",
       " u'school',\n",
       " u'for',\n",
       " u'years',\n",
       " u'he']"
      ]
     },
     "execution_count": 93,
     "metadata": {},
     "output_type": "execute_result"
    }
   ],
   "source": [
    "cleaned_trump_wiki_tokens = [tok.lower() for tok in trump_wiki_tokens if tok.isalpha()]\n",
    "cleaned_trump_wiki_tokens[:20]"
   ]
  },
  {
   "cell_type": "markdown",
   "metadata": {},
   "source": [
    "### Common Bi-Grams (ie two element or word ngrams)"
   ]
  },
  {
   "cell_type": "code",
   "execution_count": 116,
   "metadata": {
    "collapsed": true
   },
   "outputs": [],
   "source": [
    "ng_trump_wiki = list(ngrams(cleaned_trump_wiki_tokens, 2))"
   ]
  },
  {
   "cell_type": "code",
   "execution_count": 117,
   "metadata": {},
   "outputs": [],
   "source": [
    "count_ng_trump_wiki = Counter(ng_trump_wiki)"
   ]
  },
  {
   "cell_type": "code",
   "execution_count": 119,
   "metadata": {},
   "outputs": [
    {
     "data": {
      "text/plain": [
       "[((u'and', u'the'), 3),\n",
       " ((u'in', u'the'), 3),\n",
       " ((u'fbi', u'director'), 2),\n",
       " ((u'the', u'first'), 2),\n",
       " ((u'the', u'election'), 2),\n",
       " ((u'from', u'the'), 2),\n",
       " ((u'won', u'the'), 2),\n",
       " ((u'the', u'trump'), 2),\n",
       " ((u'for', u'years'), 2),\n",
       " ((u'of', u'his'), 2),\n",
       " ((u'victory', u'against'), 1),\n",
       " ((u'an', u'estimated'), 1),\n",
       " ((u'to', u'assume'), 1),\n",
       " ((u'was', u'born'), 1),\n",
       " ((u'military', u'or'), 1)]"
      ]
     },
     "execution_count": 119,
     "metadata": {},
     "output_type": "execute_result"
    }
   ],
   "source": [
    "count_ng_trump_wiki.most_common(15)"
   ]
  },
  {
   "cell_type": "markdown",
   "metadata": {},
   "source": [
    "**fbi director** and **the first** both occur relatively frequently ... telling?"
   ]
  },
  {
   "cell_type": "markdown",
   "metadata": {},
   "source": [
    "### Common words around \"trump\""
   ]
  },
  {
   "cell_type": "code",
   "execution_count": 120,
   "metadata": {
    "collapsed": true
   },
   "outputs": [],
   "source": [
    "ng_trump_wiki = list(ngrams(cleaned_trump_wiki_tokens, 10))"
   ]
  },
  {
   "cell_type": "code",
   "execution_count": 121,
   "metadata": {},
   "outputs": [],
   "source": [
    "count_ng_trump_wiki = Counter(ng_trump_wiki)"
   ]
  },
  {
   "cell_type": "markdown",
   "metadata": {},
   "source": [
    "As we have generated ngrams of size 10, from a relatively small piece of text, none of them will be identical, and they will all have occurred only once.  \n",
    "\n",
    "Simply Counting the ngrams doesn't tell us anything"
   ]
  },
  {
   "cell_type": "code",
   "execution_count": 123,
   "metadata": {},
   "outputs": [
    {
     "data": {
      "text/plain": [
       "[((u'an',\n",
       "   u'economics',\n",
       "   u'degree',\n",
       "   u'from',\n",
       "   u'the',\n",
       "   u'wharton',\n",
       "   u'school',\n",
       "   u'for',\n",
       "   u'years',\n",
       "   u'he'),\n",
       "  1),\n",
       " ((u'from',\n",
       "   u'the',\n",
       "   u'partnership',\n",
       "   u'and',\n",
       "   u'the',\n",
       "   u'paris',\n",
       "   u'climate',\n",
       "   u'agreement',\n",
       "   u'and',\n",
       "   u'undoing'),\n",
       "  1),\n",
       " ((u'his',\n",
       "   u'career',\n",
       "   u'focused',\n",
       "   u'on',\n",
       "   u'building',\n",
       "   u'or',\n",
       "   u'renovating',\n",
       "   u'office',\n",
       "   u'towers',\n",
       "   u'hotels'),\n",
       "  1)]"
      ]
     },
     "execution_count": 123,
     "metadata": {},
     "output_type": "execute_result"
    }
   ],
   "source": [
    "count_ng_trump_wiki.most_common(3)"
   ]
  },
  {
   "cell_type": "markdown",
   "metadata": {},
   "source": [
    "#### Extracting the ngrams with the word 'trump'"
   ]
  },
  {
   "cell_type": "code",
   "execution_count": 129,
   "metadata": {},
   "outputs": [],
   "source": [
    "ng_trump_wiki_with_trump = [ng for ng in ng_trump_wiki if 'trump' in ng]"
   ]
  },
  {
   "cell_type": "code",
   "execution_count": 130,
   "metadata": {},
   "outputs": [
    {
     "data": {
      "text/plain": [
       "(282, 71)"
      ]
     },
     "execution_count": 130,
     "metadata": {},
     "output_type": "execute_result"
    }
   ],
   "source": [
    "len(ng_trump_wiki), len(ng_trump_wiki_with_trump)"
   ]
  },
  {
   "cell_type": "code",
   "execution_count": 131,
   "metadata": {},
   "outputs": [
    {
     "data": {
      "text/plain": [
       "(u'trump',\n",
       " u'was',\n",
       " u'born',\n",
       " u'in',\n",
       " u'queens',\n",
       " u'new',\n",
       " u'york',\n",
       " u'city',\n",
       " u'and',\n",
       " u'earned')"
      ]
     },
     "execution_count": 131,
     "metadata": {},
     "output_type": "execute_result"
    }
   ],
   "source": [
    "ng_trump_wiki_with_trump[0]"
   ]
  },
  {
   "cell_type": "markdown",
   "metadata": {},
   "source": [
    "#### Collecting all the words in all the trump ngrams"
   ]
  },
  {
   "cell_type": "code",
   "execution_count": 135,
   "metadata": {
    "collapsed": true
   },
   "outputs": [],
   "source": [
    "# Start the empty list into which all words will be added\n",
    "all_words = []\n",
    "\n",
    "# go through each ngram\n",
    "for ngram in ng_trump_wiki_with_trump:\n",
    "    \n",
    "    # go through each word in each ngram\n",
    "    for word in ngram:\n",
    "        \n",
    "        # add each word to the all_words list\n",
    "        all_words.append(word)"
   ]
  },
  {
   "cell_type": "code",
   "execution_count": 136,
   "metadata": {},
   "outputs": [
    {
     "data": {
      "text/plain": [
       "710"
      ]
     },
     "execution_count": 136,
     "metadata": {},
     "output_type": "execute_result"
    }
   ],
   "source": [
    "len(all_words)"
   ]
  },
  {
   "cell_type": "markdown",
   "metadata": {},
   "source": [
    "#### Clean or normalise the words"
   ]
  },
  {
   "cell_type": "code",
   "execution_count": 139,
   "metadata": {
    "collapsed": true
   },
   "outputs": [],
   "source": [
    "from nltk.corpus import stopwords"
   ]
  },
  {
   "cell_type": "code",
   "execution_count": 161,
   "metadata": {},
   "outputs": [],
   "source": [
    "stop_words = stopwords.words() + ['trump']"
   ]
  },
  {
   "cell_type": "code",
   "execution_count": 162,
   "metadata": {
    "collapsed": true
   },
   "outputs": [],
   "source": [
    "cleaned_all_words = [word for word in all_words if word not in stop_words]"
   ]
  },
  {
   "cell_type": "markdown",
   "metadata": {},
   "source": [
    "#### Count The Trump Associated Words"
   ]
  },
  {
   "cell_type": "code",
   "execution_count": 163,
   "metadata": {
    "collapsed": true
   },
   "outputs": [],
   "source": [
    "count_trump_words = Counter(cleaned_all_words)"
   ]
  },
  {
   "cell_type": "code",
   "execution_count": 164,
   "metadata": {},
   "outputs": [
    {
     "data": {
      "text/plain": [
       "[(u'election', 13),\n",
       " (u'presidency', 10),\n",
       " (u'months', 10),\n",
       " (u'first', 10),\n",
       " (u'favor', 9)]"
      ]
     },
     "execution_count": 164,
     "metadata": {},
     "output_type": "execute_result"
    }
   ],
   "source": [
    "count_trump_words.most_common(5)"
   ]
  },
  {
   "cell_type": "markdown",
   "metadata": {},
   "source": [
    "### Analysis"
   ]
  },
  {
   "cell_type": "code",
   "execution_count": 165,
   "metadata": {
    "collapsed": true
   },
   "outputs": [],
   "source": [
    "frequent_words = [word_count[0] for word_count in count_trump_words.most_common(5)]\n",
    "frequency = [word_count[1] for word_count in count_trump_words.most_common(5)]"
   ]
  },
  {
   "cell_type": "code",
   "execution_count": 168,
   "metadata": {},
   "outputs": [
    {
     "data": {
      "text/plain": [
       "<matplotlib.text.Text at 0x11716ba10>"
      ]
     },
     "execution_count": 168,
     "metadata": {},
     "output_type": "execute_result"
    },
    {
     "data": {
      "image/png": "[encoded data removed]",
      "text/plain": [
       "<matplotlib.figure.Figure at 0x1169a0810>"
      ]
     },
     "metadata": {},
     "output_type": "display_data"
    }
   ],
   "source": [
    "plt.bar(range(len(frequent_words)) ,frequency)\n",
    "plt.xticks(range(len(frequent_words)) , frequent_words);\n",
    "\n",
    "plt.title('Most Common Words Around Trump')"
   ]
  },
  {
   "cell_type": "markdown",
   "metadata": {},
   "source": [
    "Clearly his most recent actions as a candidate and president dominate his wikipedia page, as well as the novelty of his success (to which 'months' and 'first' presumably refer)"
   ]
  },
  {
   "cell_type": "code",
   "execution_count": null,
   "metadata": {
    "collapsed": true
   },
   "outputs": [],
   "source": []
  }
 ],
 "metadata": {
  "hide_input": false,
  "kernelspec": {
   "display_name": "Python 3",
   "language": "python",
   "name": "python3"
  },
  "language_info": {
   "codemirror_mode": {
    "name": "ipython",
    "version": 3
   },
   "file_extension": ".py",
   "mimetype": "text/x-python",
   "name": "python",
   "nbconvert_exporter": "python",
   "pygments_lexer": "ipython3",
   "version": "3.6.1"
  },
  "toc": {
   "colors": {
    "hover_highlight": "#DAA520",
    "running_highlight": "#FF0000",
    "selected_highlight": "#FFD700"
   },
   "moveMenuLeft": true,
   "nav_menu": {
    "height": "12px",
    "width": "252px"
   },
   "navigate_menu": true,
   "number_sections": true,
   "sideBar": true,
   "threshold": 4,
   "toc_cell": true,
   "toc_position": {
    "height": "333px",
    "left": "0px",
    "right": "auto",
    "top": "106px",
    "width": "209px"
   },
   "toc_section_display": "block",
   "toc_window_display": true,
   "widenNotebook": false
  },
  "varInspector": {
   "cols": {
    "lenName": 16,
    "lenType": 16,
    "lenVar": 40
   },
   "kernels_config": {
    "python": {
     "delete_cmd_postfix": "",
     "delete_cmd_prefix": "del ",
     "library": "var_list.py",
     "varRefreshCmd": "print(var_dic_list())"
    },
    "r": {
     "delete_cmd_postfix": ") ",
     "delete_cmd_prefix": "rm(",
     "library": "var_list.r",
     "varRefreshCmd": "cat(var_dic_list()) "
    }
   },
   "position": {
    "height": "321px",
    "left": "831px",
    "right": "20px",
    "top": "62px",
    "width": "433px"
   },
   "types_to_exclude": [
    "module",
    "function",
    "builtin_function_or_method",
    "instance",
    "_Feature"
   ],
   "window_display": false
  }
 },
 "nbformat": 4,
 "nbformat_minor": 2
}
